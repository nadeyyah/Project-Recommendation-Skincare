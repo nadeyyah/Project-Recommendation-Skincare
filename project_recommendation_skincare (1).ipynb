{
  "cells": [
    {
      "cell_type": "markdown",
      "metadata": {
        "id": "yikcJvPEwa71"
      },
      "source": [
        "# Import Libary"
      ]
    },
    {
      "cell_type": "markdown",
      "metadata": {
        "id": "rgooHIm2Klxg"
      },
      "source": [
        "*Script* di bawah ini bertujuan untuk melakukan *import* atau memanggil *library* untuk membantu analisis, terdiri atas *data manipulation*, *data visualization*, *modeling*, dan *loading data* eksternal dari *kaggle*."
      ]
    },
    {
      "cell_type": "code",
      "execution_count": null,
      "metadata": {
        "colab": {
          "base_uri": "https://localhost:8080/"
        },
        "execution": {
          "iopub.execute_input": "2025-05-29T01:51:26.061823Z",
          "iopub.status.busy": "2025-05-29T01:51:26.061154Z",
          "iopub.status.idle": "2025-05-29T01:51:30.262026Z",
          "shell.execute_reply": "2025-05-29T01:51:30.260674Z",
          "shell.execute_reply.started": "2025-05-29T01:51:26.061795Z"
        },
        "id": "vERNOODEO-LS",
        "outputId": "9ed65b36-6c9e-4927-82a9-8b97cc2647a9",
        "trusted": true
      },
      "outputs": [
        {
          "name": "stdout",
          "output_type": "stream",
          "text": [
            "Requirement already satisfied: scikit-learn in /usr/local/lib/python3.11/dist-packages (1.2.2)\n",
            "Requirement already satisfied: scipy in /usr/local/lib/python3.11/dist-packages (1.15.2)\n",
            "Requirement already satisfied: tabulate in /usr/local/lib/python3.11/dist-packages (0.9.0)\n",
            "Requirement already satisfied: numpy>=1.17.3 in /usr/local/lib/python3.11/dist-packages (from scikit-learn) (1.26.4)\n",
            "Requirement already satisfied: joblib>=1.1.1 in /usr/local/lib/python3.11/dist-packages (from scikit-learn) (1.5.0)\n",
            "Requirement already satisfied: threadpoolctl>=2.0.0 in /usr/local/lib/python3.11/dist-packages (from scikit-learn) (3.6.0)\n",
            "Requirement already satisfied: mkl_fft in /usr/local/lib/python3.11/dist-packages (from numpy>=1.17.3->scikit-learn) (1.3.8)\n",
            "Requirement already satisfied: mkl_random in /usr/local/lib/python3.11/dist-packages (from numpy>=1.17.3->scikit-learn) (1.2.4)\n",
            "Requirement already satisfied: mkl_umath in /usr/local/lib/python3.11/dist-packages (from numpy>=1.17.3->scikit-learn) (0.1.1)\n",
            "Requirement already satisfied: mkl in /usr/local/lib/python3.11/dist-packages (from numpy>=1.17.3->scikit-learn) (2025.1.0)\n",
            "Requirement already satisfied: tbb4py in /usr/local/lib/python3.11/dist-packages (from numpy>=1.17.3->scikit-learn) (2022.1.0)\n",
            "Requirement already satisfied: mkl-service in /usr/local/lib/python3.11/dist-packages (from numpy>=1.17.3->scikit-learn) (2.4.1)\n",
            "Requirement already satisfied: intel-openmp<2026,>=2024 in /usr/local/lib/python3.11/dist-packages (from mkl->numpy>=1.17.3->scikit-learn) (2024.2.0)\n",
            "Requirement already satisfied: tbb==2022.* in /usr/local/lib/python3.11/dist-packages (from mkl->numpy>=1.17.3->scikit-learn) (2022.1.0)\n",
            "Requirement already satisfied: tcmlib==1.* in /usr/local/lib/python3.11/dist-packages (from tbb==2022.*->mkl->numpy>=1.17.3->scikit-learn) (1.3.0)\n",
            "Requirement already satisfied: intel-cmplr-lib-rt in /usr/local/lib/python3.11/dist-packages (from mkl_umath->numpy>=1.17.3->scikit-learn) (2024.2.0)\n",
            "Requirement already satisfied: intel-cmplr-lib-ur==2024.2.0 in /usr/local/lib/python3.11/dist-packages (from intel-openmp<2026,>=2024->mkl->numpy>=1.17.3->scikit-learn) (2024.2.0)\n"
          ]
        }
      ],
      "source": [
        "# Installing some library\n",
        "!pip install scikit-learn scipy tabulate"
      ]
    },
    {
      "cell_type": "code",
      "execution_count": null,
      "metadata": {
        "execution": {
          "iopub.execute_input": "2025-05-29T01:51:30.264861Z",
          "iopub.status.busy": "2025-05-29T01:51:30.264410Z",
          "iopub.status.idle": "2025-05-29T01:51:30.273867Z",
          "shell.execute_reply": "2025-05-29T01:51:30.272863Z",
          "shell.execute_reply.started": "2025-05-29T01:51:30.264796Z"
        },
        "id": "2pxZQQYiuCTz",
        "trusted": true
      },
      "outputs": [],
      "source": [
        "# Data manipulation\n",
        "import pandas as pd\n",
        "import numpy as np\n",
        "import os\n",
        "# Data visualization\n",
        "import matplotlib.pyplot as plt\n",
        "import seaborn as sns\n",
        "# Modeling (Machine Learning)\n",
        "from sklearn.model_selection import train_test_split\n",
        "from sklearn.metrics.pairwise import cosine_similarity\n",
        "from sklearn.feature_extraction.text import TfidfVectorizer\n",
        "from sklearn.preprocessing import LabelEncoder\n",
        "from scipy.sparse import hstack\n",
        "from tabulate import tabulate\n",
        "#Evaluation\n",
        "from sklearn.metrics import precision_score, recall_score, f1_score, confusion_matrix,accuracy_score\n",
        "from sklearn.metrics import mean_squared_error, mean_absolute_error\n",
        "# Loading data\n",
        "import kagglehub\n",
        "#ignored warining\n",
        "import warnings\n",
        "warnings.filterwarnings('ignore')"
      ]
    },
    {
      "cell_type": "markdown",
      "metadata": {
        "id": "LAD4k57wwdzo"
      },
      "source": [
        "# Loading Dataset"
      ]
    },
    {
      "cell_type": "markdown",
      "metadata": {
        "id": "V2DuB1eoQMR5"
      },
      "source": [
        "*Loading dataset* merupakan proses meng*import* dan membaca *dataset*. *dataset* bisa berasal dari internal tersimpan dari dalam perangkat maupun *external* dari link penyedia data luring seperi *kaggle*."
      ]
    },
    {
      "cell_type": "code",
      "execution_count": null,
      "metadata": {
        "colab": {
          "base_uri": "https://localhost:8080/"
        },
        "execution": {
          "iopub.execute_input": "2025-05-29T01:51:30.275298Z",
          "iopub.status.busy": "2025-05-29T01:51:30.274931Z",
          "iopub.status.idle": "2025-05-29T01:51:30.584048Z",
          "shell.execute_reply": "2025-05-29T01:51:30.583023Z",
          "shell.execute_reply.started": "2025-05-29T01:51:30.275252Z"
        },
        "id": "_kVx65zC1PFS",
        "outputId": "ce7a08bd-84fc-474e-f57a-e508208cc5f0",
        "trusted": true
      },
      "outputs": [
        {
          "name": "stdout",
          "output_type": "stream",
          "text": [
            "['product_info.csv', 'reviews_500-750.csv', 'reviews_750-1250.csv', 'reviews_1250-end.csv', 'reviews_250-500.csv', 'reviews_0-250.csv']\n"
          ]
        }
      ],
      "source": [
        "# Import datasetfrom kaggle\n",
        "dataset_name = \"nadyinky/sephora-products-and-skincare-reviews\"\n",
        "location = kagglehub.dataset_download(dataset_name)\n",
        "files = os.listdir(location)\n",
        "print(files)"
      ]
    },
    {
      "cell_type": "code",
      "execution_count": null,
      "metadata": {
        "colab": {
          "base_uri": "https://localhost:8080/",
          "height": 620
        },
        "execution": {
          "iopub.execute_input": "2025-05-29T01:51:30.585595Z",
          "iopub.status.busy": "2025-05-29T01:51:30.585226Z",
          "iopub.status.idle": "2025-05-29T01:51:30.814032Z",
          "shell.execute_reply": "2025-05-29T01:51:30.813051Z",
          "shell.execute_reply.started": "2025-05-29T01:51:30.585563Z"
        },
        "id": "uVFBGFaA-fky",
        "outputId": "5e62ac8f-6525-492f-aad0-a0ded4d4cc6b",
        "trusted": true
      },
      "outputs": [
        {
          "data": {
            "text/html": [
              "<div>\n",
              "<style scoped>\n",
              "    .dataframe tbody tr th:only-of-type {\n",
              "        vertical-align: middle;\n",
              "    }\n",
              "\n",
              "    .dataframe tbody tr th {\n",
              "        vertical-align: top;\n",
              "    }\n",
              "\n",
              "    .dataframe thead th {\n",
              "        text-align: right;\n",
              "    }\n",
              "</style>\n",
              "<table border=\"1\" class=\"dataframe\">\n",
              "  <thead>\n",
              "    <tr style=\"text-align: right;\">\n",
              "      <th></th>\n",
              "      <th>product_id</th>\n",
              "      <th>product_name</th>\n",
              "      <th>brand_id</th>\n",
              "      <th>brand_name</th>\n",
              "      <th>loves_count</th>\n",
              "      <th>rating</th>\n",
              "      <th>reviews</th>\n",
              "      <th>size</th>\n",
              "      <th>variation_type</th>\n",
              "      <th>variation_value</th>\n",
              "      <th>...</th>\n",
              "      <th>online_only</th>\n",
              "      <th>out_of_stock</th>\n",
              "      <th>sephora_exclusive</th>\n",
              "      <th>highlights</th>\n",
              "      <th>primary_category</th>\n",
              "      <th>secondary_category</th>\n",
              "      <th>tertiary_category</th>\n",
              "      <th>child_count</th>\n",
              "      <th>child_max_price</th>\n",
              "      <th>child_min_price</th>\n",
              "    </tr>\n",
              "  </thead>\n",
              "  <tbody>\n",
              "    <tr>\n",
              "      <th>0</th>\n",
              "      <td>P473671</td>\n",
              "      <td>Fragrance Discovery Set</td>\n",
              "      <td>6342</td>\n",
              "      <td>19-69</td>\n",
              "      <td>6320</td>\n",
              "      <td>3.6364</td>\n",
              "      <td>11.0</td>\n",
              "      <td>NaN</td>\n",
              "      <td>NaN</td>\n",
              "      <td>NaN</td>\n",
              "      <td>...</td>\n",
              "      <td>1</td>\n",
              "      <td>0</td>\n",
              "      <td>0</td>\n",
              "      <td>['Unisex/ Genderless Scent', 'Warm &amp;Spicy Scen...</td>\n",
              "      <td>Fragrance</td>\n",
              "      <td>Value &amp; Gift Sets</td>\n",
              "      <td>Perfume Gift Sets</td>\n",
              "      <td>0</td>\n",
              "      <td>NaN</td>\n",
              "      <td>NaN</td>\n",
              "    </tr>\n",
              "    <tr>\n",
              "      <th>1</th>\n",
              "      <td>P473668</td>\n",
              "      <td>La Habana Eau de Parfum</td>\n",
              "      <td>6342</td>\n",
              "      <td>19-69</td>\n",
              "      <td>3827</td>\n",
              "      <td>4.1538</td>\n",
              "      <td>13.0</td>\n",
              "      <td>3.4 oz/ 100 mL</td>\n",
              "      <td>Size + Concentration + Formulation</td>\n",
              "      <td>3.4 oz/ 100 mL</td>\n",
              "      <td>...</td>\n",
              "      <td>1</td>\n",
              "      <td>0</td>\n",
              "      <td>0</td>\n",
              "      <td>['Unisex/ Genderless Scent', 'Layerable Scent'...</td>\n",
              "      <td>Fragrance</td>\n",
              "      <td>Women</td>\n",
              "      <td>Perfume</td>\n",
              "      <td>2</td>\n",
              "      <td>85.0</td>\n",
              "      <td>30.0</td>\n",
              "    </tr>\n",
              "    <tr>\n",
              "      <th>2</th>\n",
              "      <td>P473662</td>\n",
              "      <td>Rainbow Bar Eau de Parfum</td>\n",
              "      <td>6342</td>\n",
              "      <td>19-69</td>\n",
              "      <td>3253</td>\n",
              "      <td>4.2500</td>\n",
              "      <td>16.0</td>\n",
              "      <td>3.4 oz/ 100 mL</td>\n",
              "      <td>Size + Concentration + Formulation</td>\n",
              "      <td>3.4 oz/ 100 mL</td>\n",
              "      <td>...</td>\n",
              "      <td>1</td>\n",
              "      <td>0</td>\n",
              "      <td>0</td>\n",
              "      <td>['Unisex/ Genderless Scent', 'Layerable Scent'...</td>\n",
              "      <td>Fragrance</td>\n",
              "      <td>Women</td>\n",
              "      <td>Perfume</td>\n",
              "      <td>2</td>\n",
              "      <td>75.0</td>\n",
              "      <td>30.0</td>\n",
              "    </tr>\n",
              "    <tr>\n",
              "      <th>3</th>\n",
              "      <td>P473660</td>\n",
              "      <td>Kasbah Eau de Parfum</td>\n",
              "      <td>6342</td>\n",
              "      <td>19-69</td>\n",
              "      <td>3018</td>\n",
              "      <td>4.4762</td>\n",
              "      <td>21.0</td>\n",
              "      <td>3.4 oz/ 100 mL</td>\n",
              "      <td>Size + Concentration + Formulation</td>\n",
              "      <td>3.4 oz/ 100 mL</td>\n",
              "      <td>...</td>\n",
              "      <td>1</td>\n",
              "      <td>0</td>\n",
              "      <td>0</td>\n",
              "      <td>['Unisex/ Genderless Scent', 'Layerable Scent'...</td>\n",
              "      <td>Fragrance</td>\n",
              "      <td>Women</td>\n",
              "      <td>Perfume</td>\n",
              "      <td>2</td>\n",
              "      <td>75.0</td>\n",
              "      <td>30.0</td>\n",
              "    </tr>\n",
              "    <tr>\n",
              "      <th>4</th>\n",
              "      <td>P473658</td>\n",
              "      <td>Purple Haze Eau de Parfum</td>\n",
              "      <td>6342</td>\n",
              "      <td>19-69</td>\n",
              "      <td>2691</td>\n",
              "      <td>3.2308</td>\n",
              "      <td>13.0</td>\n",
              "      <td>3.4 oz/ 100 mL</td>\n",
              "      <td>Size + Concentration + Formulation</td>\n",
              "      <td>3.4 oz/ 100 mL</td>\n",
              "      <td>...</td>\n",
              "      <td>1</td>\n",
              "      <td>0</td>\n",
              "      <td>0</td>\n",
              "      <td>['Unisex/ Genderless Scent', 'Layerable Scent'...</td>\n",
              "      <td>Fragrance</td>\n",
              "      <td>Women</td>\n",
              "      <td>Perfume</td>\n",
              "      <td>2</td>\n",
              "      <td>75.0</td>\n",
              "      <td>30.0</td>\n",
              "    </tr>\n",
              "  </tbody>\n",
              "</table>\n",
              "<p>5 rows × 27 columns</p>\n",
              "</div>"
            ],
            "text/plain": [
              "  product_id               product_name  brand_id brand_name  loves_count  \\\n",
              "0    P473671    Fragrance Discovery Set      6342      19-69         6320   \n",
              "1    P473668    La Habana Eau de Parfum      6342      19-69         3827   \n",
              "2    P473662  Rainbow Bar Eau de Parfum      6342      19-69         3253   \n",
              "3    P473660       Kasbah Eau de Parfum      6342      19-69         3018   \n",
              "4    P473658  Purple Haze Eau de Parfum      6342      19-69         2691   \n",
              "\n",
              "   rating  reviews            size                      variation_type  \\\n",
              "0  3.6364     11.0             NaN                                 NaN   \n",
              "1  4.1538     13.0  3.4 oz/ 100 mL  Size + Concentration + Formulation   \n",
              "2  4.2500     16.0  3.4 oz/ 100 mL  Size + Concentration + Formulation   \n",
              "3  4.4762     21.0  3.4 oz/ 100 mL  Size + Concentration + Formulation   \n",
              "4  3.2308     13.0  3.4 oz/ 100 mL  Size + Concentration + Formulation   \n",
              "\n",
              "  variation_value  ... online_only out_of_stock  sephora_exclusive  \\\n",
              "0             NaN  ...           1            0                  0   \n",
              "1  3.4 oz/ 100 mL  ...           1            0                  0   \n",
              "2  3.4 oz/ 100 mL  ...           1            0                  0   \n",
              "3  3.4 oz/ 100 mL  ...           1            0                  0   \n",
              "4  3.4 oz/ 100 mL  ...           1            0                  0   \n",
              "\n",
              "                                          highlights  primary_category  \\\n",
              "0  ['Unisex/ Genderless Scent', 'Warm &Spicy Scen...         Fragrance   \n",
              "1  ['Unisex/ Genderless Scent', 'Layerable Scent'...         Fragrance   \n",
              "2  ['Unisex/ Genderless Scent', 'Layerable Scent'...         Fragrance   \n",
              "3  ['Unisex/ Genderless Scent', 'Layerable Scent'...         Fragrance   \n",
              "4  ['Unisex/ Genderless Scent', 'Layerable Scent'...         Fragrance   \n",
              "\n",
              "   secondary_category  tertiary_category  child_count  child_max_price  \\\n",
              "0   Value & Gift Sets  Perfume Gift Sets            0              NaN   \n",
              "1               Women            Perfume            2             85.0   \n",
              "2               Women            Perfume            2             75.0   \n",
              "3               Women            Perfume            2             75.0   \n",
              "4               Women            Perfume            2             75.0   \n",
              "\n",
              "   child_min_price  \n",
              "0              NaN  \n",
              "1             30.0  \n",
              "2             30.0  \n",
              "3             30.0  \n",
              "4             30.0  \n",
              "\n",
              "[5 rows x 27 columns]"
            ]
          },
          "execution_count": 68,
          "metadata": {},
          "output_type": "execute_result"
        }
      ],
      "source": [
        "# Loading product csv\n",
        "csv_file_product = os.path.join(location, \"product_info.csv\")\n",
        "product_df = pd.read_csv(csv_file_product)\n",
        "product_df.head()"
      ]
    },
    {
      "cell_type": "code",
      "execution_count": null,
      "metadata": {
        "colab": {
          "base_uri": "https://localhost:8080/",
          "height": 625
        },
        "execution": {
          "iopub.execute_input": "2025-05-29T01:51:30.816791Z",
          "iopub.status.busy": "2025-05-29T01:51:30.816521Z",
          "iopub.status.idle": "2025-05-29T01:51:31.482212Z",
          "shell.execute_reply": "2025-05-29T01:51:31.481385Z",
          "shell.execute_reply.started": "2025-05-29T01:51:30.816769Z"
        },
        "id": "LGnkYDJD9eLR",
        "outputId": "1bc7aa8b-a0c1-45ba-9e01-9608c16cd51c",
        "trusted": true
      },
      "outputs": [
        {
          "data": {
            "text/html": [
              "<div>\n",
              "<style scoped>\n",
              "    .dataframe tbody tr th:only-of-type {\n",
              "        vertical-align: middle;\n",
              "    }\n",
              "\n",
              "    .dataframe tbody tr th {\n",
              "        vertical-align: top;\n",
              "    }\n",
              "\n",
              "    .dataframe thead th {\n",
              "        text-align: right;\n",
              "    }\n",
              "</style>\n",
              "<table border=\"1\" class=\"dataframe\">\n",
              "  <thead>\n",
              "    <tr style=\"text-align: right;\">\n",
              "      <th></th>\n",
              "      <th>Unnamed: 0</th>\n",
              "      <th>author_id</th>\n",
              "      <th>rating</th>\n",
              "      <th>is_recommended</th>\n",
              "      <th>helpfulness</th>\n",
              "      <th>total_feedback_count</th>\n",
              "      <th>total_neg_feedback_count</th>\n",
              "      <th>total_pos_feedback_count</th>\n",
              "      <th>submission_time</th>\n",
              "      <th>review_text</th>\n",
              "      <th>review_title</th>\n",
              "      <th>skin_tone</th>\n",
              "      <th>eye_color</th>\n",
              "      <th>skin_type</th>\n",
              "      <th>hair_color</th>\n",
              "      <th>product_id</th>\n",
              "      <th>product_name</th>\n",
              "      <th>brand_name</th>\n",
              "      <th>price_usd</th>\n",
              "    </tr>\n",
              "  </thead>\n",
              "  <tbody>\n",
              "    <tr>\n",
              "      <th>0</th>\n",
              "      <td>0</td>\n",
              "      <td>1945004256</td>\n",
              "      <td>5</td>\n",
              "      <td>1.0</td>\n",
              "      <td>0.000000</td>\n",
              "      <td>2</td>\n",
              "      <td>2</td>\n",
              "      <td>0</td>\n",
              "      <td>2022-12-10</td>\n",
              "      <td>I absolutely L-O-V-E this oil. I have acne pro...</td>\n",
              "      <td>A must have!</td>\n",
              "      <td>lightMedium</td>\n",
              "      <td>green</td>\n",
              "      <td>combination</td>\n",
              "      <td>NaN</td>\n",
              "      <td>P379064</td>\n",
              "      <td>Lotus Balancing &amp; Hydrating Natural Face Treat...</td>\n",
              "      <td>Clarins</td>\n",
              "      <td>65.0</td>\n",
              "    </tr>\n",
              "    <tr>\n",
              "      <th>1</th>\n",
              "      <td>1</td>\n",
              "      <td>5478482359</td>\n",
              "      <td>3</td>\n",
              "      <td>1.0</td>\n",
              "      <td>0.333333</td>\n",
              "      <td>3</td>\n",
              "      <td>2</td>\n",
              "      <td>1</td>\n",
              "      <td>2021-12-17</td>\n",
              "      <td>I gave this 3 stars because it give me tiny li...</td>\n",
              "      <td>it keeps oily skin under control</td>\n",
              "      <td>mediumTan</td>\n",
              "      <td>brown</td>\n",
              "      <td>oily</td>\n",
              "      <td>black</td>\n",
              "      <td>P379064</td>\n",
              "      <td>Lotus Balancing &amp; Hydrating Natural Face Treat...</td>\n",
              "      <td>Clarins</td>\n",
              "      <td>65.0</td>\n",
              "    </tr>\n",
              "    <tr>\n",
              "      <th>2</th>\n",
              "      <td>2</td>\n",
              "      <td>29002209922</td>\n",
              "      <td>5</td>\n",
              "      <td>1.0</td>\n",
              "      <td>1.000000</td>\n",
              "      <td>2</td>\n",
              "      <td>0</td>\n",
              "      <td>2</td>\n",
              "      <td>2021-06-07</td>\n",
              "      <td>Works well as soon as I wash my face and pat d...</td>\n",
              "      <td>Worth the money!</td>\n",
              "      <td>lightMedium</td>\n",
              "      <td>brown</td>\n",
              "      <td>dry</td>\n",
              "      <td>black</td>\n",
              "      <td>P379064</td>\n",
              "      <td>Lotus Balancing &amp; Hydrating Natural Face Treat...</td>\n",
              "      <td>Clarins</td>\n",
              "      <td>65.0</td>\n",
              "    </tr>\n",
              "    <tr>\n",
              "      <th>3</th>\n",
              "      <td>3</td>\n",
              "      <td>7391078463</td>\n",
              "      <td>5</td>\n",
              "      <td>1.0</td>\n",
              "      <td>1.000000</td>\n",
              "      <td>2</td>\n",
              "      <td>0</td>\n",
              "      <td>2</td>\n",
              "      <td>2021-05-21</td>\n",
              "      <td>this oil helped with hydration and breakouts, ...</td>\n",
              "      <td>best face oil</td>\n",
              "      <td>lightMedium</td>\n",
              "      <td>brown</td>\n",
              "      <td>combination</td>\n",
              "      <td>blonde</td>\n",
              "      <td>P379064</td>\n",
              "      <td>Lotus Balancing &amp; Hydrating Natural Face Treat...</td>\n",
              "      <td>Clarins</td>\n",
              "      <td>65.0</td>\n",
              "    </tr>\n",
              "    <tr>\n",
              "      <th>4</th>\n",
              "      <td>4</td>\n",
              "      <td>1766313888</td>\n",
              "      <td>5</td>\n",
              "      <td>1.0</td>\n",
              "      <td>1.000000</td>\n",
              "      <td>13</td>\n",
              "      <td>0</td>\n",
              "      <td>13</td>\n",
              "      <td>2021-03-29</td>\n",
              "      <td>This is my first product review ever so that s...</td>\n",
              "      <td>Maskne miracle</td>\n",
              "      <td>mediumTan</td>\n",
              "      <td>brown</td>\n",
              "      <td>combination</td>\n",
              "      <td>black</td>\n",
              "      <td>P379064</td>\n",
              "      <td>Lotus Balancing &amp; Hydrating Natural Face Treat...</td>\n",
              "      <td>Clarins</td>\n",
              "      <td>65.0</td>\n",
              "    </tr>\n",
              "  </tbody>\n",
              "</table>\n",
              "</div>"
            ],
            "text/plain": [
              "   Unnamed: 0    author_id  rating  is_recommended  helpfulness  \\\n",
              "0           0   1945004256       5             1.0     0.000000   \n",
              "1           1   5478482359       3             1.0     0.333333   \n",
              "2           2  29002209922       5             1.0     1.000000   \n",
              "3           3   7391078463       5             1.0     1.000000   \n",
              "4           4   1766313888       5             1.0     1.000000   \n",
              "\n",
              "   total_feedback_count  total_neg_feedback_count  total_pos_feedback_count  \\\n",
              "0                     2                         2                         0   \n",
              "1                     3                         2                         1   \n",
              "2                     2                         0                         2   \n",
              "3                     2                         0                         2   \n",
              "4                    13                         0                        13   \n",
              "\n",
              "  submission_time                                        review_text  \\\n",
              "0      2022-12-10  I absolutely L-O-V-E this oil. I have acne pro...   \n",
              "1      2021-12-17  I gave this 3 stars because it give me tiny li...   \n",
              "2      2021-06-07  Works well as soon as I wash my face and pat d...   \n",
              "3      2021-05-21  this oil helped with hydration and breakouts, ...   \n",
              "4      2021-03-29  This is my first product review ever so that s...   \n",
              "\n",
              "                       review_title    skin_tone eye_color    skin_type  \\\n",
              "0                      A must have!  lightMedium     green  combination   \n",
              "1  it keeps oily skin under control    mediumTan     brown         oily   \n",
              "2                  Worth the money!  lightMedium     brown          dry   \n",
              "3                     best face oil  lightMedium     brown  combination   \n",
              "4                    Maskne miracle    mediumTan     brown  combination   \n",
              "\n",
              "  hair_color product_id                                       product_name  \\\n",
              "0        NaN    P379064  Lotus Balancing & Hydrating Natural Face Treat...   \n",
              "1      black    P379064  Lotus Balancing & Hydrating Natural Face Treat...   \n",
              "2      black    P379064  Lotus Balancing & Hydrating Natural Face Treat...   \n",
              "3     blonde    P379064  Lotus Balancing & Hydrating Natural Face Treat...   \n",
              "4      black    P379064  Lotus Balancing & Hydrating Natural Face Treat...   \n",
              "\n",
              "  brand_name  price_usd  \n",
              "0    Clarins       65.0  \n",
              "1    Clarins       65.0  \n",
              "2    Clarins       65.0  \n",
              "3    Clarins       65.0  \n",
              "4    Clarins       65.0  "
            ]
          },
          "execution_count": 69,
          "metadata": {},
          "output_type": "execute_result"
        }
      ],
      "source": [
        "# Loading reviews csv\n",
        "csv_file_reviews = os.path.join(location, \"reviews_1250-end.csv\")\n",
        "reviews_df = pd.read_csv(csv_file_reviews)\n",
        "reviews_df.head()"
      ]
    },
    {
      "cell_type": "markdown",
      "metadata": {
        "id": "Z2ZwffVBwnxi"
      },
      "source": [
        "# Data Undestanding"
      ]
    },
    {
      "cell_type": "markdown",
      "metadata": {
        "id": "H5uIt0ELTxOr"
      },
      "source": [
        "Bagian data understanding berfungsi sebagai bagian untuk mengetahui dimensi dataset, tipe data dari setiap fitur, informasi tentang missing value dan data terduplikasi, serta pemilihan fitur yang relevan."
      ]
    },
    {
      "cell_type": "markdown",
      "metadata": {
        "id": "v1dMHM0zRsbm"
      },
      "source": [
        "### Product Dataset"
      ]
    },
    {
      "cell_type": "code",
      "execution_count": null,
      "metadata": {
        "colab": {
          "base_uri": "https://localhost:8080/"
        },
        "execution": {
          "iopub.execute_input": "2025-05-29T01:51:31.483820Z",
          "iopub.status.busy": "2025-05-29T01:51:31.483466Z",
          "iopub.status.idle": "2025-05-29T01:51:31.489261Z",
          "shell.execute_reply": "2025-05-29T01:51:31.488433Z",
          "shell.execute_reply.started": "2025-05-29T01:51:31.483798Z"
        },
        "id": "lM3C26UHRylq",
        "outputId": "aff622ac-b0a4-421d-d208-a8676fa491e5",
        "trusted": true
      },
      "outputs": [
        {
          "data": {
            "text/plain": [
              "(8494, 27)"
            ]
          },
          "execution_count": 70,
          "metadata": {},
          "output_type": "execute_result"
        }
      ],
      "source": [
        "# Product Dataset Dimension\n",
        "product_df.shape"
      ]
    },
    {
      "cell_type": "code",
      "execution_count": null,
      "metadata": {
        "colab": {
          "base_uri": "https://localhost:8080/"
        },
        "execution": {
          "iopub.execute_input": "2025-05-29T01:51:31.491206Z",
          "iopub.status.busy": "2025-05-29T01:51:31.490802Z",
          "iopub.status.idle": "2025-05-29T01:51:31.524635Z",
          "shell.execute_reply": "2025-05-29T01:51:31.523596Z",
          "shell.execute_reply.started": "2025-05-29T01:51:31.491174Z"
        },
        "id": "y_AWXVH9R6XJ",
        "outputId": "16963de4-9e22-46b9-9f87-9a7814061300",
        "trusted": true
      },
      "outputs": [
        {
          "name": "stdout",
          "output_type": "stream",
          "text": [
            "<class 'pandas.core.frame.DataFrame'>\n",
            "RangeIndex: 8494 entries, 0 to 8493\n",
            "Data columns (total 27 columns):\n",
            " #   Column              Non-Null Count  Dtype  \n",
            "---  ------              --------------  -----  \n",
            " 0   product_id          8494 non-null   object \n",
            " 1   product_name        8494 non-null   object \n",
            " 2   brand_id            8494 non-null   int64  \n",
            " 3   brand_name          8494 non-null   object \n",
            " 4   loves_count         8494 non-null   int64  \n",
            " 5   rating              8216 non-null   float64\n",
            " 6   reviews             8216 non-null   float64\n",
            " 7   size                6863 non-null   object \n",
            " 8   variation_type      7050 non-null   object \n",
            " 9   variation_value     6896 non-null   object \n",
            " 10  variation_desc      1250 non-null   object \n",
            " 11  ingredients         7549 non-null   object \n",
            " 12  price_usd           8494 non-null   float64\n",
            " 13  value_price_usd     451 non-null    float64\n",
            " 14  sale_price_usd      270 non-null    float64\n",
            " 15  limited_edition     8494 non-null   int64  \n",
            " 16  new                 8494 non-null   int64  \n",
            " 17  online_only         8494 non-null   int64  \n",
            " 18  out_of_stock        8494 non-null   int64  \n",
            " 19  sephora_exclusive   8494 non-null   int64  \n",
            " 20  highlights          6287 non-null   object \n",
            " 21  primary_category    8494 non-null   object \n",
            " 22  secondary_category  8486 non-null   object \n",
            " 23  tertiary_category   7504 non-null   object \n",
            " 24  child_count         8494 non-null   int64  \n",
            " 25  child_max_price     2754 non-null   float64\n",
            " 26  child_min_price     2754 non-null   float64\n",
            "dtypes: float64(7), int64(8), object(12)\n",
            "memory usage: 1.7+ MB\n"
          ]
        }
      ],
      "source": [
        "# Product Dataset Data Type Information\n",
        "product_df.info()"
      ]
    },
    {
      "cell_type": "code",
      "execution_count": null,
      "metadata": {
        "colab": {
          "base_uri": "https://localhost:8080/",
          "height": 931
        },
        "execution": {
          "iopub.execute_input": "2025-05-29T01:51:31.526427Z",
          "iopub.status.busy": "2025-05-29T01:51:31.526040Z",
          "iopub.status.idle": "2025-05-29T01:51:31.560093Z",
          "shell.execute_reply": "2025-05-29T01:51:31.559161Z",
          "shell.execute_reply.started": "2025-05-29T01:51:31.526396Z"
        },
        "id": "r4DAmaG7SDyQ",
        "outputId": "311aab4d-de60-44b6-8ea6-c303e8e61667",
        "trusted": true
      },
      "outputs": [
        {
          "data": {
            "text/plain": [
              "product_id               0\n",
              "product_name             0\n",
              "brand_id                 0\n",
              "brand_name               0\n",
              "loves_count              0\n",
              "rating                 278\n",
              "reviews                278\n",
              "size                  1631\n",
              "variation_type        1444\n",
              "variation_value       1598\n",
              "variation_desc        7244\n",
              "ingredients            945\n",
              "price_usd                0\n",
              "value_price_usd       8043\n",
              "sale_price_usd        8224\n",
              "limited_edition          0\n",
              "new                      0\n",
              "online_only              0\n",
              "out_of_stock             0\n",
              "sephora_exclusive        0\n",
              "highlights            2207\n",
              "primary_category         0\n",
              "secondary_category       8\n",
              "tertiary_category      990\n",
              "child_count              0\n",
              "child_max_price       5740\n",
              "child_min_price       5740\n",
              "dtype: int64"
            ]
          },
          "execution_count": 72,
          "metadata": {},
          "output_type": "execute_result"
        }
      ],
      "source": [
        "# Checking for missing value\n",
        "(product_df.isnull() | product_df.isna() | (product_df == \"\")).sum()"
      ]
    },
    {
      "cell_type": "code",
      "execution_count": null,
      "metadata": {
        "colab": {
          "base_uri": "https://localhost:8080/"
        },
        "execution": {
          "iopub.execute_input": "2025-05-29T01:51:31.561334Z",
          "iopub.status.busy": "2025-05-29T01:51:31.561046Z",
          "iopub.status.idle": "2025-05-29T01:51:31.588761Z",
          "shell.execute_reply": "2025-05-29T01:51:31.587767Z",
          "shell.execute_reply.started": "2025-05-29T01:51:31.561307Z"
        },
        "id": "fzo5z6qOTPD3",
        "outputId": "c434e973-dc22-4ceb-9aca-9ec0497cdcdd",
        "trusted": true
      },
      "outputs": [
        {
          "data": {
            "text/plain": [
              "0"
            ]
          },
          "execution_count": 73,
          "metadata": {},
          "output_type": "execute_result"
        }
      ],
      "source": [
        "# Checking for duplicated value\n",
        "product_df.duplicated().sum()"
      ]
    },
    {
      "cell_type": "code",
      "execution_count": null,
      "metadata": {
        "colab": {
          "base_uri": "https://localhost:8080/",
          "height": 931
        },
        "execution": {
          "iopub.execute_input": "2025-05-29T01:51:31.589981Z",
          "iopub.status.busy": "2025-05-29T01:51:31.589726Z",
          "iopub.status.idle": "2025-05-29T01:51:31.612847Z",
          "shell.execute_reply": "2025-05-29T01:51:31.611916Z",
          "shell.execute_reply.started": "2025-05-29T01:51:31.589962Z"
        },
        "id": "nlp5y5WlTYaG",
        "outputId": "832e047b-4197-4840-8782-f6965fd07aba",
        "trusted": true
      },
      "outputs": [
        {
          "data": {
            "text/plain": [
              "product_id            8494\n",
              "product_name          8415\n",
              "brand_id               304\n",
              "brand_name             304\n",
              "loves_count           7436\n",
              "rating                4394\n",
              "reviews               1556\n",
              "size                  2055\n",
              "variation_type           7\n",
              "variation_value       2729\n",
              "variation_desc         935\n",
              "ingredients           6538\n",
              "price_usd              298\n",
              "value_price_usd        174\n",
              "sale_price_usd          88\n",
              "limited_edition          2\n",
              "new                      2\n",
              "online_only              2\n",
              "out_of_stock             2\n",
              "sephora_exclusive        2\n",
              "highlights            4417\n",
              "primary_category         9\n",
              "secondary_category      41\n",
              "tertiary_category      118\n",
              "child_count             55\n",
              "child_max_price        222\n",
              "child_min_price        208\n",
              "dtype: int64"
            ]
          },
          "execution_count": 74,
          "metadata": {},
          "output_type": "execute_result"
        }
      ],
      "source": [
        "# Showing uniqe value each features\n",
        "product_df.nunique()"
      ]
    },
    {
      "cell_type": "markdown",
      "metadata": {
        "id": "S4QVPMWhUHKJ"
      },
      "source": [
        "### Reviews Dataset"
      ]
    },
    {
      "cell_type": "code",
      "execution_count": null,
      "metadata": {
        "colab": {
          "base_uri": "https://localhost:8080/"
        },
        "execution": {
          "iopub.execute_input": "2025-05-29T01:51:31.614256Z",
          "iopub.status.busy": "2025-05-29T01:51:31.613998Z",
          "iopub.status.idle": "2025-05-29T01:51:31.620335Z",
          "shell.execute_reply": "2025-05-29T01:51:31.619059Z",
          "shell.execute_reply.started": "2025-05-29T01:51:31.614229Z"
        },
        "id": "193DbSohUVqT",
        "outputId": "8855b76e-595b-44b5-8e29-8b1fb9fbf9cb",
        "trusted": true
      },
      "outputs": [
        {
          "data": {
            "text/plain": [
              "(49977, 19)"
            ]
          },
          "execution_count": 75,
          "metadata": {},
          "output_type": "execute_result"
        }
      ],
      "source": [
        "# Reviews Dataset Dimension\n",
        "reviews_df.shape"
      ]
    },
    {
      "cell_type": "code",
      "execution_count": null,
      "metadata": {
        "colab": {
          "base_uri": "https://localhost:8080/"
        },
        "execution": {
          "iopub.execute_input": "2025-05-29T01:51:31.621743Z",
          "iopub.status.busy": "2025-05-29T01:51:31.621382Z",
          "iopub.status.idle": "2025-05-29T01:51:31.679384Z",
          "shell.execute_reply": "2025-05-29T01:51:31.678297Z",
          "shell.execute_reply.started": "2025-05-29T01:51:31.621706Z"
        },
        "id": "Hb8gtjikUY_u",
        "outputId": "e7f2129a-522b-4095-830a-1de4c7c28c8d",
        "trusted": true
      },
      "outputs": [
        {
          "name": "stdout",
          "output_type": "stream",
          "text": [
            "<class 'pandas.core.frame.DataFrame'>\n",
            "RangeIndex: 49977 entries, 0 to 49976\n",
            "Data columns (total 19 columns):\n",
            " #   Column                    Non-Null Count  Dtype  \n",
            "---  ------                    --------------  -----  \n",
            " 0   Unnamed: 0                49977 non-null  int64  \n",
            " 1   author_id                 49977 non-null  object \n",
            " 2   rating                    49977 non-null  int64  \n",
            " 3   is_recommended            46160 non-null  float64\n",
            " 4   helpfulness               36522 non-null  float64\n",
            " 5   total_feedback_count      49977 non-null  int64  \n",
            " 6   total_neg_feedback_count  49977 non-null  int64  \n",
            " 7   total_pos_feedback_count  49977 non-null  int64  \n",
            " 8   submission_time           49977 non-null  object \n",
            " 9   review_text               49918 non-null  object \n",
            " 10  review_title              35599 non-null  object \n",
            " 11  skin_tone                 42776 non-null  object \n",
            " 12  eye_color                 43717 non-null  object \n",
            " 13  skin_type                 46346 non-null  object \n",
            " 14  hair_color                41126 non-null  object \n",
            " 15  product_id                49977 non-null  object \n",
            " 16  product_name              49977 non-null  object \n",
            " 17  brand_name                49977 non-null  object \n",
            " 18  price_usd                 49977 non-null  float64\n",
            "dtypes: float64(3), int64(5), object(11)\n",
            "memory usage: 7.2+ MB\n"
          ]
        }
      ],
      "source": [
        "# Reviews Dataset Data Type Information\n",
        "reviews_df.info()"
      ]
    },
    {
      "cell_type": "code",
      "execution_count": null,
      "metadata": {
        "colab": {
          "base_uri": "https://localhost:8080/",
          "height": 680
        },
        "execution": {
          "iopub.execute_input": "2025-05-29T01:51:31.680984Z",
          "iopub.status.busy": "2025-05-29T01:51:31.680642Z",
          "iopub.status.idle": "2025-05-29T01:51:31.804767Z",
          "shell.execute_reply": "2025-05-29T01:51:31.803558Z",
          "shell.execute_reply.started": "2025-05-29T01:51:31.680952Z"
        },
        "id": "UCrG00VXUv-j",
        "outputId": "b102f8ea-038f-4782-ee5e-9a5aa466ac36",
        "trusted": true
      },
      "outputs": [
        {
          "data": {
            "text/plain": [
              "Unnamed: 0                      0\n",
              "author_id                       0\n",
              "rating                          0\n",
              "is_recommended               3817\n",
              "helpfulness                 13455\n",
              "total_feedback_count            0\n",
              "total_neg_feedback_count        0\n",
              "total_pos_feedback_count        0\n",
              "submission_time                 0\n",
              "review_text                    59\n",
              "review_title                14378\n",
              "skin_tone                    7201\n",
              "eye_color                    6260\n",
              "skin_type                    3631\n",
              "hair_color                   8851\n",
              "product_id                      0\n",
              "product_name                    0\n",
              "brand_name                      0\n",
              "price_usd                       0\n",
              "dtype: int64"
            ]
          },
          "execution_count": 77,
          "metadata": {},
          "output_type": "execute_result"
        }
      ],
      "source": [
        "# Checking for missing value\n",
        "(reviews_df.isnull() |reviews_df.isna() | (reviews_df == \"\")).sum()"
      ]
    },
    {
      "cell_type": "code",
      "execution_count": null,
      "metadata": {
        "colab": {
          "base_uri": "https://localhost:8080/"
        },
        "execution": {
          "iopub.execute_input": "2025-05-29T01:51:31.809795Z",
          "iopub.status.busy": "2025-05-29T01:51:31.809474Z",
          "iopub.status.idle": "2025-05-29T01:51:31.907352Z",
          "shell.execute_reply": "2025-05-29T01:51:31.906245Z",
          "shell.execute_reply.started": "2025-05-29T01:51:31.809771Z"
        },
        "id": "7KejrIs4U485",
        "outputId": "465466b3-12d3-4323-ca62-e9e2255b7c3e",
        "trusted": true
      },
      "outputs": [
        {
          "data": {
            "text/plain": [
              "0"
            ]
          },
          "execution_count": 78,
          "metadata": {},
          "output_type": "execute_result"
        }
      ],
      "source": [
        "# Checking for duplicated date\n",
        "reviews_df.duplicated().sum()"
      ]
    },
    {
      "cell_type": "code",
      "execution_count": null,
      "metadata": {
        "colab": {
          "base_uri": "https://localhost:8080/",
          "height": 680
        },
        "execution": {
          "iopub.execute_input": "2025-05-29T01:51:31.908743Z",
          "iopub.status.busy": "2025-05-29T01:51:31.908404Z",
          "iopub.status.idle": "2025-05-29T01:51:31.988008Z",
          "shell.execute_reply": "2025-05-29T01:51:31.986981Z",
          "shell.execute_reply.started": "2025-05-29T01:51:31.908721Z"
        },
        "id": "ivShdTytVJI1",
        "outputId": "a734b21f-6b2e-44b8-cd20-7248bb714268",
        "trusted": true
      },
      "outputs": [
        {
          "data": {
            "text/plain": [
              "Unnamed: 0                  49977\n",
              "author_id                   41457\n",
              "rating                          5\n",
              "is_recommended                  2\n",
              "helpfulness                  1209\n",
              "total_feedback_count          255\n",
              "total_neg_feedback_count      124\n",
              "total_pos_feedback_count      212\n",
              "submission_time              3490\n",
              "review_text                 49395\n",
              "review_title                26029\n",
              "skin_tone                      14\n",
              "eye_color                       6\n",
              "skin_type                       4\n",
              "hair_color                      7\n",
              "product_id                   1104\n",
              "product_name                 1097\n",
              "brand_name                    122\n",
              "price_usd                     183\n",
              "dtype: int64"
            ]
          },
          "execution_count": 79,
          "metadata": {},
          "output_type": "execute_result"
        }
      ],
      "source": [
        "# Showing uniqe value each features\n",
        "reviews_df.nunique()"
      ]
    },
    {
      "cell_type": "markdown",
      "metadata": {
        "id": "jXQPqCvHatYT"
      },
      "source": [
        "## Exploratory Data Analysis (EDA)"
      ]
    },
    {
      "cell_type": "markdown",
      "metadata": {
        "id": "rA1NpMa3a-oX"
      },
      "source": [
        "Exploratory Data Analysis (EDA) adalah proses untuk memahami karakteristik, pola, dan struktur data sebelum melakukan analisis lebih lanjut. EDA membantu mengungkap hubungan antar variabel, baik secara statistik maupun visual, guna memberikan wawasan awal untuk membangun model prediktif. Teknik yang umum digunakan meliputi visualisasi, ringkasan statistik, dan korelasi antar variabel."
      ]
    },
    {
      "cell_type": "markdown",
      "metadata": {
        "id": "Dwaxon7AbIXf"
      },
      "source": [
        "### Product Dataset"
      ]
    },
    {
      "cell_type": "code",
      "execution_count": null,
      "metadata": {
        "colab": {
          "base_uri": "https://localhost:8080/",
          "height": 607
        },
        "execution": {
          "iopub.execute_input": "2025-05-29T01:51:31.989166Z",
          "iopub.status.busy": "2025-05-29T01:51:31.988921Z",
          "iopub.status.idle": "2025-05-29T01:51:32.229798Z",
          "shell.execute_reply": "2025-05-29T01:51:32.228573Z",
          "shell.execute_reply.started": "2025-05-29T01:51:31.989148Z"
        },
        "id": "y8F3iMBebRX2",
        "outputId": "efd73de0-df58-42f5-cb4d-eb998c5c3292",
        "trusted": true
      },
      "outputs": [
        {
          "data": {
            "image/png": "[encoded data removed]",
            "text/plain": [
              "<Figure size 1000x600 with 1 Axes>"
            ]
          },
          "metadata": {},
          "output_type": "display_data"
        }
      ],
      "source": [
        "# Top 5 Most Dominating Product Type\n",
        "primary_category_counts = product_df['primary_category'].value_counts().head(5)\n",
        "fig, axs = plt.subplots(1, 1, figsize=(10, 6))\n",
        "axs.bar(primary_category_counts.index, primary_category_counts.values, color='skyblue')\n",
        "axs.set_xlabel('Primary Category', fontsize=12)\n",
        "axs.set_ylabel('Count', fontsize=12)\n",
        "axs.set_title('Top 5 Most Dominating Product Types by Primary Category', fontsize=14)\n",
        "axs.tick_params(axis='x', rotation=70)\n",
        "axs.grid(axis='y', linestyle='--', alpha=0.7)\n",
        "plt.tight_layout()\n",
        "plt.show()"
      ]
    },
    {
      "cell_type": "code",
      "execution_count": null,
      "metadata": {
        "colab": {
          "base_uri": "https://localhost:8080/",
          "height": 607
        },
        "execution": {
          "iopub.execute_input": "2025-05-29T01:51:32.231313Z",
          "iopub.status.busy": "2025-05-29T01:51:32.230993Z",
          "iopub.status.idle": "2025-05-29T01:51:32.586145Z",
          "shell.execute_reply": "2025-05-29T01:51:32.585185Z",
          "shell.execute_reply.started": "2025-05-29T01:51:32.231268Z"
        },
        "id": "mSmO9guwfPzF",
        "outputId": "5548731c-1bd0-432d-d683-63ee4bcfd18f",
        "trusted": true
      },
      "outputs": [
        {
          "data": {
            "image/png": "[encoded data removed]",
            "text/plain": [
              "<Figure size 1000x600 with 1 Axes>"
            ]
          },
          "metadata": {},
          "output_type": "display_data"
        }
      ],
      "source": [
        "# Top 5 Brand Dominations\n",
        "brand_counts = product_df['brand_name'].value_counts().head(5)\n",
        "fig, axs = plt.subplots(1, 1, figsize=(10, 6))\n",
        "axs.bar(brand_counts.index, brand_counts.values, color='skyblue')\n",
        "axs.set_xlabel('Brand Name', fontsize=12)\n",
        "axs.set_ylabel('Count', fontsize=12)\n",
        "axs.set_title('Top 5 Brand Dominations', fontsize=14)\n",
        "axs.tick_params(axis='x', rotation=70)\n",
        "axs.grid(axis='y', linestyle='--', alpha=0.7)\n",
        "plt.tight_layout()"
      ]
    },
    {
      "cell_type": "code",
      "execution_count": null,
      "metadata": {
        "colab": {
          "base_uri": "https://localhost:8080/",
          "height": 607
        },
        "execution": {
          "iopub.execute_input": "2025-05-29T01:51:32.587950Z",
          "iopub.status.busy": "2025-05-29T01:51:32.587577Z",
          "iopub.status.idle": "2025-05-29T01:51:33.086711Z",
          "shell.execute_reply": "2025-05-29T01:51:33.085685Z",
          "shell.execute_reply.started": "2025-05-29T01:51:32.587921Z"
        },
        "id": "BrQXBObBfZsK",
        "outputId": "7cbe77de-664f-496a-fb15-1e90affc4630",
        "trusted": true
      },
      "outputs": [
        {
          "data": {
            "image/png": "[encoded data removed]",
            "text/plain": [
              "<Figure size 1000x600 with 1 Axes>"
            ]
          },
          "metadata": {},
          "output_type": "display_data"
        }
      ],
      "source": [
        "# Top 5 Ingredients Dominations\n",
        "ingredients_counts = product_df['ingredients'].str.strip('[]').str.replace(\"'\", \"\").str.split(', ').explode().value_counts().head(5)\n",
        "fig, axs = plt.subplots(1, 1, figsize=(10, 6))\n",
        "axs.bar(ingredients_counts.index, ingredients_counts.values, color='skyblue')\n",
        "axs.set_xlabel('Ingredients Name', fontsize=12)\n",
        "axs.set_ylabel('Count', fontsize=12)\n",
        "axs.set_title('Top 5 Ingredients Dominations', fontsize=14)\n",
        "axs.tick_params(axis='x', rotation=70)\n",
        "axs.grid(axis='y', linestyle='--', alpha=0.7)\n",
        "plt.tight_layout()"
      ]
    },
    {
      "cell_type": "markdown",
      "metadata": {
        "id": "kS-aGvAQhFND"
      },
      "source": [
        "Berdasarkan EDA yang telah dilakukan pada dataset product, diperoleh bila:\n",
        "- jenis produk primer yang paling banyak dijual pada situs sephora adalah skincare, Makeup, Fregrance, Hair, bath & body mist.\n",
        "- brand yang paling banyak dijual adalah shepora collection, clinique, dior, kèrastase, dan tarte.\n",
        "- ingredients yang paling banyak dikandung oleh produk yang di jual pada toko ini adalah glycerin, phenoxythanol, caprylyl glycol, limonene, dan tocophenol."
      ]
    },
    {
      "cell_type": "markdown",
      "metadata": {
        "id": "co5ur6FHgIDk"
      },
      "source": [
        "### Reviews Dataset"
      ]
    },
    {
      "cell_type": "code",
      "execution_count": null,
      "metadata": {
        "colab": {
          "base_uri": "https://localhost:8080/",
          "height": 607
        },
        "execution": {
          "iopub.execute_input": "2025-05-29T01:51:33.088704Z",
          "iopub.status.busy": "2025-05-29T01:51:33.088269Z",
          "iopub.status.idle": "2025-05-29T01:51:33.386524Z",
          "shell.execute_reply": "2025-05-29T01:51:33.385251Z",
          "shell.execute_reply.started": "2025-05-29T01:51:33.088676Z"
        },
        "id": "2522bmK0gPcQ",
        "outputId": "59125e96-64dc-45fb-cc26-68b0d45f4a49",
        "trusted": true
      },
      "outputs": [
        {
          "data": {
            "image/png": "[encoded data removed]",
            "text/plain": [
              "<Figure size 1000x600 with 1 Axes>"
            ]
          },
          "metadata": {},
          "output_type": "display_data"
        }
      ],
      "source": [
        "# Ratings Distribution\n",
        "rating_counts = reviews_df['rating'].value_counts().sort_index()\n",
        "fig, axs = plt.subplots(1, 1, figsize=(10, 6))\n",
        "axs.bar(rating_counts.index, rating_counts.values, color='skyblue')\n",
        "axs.set_xlabel('Rating', fontsize=12)\n",
        "axs.set_ylabel('Count', fontsize=12)\n",
        "axs.set_title('Ratings Distribution', fontsize=14)\n",
        "axs.grid(axis='y', linestyle='--', alpha=0.7)\n",
        "plt.tight_layout()"
      ]
    },
    {
      "cell_type": "code",
      "execution_count": null,
      "metadata": {
        "colab": {
          "base_uri": "https://localhost:8080/",
          "height": 607
        },
        "execution": {
          "iopub.execute_input": "2025-05-29T01:51:33.387732Z",
          "iopub.status.busy": "2025-05-29T01:51:33.387373Z",
          "iopub.status.idle": "2025-05-29T01:51:33.753667Z",
          "shell.execute_reply": "2025-05-29T01:51:33.752728Z",
          "shell.execute_reply.started": "2025-05-29T01:51:33.387702Z"
        },
        "id": "4UIgSS85giW2",
        "outputId": "9916df9f-bc69-4751-a245-207d35e8187b",
        "trusted": true
      },
      "outputs": [
        {
          "data": {
            "image/png": "[encoded data removed]",
            "text/plain": [
              "<Figure size 1000x600 with 1 Axes>"
            ]
          },
          "metadata": {},
          "output_type": "display_data"
        }
      ],
      "source": [
        "# Distribution of Average Ratings by Authors\n",
        "average_rating_per_author = reviews_df.groupby('author_id')['rating'].mean().reset_index()\n",
        "average_rating_per_author.rename(columns={'rating': 'average_rating'}, inplace=True)\n",
        "plt.figure(figsize=(10, 6))\n",
        "plt.hist(average_rating_per_author['average_rating'], bins=20, color='skyblue', edgecolor='black', alpha=0.7)\n",
        "plt.title('Distribution of Average Ratings by Authors', fontsize=14)\n",
        "plt.xlabel('Average Rating', fontsize=12)\n",
        "plt.ylabel('Number of Authors', fontsize=12)\n",
        "plt.grid(axis='y', linestyle='--', alpha=0.7)\n",
        "plt.tight_layout()\n",
        "plt.show()"
      ]
    },
    {
      "cell_type": "code",
      "execution_count": null,
      "metadata": {
        "colab": {
          "base_uri": "https://localhost:8080/",
          "height": 507
        },
        "execution": {
          "iopub.execute_input": "2025-05-29T01:51:33.755408Z",
          "iopub.status.busy": "2025-05-29T01:51:33.755082Z",
          "iopub.status.idle": "2025-05-29T01:51:33.966576Z",
          "shell.execute_reply": "2025-05-29T01:51:33.965630Z",
          "shell.execute_reply.started": "2025-05-29T01:51:33.755379Z"
        },
        "id": "ST_XR2I9jWPh",
        "outputId": "d8115bf3-7544-4bdf-b937-a51967221d9e",
        "trusted": true
      },
      "outputs": [
        {
          "data": {
            "image/png": "[encoded data removed]",
            "text/plain": [
              "<Figure size 800x500 with 1 Axes>"
            ]
          },
          "metadata": {},
          "output_type": "display_data"
        }
      ],
      "source": [
        "# Average Rating for Top 5 Most Reviewed Products\n",
        "most_reviewed_products = reviews_df['product_id'].value_counts().head(5)\n",
        "top_products_df = reviews_df[reviews_df['product_id'].isin(most_reviewed_products.index)]\n",
        "average_rating_top_products = top_products_df.groupby('product_id')['rating'].mean()\n",
        "plt.figure(figsize=(8, 5))\n",
        "plt.bar(average_rating_top_products.index, average_rating_top_products.values, color='lightgreen')\n",
        "plt.title('Average Rating for Top 5 Most Reviewed Products', fontsize=14)\n",
        "plt.xlabel('Product ID', fontsize=12)\n",
        "plt.ylabel('Average Rating', fontsize=12)\n",
        "plt.xticks(rotation=45, ha='right')\n",
        "plt.grid(axis='y', linestyle='--', alpha=0.7)\n",
        "plt.tight_layout()\n",
        "plt.show()"
      ]
    },
    {
      "cell_type": "markdown",
      "metadata": {
        "id": "aaVsfByUiU6k"
      },
      "source": [
        "Berdasarkan EDA yang sudah dilakukan pada dataset reviews,\n",
        "- rating 5 adalah rating yang paling sering diberikan oleh author pada saat memberikan penilaian produk, jarang sekali author memberikan rating 2 pada penilaian produknya.\n",
        "- lima produk dengan jumlah ulasan terbanyak semuanya memiliki rata-rata penilaian yang tinggi, yaitu di atas 4,5."
      ]
    },
    {
      "cell_type": "markdown",
      "metadata": {
        "id": "L-bY57F_kk6_"
      },
      "source": [
        "# Data Preparation"
      ]
    },
    {
      "cell_type": "markdown",
      "metadata": {
        "id": "89vP1kv0k1mP"
      },
      "source": [
        "### Product Dataset (Content-Based Filtering)"
      ]
    },
    {
      "cell_type": "code",
      "execution_count": null,
      "metadata": {
        "execution": {
          "iopub.execute_input": "2025-05-29T01:51:33.967965Z",
          "iopub.status.busy": "2025-05-29T01:51:33.967620Z",
          "iopub.status.idle": "2025-05-29T01:51:33.974902Z",
          "shell.execute_reply": "2025-05-29T01:51:33.973805Z",
          "shell.execute_reply.started": "2025-05-29T01:51:33.967939Z"
        },
        "id": "k1EP9s9XSlt0",
        "trusted": true
      },
      "outputs": [],
      "source": [
        "# Using selection feature for product dataset\n",
        "product_df = product_df[['product_id','product_name','brand_name','ingredients','primary_category','tertiary_category']]"
      ]
    },
    {
      "cell_type": "markdown",
      "metadata": {
        "id": "lFggTp0MVSJv"
      },
      "source": [
        "Informasi awal dataset untuk product memiliki dimensi (8494,27) yang artinya 8494 baris dengan 27 kolom (fitur). Dataset product ini berisikan produk yang dijual pada situs sephora, kandungan produk, jenis produk, dan lain sebagainya. Dari 27 fitur, dipilih 5 fitur yang relevan, antara lain\n",
        "\n",
        "```\n",
        "'product_id','product_name','brand_name','ingredients','primary_category','tertiary_category'\n",
        "```\n",
        "Fitur-fitur ini dipilih dengan alasan yang mendukung analisis produk skincare secara komprehensif.\n",
        "- **Product_ID** digunakan sebagai nilai unik untuk membedakan setiap produk secara individual.\n",
        "- **product_name** mencirikan nama produk,\n",
        "- **brand_name** mencirikan brand yang memproduksi skincare.\n",
        "- **Ingredients** berperan penting dalam menelusuri kandungan skincare untuk memastikan kecocokan dengan kebutuhan spesifik pengguna, seperti kulit sensitif atau berjerawat.\n",
        "- **Primary_Category** mencerminkan karakteristik utama produk, misalnya sebagai pewangi atau lotion, sedangkan\n",
        "- **Tertiary_Category** memberikan informasi tambahan yang lebih spesifik untuk melengkapi kategori utama dan memberikan pemahaman yang lebih rinci tentang produk. Dataframe product ini digunakan untuk sistem rekomendasi **content-based filtering**\n",
        "\n"
      ]
    },
    {
      "cell_type": "code",
      "execution_count": null,
      "metadata": {
        "colab": {
          "base_uri": "https://localhost:8080/"
        },
        "execution": {
          "iopub.execute_input": "2025-05-29T01:51:33.976469Z",
          "iopub.status.busy": "2025-05-29T01:51:33.976140Z",
          "iopub.status.idle": "2025-05-29T01:51:34.004105Z",
          "shell.execute_reply": "2025-05-29T01:51:34.003417Z",
          "shell.execute_reply.started": "2025-05-29T01:51:33.976446Z"
        },
        "id": "sF469H9SdnMP",
        "outputId": "27816afe-0364-4085-f7fc-5ff927737d81",
        "trusted": true
      },
      "outputs": [
        {
          "data": {
            "text/plain": [
              "0"
            ]
          },
          "execution_count": 87,
          "metadata": {},
          "output_type": "execute_result"
        }
      ],
      "source": [
        "# Checking for duplicate value\n",
        "product_df.duplicated().sum()"
      ]
    },
    {
      "cell_type": "code",
      "execution_count": null,
      "metadata": {
        "colab": {
          "base_uri": "https://localhost:8080/",
          "height": 272
        },
        "execution": {
          "iopub.execute_input": "2025-05-29T01:51:34.005717Z",
          "iopub.status.busy": "2025-05-29T01:51:34.005305Z",
          "iopub.status.idle": "2025-05-29T01:51:34.026055Z",
          "shell.execute_reply": "2025-05-29T01:51:34.025132Z",
          "shell.execute_reply.started": "2025-05-29T01:51:34.005687Z"
        },
        "id": "IrFrf5dob3N6",
        "outputId": "0f33447d-ce15-4e36-87db-8da8bcad7125",
        "trusted": true
      },
      "outputs": [
        {
          "data": {
            "text/plain": [
              "product_id             0\n",
              "product_name           0\n",
              "brand_name             0\n",
              "ingredients          945\n",
              "primary_category       0\n",
              "tertiary_category    990\n",
              "dtype: int64"
            ]
          },
          "execution_count": 88,
          "metadata": {},
          "output_type": "execute_result"
        }
      ],
      "source": [
        "# Checking for missing value\n",
        "(product_df.isnull() | product_df.isna() | (product_df == \"\")).sum()"
      ]
    },
    {
      "cell_type": "code",
      "execution_count": null,
      "metadata": {
        "execution": {
          "iopub.execute_input": "2025-05-29T01:51:34.027301Z",
          "iopub.status.busy": "2025-05-29T01:51:34.026966Z",
          "iopub.status.idle": "2025-05-29T01:51:34.049790Z",
          "shell.execute_reply": "2025-05-29T01:51:34.048837Z",
          "shell.execute_reply.started": "2025-05-29T01:51:34.027251Z"
        },
        "id": "eM6O7IPOb4ET",
        "trusted": true
      },
      "outputs": [],
      "source": [
        "# Droping missing value\n",
        "product_df.dropna(inplace=True)"
      ]
    },
    {
      "cell_type": "code",
      "execution_count": null,
      "metadata": {
        "colab": {
          "base_uri": "https://localhost:8080/"
        },
        "execution": {
          "iopub.execute_input": "2025-05-29T01:51:34.051227Z",
          "iopub.status.busy": "2025-05-29T01:51:34.050917Z",
          "iopub.status.idle": "2025-05-29T01:51:34.070927Z",
          "shell.execute_reply": "2025-05-29T01:51:34.069847Z",
          "shell.execute_reply.started": "2025-05-29T01:51:34.051204Z"
        },
        "id": "Mjx3_THpdtuD",
        "outputId": "64552689-5f6c-44f2-d736-dc240b75b6a2",
        "trusted": true
      },
      "outputs": [
        {
          "data": {
            "text/plain": [
              "(6642, 6)"
            ]
          },
          "execution_count": 90,
          "metadata": {},
          "output_type": "execute_result"
        }
      ],
      "source": [
        "# Product df shape\n",
        "product_df.shape"
      ]
    },
    {
      "cell_type": "code",
      "execution_count": null,
      "metadata": {
        "colab": {
          "base_uri": "https://localhost:8080/",
          "height": 272
        },
        "execution": {
          "iopub.execute_input": "2025-05-29T01:51:34.073074Z",
          "iopub.status.busy": "2025-05-29T01:51:34.072126Z",
          "iopub.status.idle": "2025-05-29T01:51:34.112804Z",
          "shell.execute_reply": "2025-05-29T01:51:34.111955Z",
          "shell.execute_reply.started": "2025-05-29T01:51:34.073017Z"
        },
        "id": "-uUlAeupd3wq",
        "outputId": "889407de-b9aa-4321-87cd-1ee34997a275",
        "trusted": true
      },
      "outputs": [
        {
          "data": {
            "text/plain": [
              "product_id           6642\n",
              "product_name         6592\n",
              "brand_name            278\n",
              "ingredients          5962\n",
              "primary_category        7\n",
              "tertiary_category     106\n",
              "dtype: int64"
            ]
          },
          "execution_count": 91,
          "metadata": {},
          "output_type": "execute_result"
        }
      ],
      "source": [
        "# Product_df unique\n",
        "product_df.nunique()"
      ]
    },
    {
      "cell_type": "markdown",
      "metadata": {
        "id": "DwjAW50hXD7w"
      },
      "source": [
        "Setelah dilakukan pemilihan dilanjutkan dengan pemeriksaan nilai yang duplikat serta nilai yang hilang. Terdapat beberapa nilai yang hilang dari dataset, sehingga diputuskan untuk melakukan drop pada row. Setelah dilakukan pembersian tersisa 6642 baris dengan **product_name** sebanyak 6592, **ingredient** sebanyak 5962, 7 **primary_category**, **brand_name** sebanyak 278 dan 106 **tertiary_category** yang  masing- masing bernilai unik."
      ]
    },
    {
      "cell_type": "code",
      "execution_count": null,
      "metadata": {
        "execution": {
          "iopub.execute_input": "2025-05-29T01:51:34.114506Z",
          "iopub.status.busy": "2025-05-29T01:51:34.114129Z",
          "iopub.status.idle": "2025-05-29T01:51:34.118891Z",
          "shell.execute_reply": "2025-05-29T01:51:34.118061Z",
          "shell.execute_reply.started": "2025-05-29T01:51:34.114484Z"
        },
        "id": "qV36Jh34lF_z",
        "trusted": true
      },
      "outputs": [],
      "source": [
        "# Vectorizer\n",
        "vectorizer = TfidfVectorizer()"
      ]
    },
    {
      "cell_type": "code",
      "execution_count": null,
      "metadata": {
        "execution": {
          "iopub.execute_input": "2025-05-29T01:51:34.120701Z",
          "iopub.status.busy": "2025-05-29T01:51:34.120164Z",
          "iopub.status.idle": "2025-05-29T01:51:34.607136Z",
          "shell.execute_reply": "2025-05-29T01:51:34.606333Z",
          "shell.execute_reply.started": "2025-05-29T01:51:34.120672Z"
        },
        "id": "uocNwLiSleGo",
        "trusted": true
      },
      "outputs": [],
      "source": [
        "# Making vector word for each feature\n",
        "ingredient_vector = vectorizer.fit_transform(product_df['ingredients'])\n",
        "prim_category_vector = vectorizer.fit_transform(product_df['primary_category'])\n",
        "tert_category_vector = vectorizer.fit_transform(product_df['tertiary_category'])"
      ]
    },
    {
      "cell_type": "code",
      "execution_count": null,
      "metadata": {
        "execution": {
          "iopub.execute_input": "2025-05-29T01:51:34.608199Z",
          "iopub.status.busy": "2025-05-29T01:51:34.607975Z",
          "iopub.status.idle": "2025-05-29T01:51:34.620439Z",
          "shell.execute_reply": "2025-05-29T01:51:34.619350Z",
          "shell.execute_reply.started": "2025-05-29T01:51:34.608184Z"
        },
        "id": "mgV2k8AVl_Y_",
        "trusted": true
      },
      "outputs": [],
      "source": [
        "# Combining all features that have been vectorized\n",
        "combined_features = hstack([ingredient_vector, prim_category_vector, tert_category_vector])"
      ]
    },
    {
      "cell_type": "markdown",
      "metadata": {
        "id": "4FyZ4PfLoIyp"
      },
      "source": [
        "Langkah- langkah yang dilakukan pada data preparation untuk product dataset adalah sebagai berikut:\n",
        "- Inisialisasi Vectorizer:\n",
        "Membuat objek TfidfVectorizer() yang akan digunakan untuk mengubah data teks menjadi representasi numerik (vektor).\n",
        "\n",
        "- Membuat Vektor untuk Setiap Fitur:\n",
        "Mengubah kolom **ingredients**, **primary_category**, dan **tertiary_category** pada dataframe menjadi vektor TF-IDF secara terpisah menggunakan fit_transform.\n",
        "\n",
        "- Menggabungkan Semua Fitur yang Sudah Divectorisasi:\n",
        "Menggabungkan ketiga vektor hasil transformasi tersebut menjadi satu matriks fitur menggunakan fungsi hstack."
      ]
    },
    {
      "cell_type": "markdown",
      "metadata": {
        "id": "5kYbC1IOm9cS"
      },
      "source": [
        "### Reviews Dataset (Collaborative Filtering)"
      ]
    },
    {
      "cell_type": "code",
      "execution_count": null,
      "metadata": {
        "execution": {
          "iopub.execute_input": "2025-05-29T01:51:34.621791Z",
          "iopub.status.busy": "2025-05-29T01:51:34.621467Z",
          "iopub.status.idle": "2025-05-29T01:51:34.631999Z",
          "shell.execute_reply": "2025-05-29T01:51:34.630963Z",
          "shell.execute_reply.started": "2025-05-29T01:51:34.621761Z"
        },
        "id": "XeCZDimdUfjs",
        "trusted": true
      },
      "outputs": [],
      "source": [
        "# Using selection feature for reviews dataset\n",
        "reviews_df = reviews_df[['author_id','product_id','rating']]"
      ]
    },
    {
      "cell_type": "code",
      "execution_count": null,
      "metadata": {
        "colab": {
          "base_uri": "https://localhost:8080/",
          "height": 178
        },
        "execution": {
          "iopub.execute_input": "2025-05-29T01:51:34.633325Z",
          "iopub.status.busy": "2025-05-29T01:51:34.632985Z",
          "iopub.status.idle": "2025-05-29T01:51:34.677872Z",
          "shell.execute_reply": "2025-05-29T01:51:34.676785Z",
          "shell.execute_reply.started": "2025-05-29T01:51:34.633276Z"
        },
        "id": "ZY2Z8-E-cWAE",
        "outputId": "30573515-0d22-451d-ae39-f76ae2a27429",
        "trusted": true
      },
      "outputs": [
        {
          "data": {
            "text/plain": [
              "author_id     0\n",
              "product_id    0\n",
              "rating        0\n",
              "dtype: int64"
            ]
          },
          "execution_count": 96,
          "metadata": {},
          "output_type": "execute_result"
        }
      ],
      "source": [
        "# Checking for missing value\n",
        "(reviews_df.isnull() |reviews_df.isna() | (reviews_df == \"\")).sum()"
      ]
    },
    {
      "cell_type": "code",
      "execution_count": null,
      "metadata": {
        "colab": {
          "base_uri": "https://localhost:8080/"
        },
        "execution": {
          "iopub.execute_input": "2025-05-29T01:51:34.679800Z",
          "iopub.status.busy": "2025-05-29T01:51:34.678833Z",
          "iopub.status.idle": "2025-05-29T01:51:34.703381Z",
          "shell.execute_reply": "2025-05-29T01:51:34.702530Z",
          "shell.execute_reply.started": "2025-05-29T01:51:34.679775Z"
        },
        "id": "Bl9pimDDcYFO",
        "outputId": "59d821fc-5553-4aaa-97d0-dc39c124d01e",
        "trusted": true
      },
      "outputs": [
        {
          "data": {
            "text/plain": [
              "33"
            ]
          },
          "execution_count": 97,
          "metadata": {},
          "output_type": "execute_result"
        }
      ],
      "source": [
        "# Checking for duplicated data\n",
        "reviews_df.duplicated().sum()"
      ]
    },
    {
      "cell_type": "code",
      "execution_count": null,
      "metadata": {
        "execution": {
          "iopub.execute_input": "2025-05-29T01:51:34.704346Z",
          "iopub.status.busy": "2025-05-29T01:51:34.704026Z",
          "iopub.status.idle": "2025-05-29T01:51:34.736382Z",
          "shell.execute_reply": "2025-05-29T01:51:34.735151Z",
          "shell.execute_reply.started": "2025-05-29T01:51:34.704318Z"
        },
        "id": "R-QJzgOHcdQZ",
        "trusted": true
      },
      "outputs": [],
      "source": [
        "# Droping duplicated data\n",
        "reviews_df.drop_duplicates(inplace=True)"
      ]
    },
    {
      "cell_type": "code",
      "execution_count": null,
      "metadata": {
        "colab": {
          "base_uri": "https://localhost:8080/"
        },
        "execution": {
          "iopub.execute_input": "2025-05-29T01:51:34.737711Z",
          "iopub.status.busy": "2025-05-29T01:51:34.737415Z",
          "iopub.status.idle": "2025-05-29T01:51:34.746941Z",
          "shell.execute_reply": "2025-05-29T01:51:34.745884Z",
          "shell.execute_reply.started": "2025-05-29T01:51:34.737688Z"
        },
        "id": "CncSVaaMeHhS",
        "outputId": "651b9648-15aa-4fff-df26-76c9dc5d0495",
        "trusted": true
      },
      "outputs": [
        {
          "data": {
            "text/plain": [
              "(49944, 3)"
            ]
          },
          "execution_count": 99,
          "metadata": {},
          "output_type": "execute_result"
        }
      ],
      "source": [
        "# reviews shape\n",
        "reviews_df.shape"
      ]
    },
    {
      "cell_type": "code",
      "execution_count": null,
      "metadata": {
        "colab": {
          "base_uri": "https://localhost:8080/",
          "height": 178
        },
        "execution": {
          "iopub.execute_input": "2025-05-29T01:51:34.748229Z",
          "iopub.status.busy": "2025-05-29T01:51:34.747925Z",
          "iopub.status.idle": "2025-05-29T01:51:34.792770Z",
          "shell.execute_reply": "2025-05-29T01:51:34.791802Z",
          "shell.execute_reply.started": "2025-05-29T01:51:34.748207Z"
        },
        "id": "NyvG01HoeHeO",
        "outputId": "00506d36-a5be-4888-bda0-32882d7dac1f",
        "trusted": true
      },
      "outputs": [
        {
          "data": {
            "text/plain": [
              "author_id     41457\n",
              "product_id     1104\n",
              "rating            5\n",
              "dtype: int64"
            ]
          },
          "execution_count": 100,
          "metadata": {},
          "output_type": "execute_result"
        }
      ],
      "source": [
        "#reviews uniqe character\n",
        "reviews_df.nunique()"
      ]
    },
    {
      "cell_type": "markdown",
      "metadata": {
        "id": "fXmvz2rIW3SR"
      },
      "source": [
        "informasi awal dataset reviews berdimensi (49977,19) yang berari 49977 baris dengan 19 fitur. Dataset ini berisikan rating, ulasan produk dari author terhadap produk yang telah digunakan. Dari 19 fitur yang ada, dipilih 3 fitur antara lain sebagai berikut.\n",
        "\n",
        "```\n",
        "'author_id','product_id','rating'\n",
        "```\n",
        "3 fitur ini dipilih dikarenakan **author_id** mencirikan pengguna yang memberikan rating dan ulasan terhadapa produk yang digunakakan. **product_id** merepresentasikan nama produk yang dinilia serta, **rating** mencerminkan penilaian yang diberikan oleh author terhadap produk tersebut. 3 Fitur yang dipilih ini akan digunakan pada sistem rekomendasi **collaborative-filering**.\n"
      ]
    },
    {
      "cell_type": "markdown",
      "metadata": {
        "id": "NYp_NTnmZwYn"
      },
      "source": [
        "Setelah dilakukan pemilihan, dilakukan pengecheckan missing value, dan nilai yang terduplikasi. Ditemukan 0 missing value dan 33 data terdupliasi selanjutkan dilakukan drop pada nilai yang terduplikasi. Setelah dilakukan pembersihan tersisah 41457 row dengan karakter unik untuk product_id yang diulas sebanyak 1104 dan terdapat 5 tingkatan rating yang diberikan."
      ]
    },
    {
      "cell_type": "code",
      "execution_count": null,
      "metadata": {
        "execution": {
          "iopub.execute_input": "2025-05-29T01:51:34.794137Z",
          "iopub.status.busy": "2025-05-29T01:51:34.793805Z",
          "iopub.status.idle": "2025-05-29T01:51:35.132513Z",
          "shell.execute_reply": "2025-05-29T01:51:35.131568Z",
          "shell.execute_reply.started": "2025-05-29T01:51:34.794110Z"
        },
        "id": "KtFTyZ0w2AHp",
        "trusted": true
      },
      "outputs": [],
      "source": [
        "# 1. Spliting data into train and test (before encoding)\n",
        "train_df, test_df = train_test_split(reviews_df, test_size=0.2, random_state=42)\n",
        "\n",
        "# 2. Encode user_id and product_id only based on the training data categories\n",
        "user_cat = pd.Categorical(train_df['author_id'])\n",
        "product_cat = pd.Categorical(train_df['product_id'])\n",
        "\n",
        "train_user_ids = user_cat.codes\n",
        "train_product_ids = product_cat.codes\n",
        "train_ratings = train_df['rating'].values\n",
        "\n",
        "# 3. Build a mapping from user_id/product_id to encoded index for later use in predictions\n",
        "user_id_to_idx = dict(zip(user_cat.categories, range(len(user_cat.categories))))\n",
        "product_id_to_idx = dict(zip(product_cat.categories, range(len(product_cat.categories))))\n",
        "\n",
        "# 4. Create user-item rating matrix from training data\n",
        "num_users = len(user_cat.categories)\n",
        "num_products = len(product_cat.categories)\n",
        "rating_matrix = np.zeros((num_users, num_products))\n",
        "\n",
        "for u, p, r in zip(train_user_ids, train_product_ids, train_ratings):\n",
        "    rating_matrix[u, p] = r\n",
        "\n",
        "# Now rating_matrix contains training ratings only\n",
        "\n",
        "# 5. For testing, encode test users/products using training encoders\n",
        "def encode_user_product_ids(df, user_mapping, product_mapping):\n",
        "    encoded_users = df['author_id'].map(user_mapping)\n",
        "    encoded_products = df['product_id'].map(product_mapping)\n",
        "    # Drop rows with unknown users/products (cold start)\n",
        "    mask = encoded_users.notna() & encoded_products.notna()\n",
        "    return encoded_users[mask].astype(int), encoded_products[mask].astype(int), df.loc[mask, 'rating']\n",
        "\n",
        "test_user_ids, test_product_ids, test_ratings = encode_user_product_ids(test_df, user_id_to_idx, product_id_to_idx)\n"
      ]
    },
    {
      "cell_type": "markdown",
      "metadata": {
        "id": "AR13TaE6oz92"
      },
      "source": [
        "Langkah-langkah yang dilakukan pada proses ini untuk dataset revies adalah:\n",
        "\n",
        "- Definisi Dataset:\n",
        "  - Membuat variabel X yang terdiri dari kolom author_id dan product_id dari DataFrame reviews_df. Variabel ini mewakili fitur input untuk model.\n",
        "  - Membuat variabel y yang merupakan kolom rating dari DataFrame yang sama. Variabel ini menjadi target output.\n",
        "- encoding user dan product menjadi numeric\n",
        "- membuat vektor yang berisikan user, item, dan rating\n",
        "- spliting data training testing (80:20)"
      ]
    },
    {
      "cell_type": "markdown",
      "metadata": {
        "id": "Pc2Vuu59n3vE"
      },
      "source": [
        "# Modeling"
      ]
    },
    {
      "cell_type": "markdown",
      "metadata": {
        "id": "6rsqFgbzn6Vw"
      },
      "source": [
        "### Content-Based Learning"
      ]
    },
    {
      "cell_type": "code",
      "execution_count": null,
      "metadata": {
        "execution": {
          "iopub.execute_input": "2025-05-29T01:51:35.133592Z",
          "iopub.status.busy": "2025-05-29T01:51:35.133344Z",
          "iopub.status.idle": "2025-05-29T01:51:37.957774Z",
          "shell.execute_reply": "2025-05-29T01:51:37.956763Z",
          "shell.execute_reply.started": "2025-05-29T01:51:35.133573Z"
        },
        "id": "aqL98rXIpHnx",
        "trusted": true
      },
      "outputs": [],
      "source": [
        "# Counting Similarity Matrix\n",
        "cosine_sim_matrix = cosine_similarity(combined_features)"
      ]
    },
    {
      "cell_type": "code",
      "execution_count": null,
      "metadata": {
        "colab": {
          "base_uri": "https://localhost:8080/"
        },
        "execution": {
          "iopub.execute_input": "2025-05-29T01:51:37.959114Z",
          "iopub.status.busy": "2025-05-29T01:51:37.958786Z",
          "iopub.status.idle": "2025-05-29T01:51:37.965680Z",
          "shell.execute_reply": "2025-05-29T01:51:37.964646Z",
          "shell.execute_reply.started": "2025-05-29T01:51:37.959083Z"
        },
        "id": "Eb2BCo3Tpkdc",
        "outputId": "a0e68c93-4cef-4d0f-dce1-e9d1039cd81b",
        "trusted": true
      },
      "outputs": [
        {
          "data": {
            "text/plain": [
              "array([[1.        , 0.75353382, 0.76443952, ..., 0.80221979, 0.6782589 ,\n",
              "        0.00949455],\n",
              "       [0.75353382, 1.        , 0.91825784, ..., 0.60787055, 0.44235932,\n",
              "        0.00506409],\n",
              "       [0.76443952, 0.91825784, 1.        , ..., 0.6002254 , 0.43155888,\n",
              "        0.0058402 ],\n",
              "       ...,\n",
              "       [0.80221979, 0.60787055, 0.6002254 , ..., 1.        , 0.67522905,\n",
              "        0.04319711],\n",
              "       [0.6782589 , 0.44235932, 0.43155888, ..., 0.67522905, 1.        ,\n",
              "        0.03056578],\n",
              "       [0.00949455, 0.00506409, 0.0058402 , ..., 0.04319711, 0.03056578,\n",
              "        1.        ]])"
            ]
          },
          "execution_count": 103,
          "metadata": {},
          "output_type": "execute_result"
        }
      ],
      "source": [
        "cosine_sim_matrix"
      ]
    },
    {
      "cell_type": "code",
      "execution_count": null,
      "metadata": {
        "execution": {
          "iopub.execute_input": "2025-05-29T01:51:37.966964Z",
          "iopub.status.busy": "2025-05-29T01:51:37.966678Z",
          "iopub.status.idle": "2025-05-29T01:51:37.991586Z",
          "shell.execute_reply": "2025-05-29T01:51:37.990215Z",
          "shell.execute_reply.started": "2025-05-29T01:51:37.966942Z"
        },
        "id": "3PKZ85icpoyN",
        "trusted": true
      },
      "outputs": [],
      "source": [
        "# Save cosine similarity matrix as dataframe\n",
        "similarity_df = pd.DataFrame(cosine_sim_matrix, index=product_df['product_id'], columns=product_df['product_id'])"
      ]
    },
    {
      "cell_type": "code",
      "execution_count": null,
      "metadata": {
        "colab": {
          "base_uri": "https://localhost:8080/"
        },
        "execution": {
          "iopub.execute_input": "2025-05-29T01:51:37.997414Z",
          "iopub.status.busy": "2025-05-29T01:51:37.997081Z",
          "iopub.status.idle": "2025-05-29T01:51:38.018771Z",
          "shell.execute_reply": "2025-05-29T01:51:38.017783Z",
          "shell.execute_reply.started": "2025-05-29T01:51:37.997379Z"
        },
        "id": "-HHwq514py9Q",
        "outputId": "cb8802a2-2c87-4e52-d19d-2532c83943ef",
        "trusted": true
      },
      "outputs": [
        {
          "data": {
            "text/plain": [
              "(6642, 6642)"
            ]
          },
          "execution_count": 105,
          "metadata": {},
          "output_type": "execute_result"
        }
      ],
      "source": [
        "# Cosine similarity dimension\n",
        "similarity_df.shape"
      ]
    },
    {
      "cell_type": "code",
      "execution_count": null,
      "metadata": {
        "execution": {
          "iopub.execute_input": "2025-05-29T01:51:38.019991Z",
          "iopub.status.busy": "2025-05-29T01:51:38.019738Z",
          "iopub.status.idle": "2025-05-29T01:51:38.046143Z",
          "shell.execute_reply": "2025-05-29T01:51:38.044869Z",
          "shell.execute_reply.started": "2025-05-29T01:51:38.019970Z"
        },
        "id": "h9LON9Sgp7Rx",
        "trusted": true
      },
      "outputs": [],
      "source": [
        "# Reseting indices in product dataset\n",
        "product_df = product_df.reset_index(drop=True)"
      ]
    },
    {
      "cell_type": "code",
      "execution_count": null,
      "metadata": {
        "execution": {
          "iopub.execute_input": "2025-05-29T01:51:38.047662Z",
          "iopub.status.busy": "2025-05-29T01:51:38.047222Z",
          "iopub.status.idle": "2025-05-29T01:51:38.066496Z",
          "shell.execute_reply": "2025-05-29T01:51:38.065428Z",
          "shell.execute_reply.started": "2025-05-29T01:51:38.047636Z"
        },
        "id": "Ik-EnDIpqNzc",
        "trusted": true
      },
      "outputs": [],
      "source": [
        "# Getting Recomendation function\n",
        "def generate_recommendations(item_id, num_recommendations=5):\n",
        "    idx = product_df.index[product_df['product_id'] == item_id].tolist()[0]\n",
        "    similarity_scores = cosine_sim_matrix[idx]\n",
        "    sorted_indices = similarity_scores.argsort()[::-1]\n",
        "    filtered_indices = [i for i in sorted_indices if i != idx][:num_recommendations]\n",
        "    recommended_items = product_df.loc[filtered_indices, ['product_name', 'brand_name', 'primary_category', 'tertiary_category']].copy()\n",
        "    recommended_items.insert(0, 'ranking', range(1, num_recommendations + 1))\n",
        "    product_name = product_df.loc[product_df['product_id'] == item_id, 'product_name'].values[0]\n",
        "\n",
        "    print(f\"Recommendations for: {product_name}\\n\")\n",
        "    print(tabulate(recommended_items, headers='keys', tablefmt='psql', showindex=False))\n",
        "\n",
        "    return {\n",
        "        'product_name': product_name,\n",
        "        'recommendations': recommended_items\n",
        "    }"
      ]
    },
    {
      "cell_type": "code",
      "execution_count": null,
      "metadata": {
        "execution": {
          "iopub.execute_input": "2025-05-29T01:51:44.467018Z",
          "iopub.status.busy": "2025-05-29T01:51:44.466769Z",
          "iopub.status.idle": "2025-05-29T01:51:44.472345Z",
          "shell.execute_reply": "2025-05-29T01:51:44.471215Z",
          "shell.execute_reply.started": "2025-05-29T01:51:44.466998Z"
        },
        "id": "aDaM4pDHrMNZ",
        "trusted": true
      },
      "outputs": [],
      "source": [
        "def print_recommendations(rec_dict):\n",
        "    print(f\"Recommendations for: {rec_dict['product_name']}\\n\")\n",
        "    print(tabulate(rec_dict['recommendations'], headers='keys', tablefmt='psql', showindex=False))"
      ]
    },
    {
      "cell_type": "code",
      "execution_count": null,
      "metadata": {
        "colab": {
          "base_uri": "https://localhost:8080/"
        },
        "execution": {
          "iopub.execute_input": "2025-05-29T01:51:44.473588Z",
          "iopub.status.busy": "2025-05-29T01:51:44.473267Z",
          "iopub.status.idle": "2025-05-29T01:51:44.501189Z",
          "shell.execute_reply": "2025-05-29T01:51:44.499989Z",
          "shell.execute_reply.started": "2025-05-29T01:51:44.473554Z"
        },
        "id": "ERL7J5i5jktB",
        "outputId": "825d1825-6c3b-4998-8530-899ea416e5f5",
        "trusted": true
      },
      "outputs": [
        {
          "name": "stdout",
          "output_type": "stream",
          "text": [
            "Recommendations for: Fragrance Discovery Set\n",
            "\n",
            "+-----------+---------------------------------------+--------------------+--------------------+---------------------+\n",
            "|   ranking | product_name                          | brand_name         | primary_category   | tertiary_category   |\n",
            "|-----------+---------------------------------------+--------------------+--------------------+---------------------|\n",
            "|         1 | Wild Poppy Perfume Set                | NEST New York      | Fragrance          | Perfume Gift Sets   |\n",
            "|         2 | Sunkissed Hibiscus Fine Fragrance Set | NEST New York      | Fragrance          | Perfume Gift Sets   |\n",
            "|         3 | Not a Perfume Sampler Set             | Juliette Has a Gun | Fragrance          | Perfume Gift Sets   |\n",
            "|         4 | Essential Wardrobe Eau de Parfum Set  | Juliette Has a Gun | Fragrance          | Perfume Gift Sets   |\n",
            "|         5 | Mini Fragrance Discovery Set          | HERMÈS             | Fragrance          | Perfume Gift Sets   |\n",
            "+-----------+---------------------------------------+--------------------+--------------------+---------------------+\n",
            "Recommendations for: Fragrance Discovery Set\n",
            "\n",
            "+-----------+---------------------------------------+--------------------+--------------------+---------------------+\n",
            "|   ranking | product_name                          | brand_name         | primary_category   | tertiary_category   |\n",
            "|-----------+---------------------------------------+--------------------+--------------------+---------------------|\n",
            "|         1 | Wild Poppy Perfume Set                | NEST New York      | Fragrance          | Perfume Gift Sets   |\n",
            "|         2 | Sunkissed Hibiscus Fine Fragrance Set | NEST New York      | Fragrance          | Perfume Gift Sets   |\n",
            "|         3 | Not a Perfume Sampler Set             | Juliette Has a Gun | Fragrance          | Perfume Gift Sets   |\n",
            "|         4 | Essential Wardrobe Eau de Parfum Set  | Juliette Has a Gun | Fragrance          | Perfume Gift Sets   |\n",
            "|         5 | Mini Fragrance Discovery Set          | HERMÈS             | Fragrance          | Perfume Gift Sets   |\n",
            "+-----------+---------------------------------------+--------------------+--------------------+---------------------+\n"
          ]
        }
      ],
      "source": [
        "result = generate_recommendations('P473671')\n",
        "print_recommendations(result)"
      ]
    },
    {
      "cell_type": "markdown",
      "metadata": {
        "id": "30DnlRIRuUo-"
      },
      "source": [
        "### Collaborative Filtering"
      ]
    },
    {
      "cell_type": "code",
      "execution_count": null,
      "metadata": {
        "execution": {
          "iopub.execute_input": "2025-05-29T01:51:38.068086Z",
          "iopub.status.busy": "2025-05-29T01:51:38.067818Z",
          "iopub.status.idle": "2025-05-29T01:51:38.110780Z",
          "shell.execute_reply": "2025-05-29T01:51:38.109386Z",
          "shell.execute_reply.started": "2025-05-29T01:51:38.068066Z"
        },
        "id": "UtGo3OBMzVrZ",
        "trusted": true
      },
      "outputs": [],
      "source": [
        "# Transpose rating matrix to get item vectors in rows\n",
        "item_matrix = rating_matrix.T"
      ]
    },
    {
      "cell_type": "code",
      "execution_count": null,
      "metadata": {
        "colab": {
          "base_uri": "https://localhost:8080/"
        },
        "execution": {
          "iopub.execute_input": "2025-05-29T01:51:38.112462Z",
          "iopub.status.busy": "2025-05-29T01:51:38.111991Z",
          "iopub.status.idle": "2025-05-29T01:51:39.109792Z",
          "shell.execute_reply": "2025-05-29T01:51:39.108757Z",
          "shell.execute_reply.started": "2025-05-29T01:51:38.112432Z"
        },
        "id": "8P1V4fYtzXv6",
        "outputId": "23836f43-b9b1-492f-a329-1493bb68c469",
        "trusted": true
      },
      "outputs": [
        {
          "name": "stdout",
          "output_type": "stream",
          "text": [
            "Item similarity matrix shape: (1098, 1098)\n"
          ]
        }
      ],
      "source": [
        "# Compute cosine similarity between items\n",
        "item_similarity = cosine_similarity(item_matrix)\n",
        "print(\"Item similarity matrix shape:\", item_similarity.shape)"
      ]
    },
    {
      "cell_type": "code",
      "execution_count": null,
      "metadata": {
        "execution": {
          "iopub.execute_input": "2025-05-29T01:51:39.111131Z",
          "iopub.status.busy": "2025-05-29T01:51:39.110820Z",
          "iopub.status.idle": "2025-05-29T01:51:39.127478Z",
          "shell.execute_reply": "2025-05-29T01:51:39.126630Z",
          "shell.execute_reply.started": "2025-05-29T01:51:39.111100Z"
        },
        "id": "GwQA3shCjMGT",
        "trusted": true
      },
      "outputs": [],
      "source": [
        "def recommend_products_with_cosine_and_similar_users(user_id, review_data, product_data, n=5, m=5):\n",
        "    if user_id not in review_data['author_id'].values:\n",
        "        print(f\"User {user_id} not found in the review data.\")\n",
        "        return\n",
        "\n",
        "    # Create user-product rating matrix (pivot)\n",
        "    user_product_matrix = review_data.pivot_table(index='author_id', columns='product_id', values='rating').fillna(0)\n",
        "\n",
        "    # Compute cosine similarity matrices for items and users\n",
        "    item_similarity_matrix = cosine_similarity(user_product_matrix.T)\n",
        "    item_similarity_df = pd.DataFrame(item_similarity_matrix, index=user_product_matrix.columns, columns=user_product_matrix.columns)\n",
        "\n",
        "    user_similarity_matrix = cosine_similarity(user_product_matrix)\n",
        "    user_similarity_df = pd.DataFrame(user_similarity_matrix, index=user_product_matrix.index, columns=user_product_matrix.index)\n",
        "\n",
        "    # Get products rated by the user\n",
        "    user_ratings = review_data[review_data['author_id'] == user_id]\n",
        "    rated_products = user_ratings['product_id'].tolist()\n",
        "\n",
        "    all_products = user_product_matrix.columns.tolist()\n",
        "    unrated_products = [p for p in all_products if p not in rated_products]\n",
        "\n",
        "    # Calculate item-based recommendation scores\n",
        "    scores = {}\n",
        "    for rated_product in rated_products:\n",
        "        if rated_product not in item_similarity_df.index:\n",
        "            continue\n",
        "        rated_product_rating = user_ratings[user_ratings['product_id'] == rated_product]['rating'].values[0]\n",
        "        for unrated_product in unrated_products:\n",
        "            if unrated_product not in item_similarity_df.columns:\n",
        "                continue\n",
        "            similarity_score = item_similarity_df.loc[rated_product, unrated_product]\n",
        "            scores[unrated_product] = scores.get(unrated_product, 0) + similarity_score * rated_product_rating\n",
        "\n",
        "    recommended_products = sorted(scores.items(), key=lambda x: x[1], reverse=True)[:n]\n",
        "\n",
        "    # Calculate user-based recommendations from similar users\n",
        "    if user_id not in user_similarity_df.index:\n",
        "        print(f\"User {user_id} not found in the user similarity matrix.\")\n",
        "        similar_user_recommendations = []\n",
        "    else:\n",
        "        similar_users = user_similarity_df.loc[user_id].sort_values(ascending=False).drop(user_id).head(m).index.tolist()\n",
        "        similar_user_scores = {}\n",
        "        for sim_user in similar_users:\n",
        "            sim_user_ratings = review_data[review_data['author_id'] == sim_user]\n",
        "            for _, row in sim_user_ratings.iterrows():\n",
        "                product = row['product_id']\n",
        "                rating = row['rating']\n",
        "                if product not in rated_products and rating >= 4:\n",
        "                    similar_user_scores[product] = max(similar_user_scores.get(product, 0), rating)\n",
        "        similar_user_recommendations = sorted(similar_user_scores.items(), key=lambda x: x[1], reverse=True)[:m]\n",
        "\n",
        "    # Print item-based recommendations\n",
        "    print(f\"\\nTop-{n} Item-based Recommendations for User {user_id}:\\n\")\n",
        "    recommendations = []\n",
        "    for rank, (product_id, score) in enumerate(recommended_products, start=1):\n",
        "        product_info = product_data[product_data['product_id'] == product_id]\n",
        "        if product_info.empty:\n",
        "            continue\n",
        "        product_name = product_info.iloc[0]['product_name']\n",
        "        category = product_info.iloc[0]['primary_category']\n",
        "        recommendations.append([rank, product_id, product_name, category, score])\n",
        "    print(tabulate(recommendations, headers=[\"Rank\", \"Product ID\", \"Product Name\", \"Category\", \"Score\"], tablefmt=\"psql\"))\n",
        "\n",
        "    # Print user-based recommendations\n",
        "    print(f\"\\nTop-{m} User-based Recommendations from Similar Users for User {user_id}:\\n\")\n",
        "    user_based_recs = []\n",
        "    for rank, (product_id, rating) in enumerate(similar_user_recommendations, start=1):\n",
        "        product_info = product_data[product_data['product_id'] == product_id]\n",
        "        if product_info.empty:\n",
        "            continue\n",
        "        product_name = product_info.iloc[0]['product_name']\n",
        "        category = product_info.iloc[0]['primary_category']\n",
        "        user_based_recs.append([rank, product_id, product_name, category, rating])\n",
        "    print(tabulate(user_based_recs, headers=[\"Rank\", \"Product ID\", \"Product Name\", \"Category\", \"Rating\"], tablefmt=\"psql\"))"
      ]
    },
    {
      "cell_type": "code",
      "execution_count": null,
      "metadata": {
        "execution": {
          "iopub.execute_input": "2025-05-29T01:51:44.502690Z",
          "iopub.status.busy": "2025-05-29T01:51:44.502248Z",
          "iopub.status.idle": "2025-05-29T01:52:23.846404Z",
          "shell.execute_reply": "2025-05-29T01:52:23.845329Z",
          "shell.execute_reply.started": "2025-05-29T01:51:44.502624Z"
        },
        "id": "Jge7pOVjkuku",
        "trusted": true,
        "outputId": "e22bcdb5-8864-47f4-bfd2-7a6334584c0e"
      },
      "outputs": [
        {
          "name": "stdout",
          "output_type": "stream",
          "text": [
            "\n",
            "Top-5 Item-based Recommendations for User 1845533064:\n",
            "\n",
            "+--------+--------------+--------------------------------------------------+------------+---------+\n",
            "|   Rank | Product ID   | Product Name                                     | Category   |   Score |\n",
            "|--------+--------------+--------------------------------------------------+------------+---------|\n",
            "|      1 | P504637      | Equilibrium Resurfacing Retinoid Treatment       | Skincare   | 2.06313 |\n",
            "|      3 | P502200      | HydraKate Recharging Serum with Hyaluronic Acid  | Skincare   | 1.48869 |\n",
            "|      4 | P483700      | Smoothing Vitamin C Eye + Expression Lines Cream | Skincare   | 1.4814  |\n",
            "|      5 | P481086      | Liftwear Brightening Vitamin C Gel-Cream         | Skincare   | 1.4412  |\n",
            "+--------+--------------+--------------------------------------------------+------------+---------+\n",
            "\n",
            "Top-5 User-based Recommendations from Similar Users for User 1845533064:\n",
            "\n",
            "+--------+--------------+-----------------------------------------------------------+------------+----------+\n",
            "|   Rank | Product ID   | Product Name                                              | Category   |   Rating |\n",
            "|--------+--------------+-----------------------------------------------------------+------------+----------|\n",
            "|      1 | P473148      | Mask-imum Revival Hydra-Plumping Mask                     | Skincare   |        5 |\n",
            "|      2 | P468850      | Signature Moisturizer                                     | Skincare   |        5 |\n",
            "|      3 | P474843      | Absolue Soft Cream Revitalizing & Brightening Moisturizer | Skincare   |        5 |\n",
            "|      4 | P471097      | Facial Sculpting Wand                                     | Skincare   |        5 |\n",
            "+--------+--------------+-----------------------------------------------------------+------------+----------+\n"
          ]
        }
      ],
      "source": [
        "recommend_products_with_cosine_and_similar_users('1845533064',reviews_df,product_df)"
      ]
    },
    {
      "cell_type": "markdown",
      "metadata": {
        "id": "Tclnm_5y30Od"
      },
      "source": [
        "# Evaluation"
      ]
    },
    {
      "cell_type": "markdown",
      "metadata": {
        "id": "o3LoUp5w5czJ"
      },
      "source": [
        "### Content-Based Filtering\n"
      ]
    },
    {
      "cell_type": "code",
      "execution_count": null,
      "metadata": {
        "colab": {
          "base_uri": "https://localhost:8080/"
        },
        "execution": {
          "iopub.execute_input": "2025-05-29T01:51:39.128779Z",
          "iopub.status.busy": "2025-05-29T01:51:39.128485Z",
          "iopub.status.idle": "2025-05-29T01:51:39.209213Z",
          "shell.execute_reply": "2025-05-29T01:51:39.208359Z",
          "shell.execute_reply.started": "2025-05-29T01:51:39.128757Z"
        },
        "id": "OsB0A5Yn7ULU",
        "outputId": "ccb8d332-7345-4c61-896c-bed66bcc5127",
        "trusted": true
      },
      "outputs": [
        {
          "name": "stdout",
          "output_type": "stream",
          "text": [
            "Recommendations for: Crème Brûlée Soufflé Body Crème\n",
            "\n",
            "+-----------+----------------------------------------+------------------+--------------------+--------------------------+\n",
            "|   ranking | product_name                           | brand_name       | primary_category   | tertiary_category        |\n",
            "|-----------+----------------------------------------+------------------+--------------------+--------------------------|\n",
            "|         1 | Almond Coconut Soufflé Body Crème      | Laura Mercier    | Bath & Body        | Body Lotions & Body Oils |\n",
            "|         2 | Citrine Body Cream                     | NEST New York    | Bath & Body        | Body Lotions & Body Oils |\n",
            "|         3 | Shea Butter Ultra Rich Body Cream      | L'Occitane       | Bath & Body        | Body Lotions & Body Oils |\n",
            "|         4 | Mini English Pear & Freesia Body Crème | Jo Malone London | Bath & Body        | Body Lotions & Body Oils |\n",
            "|         5 | Moisturizing And Smoothing Milk Veil   | L'Occitane       | Bath & Body        | Body Lotions & Body Oils |\n",
            "+-----------+----------------------------------------+------------------+--------------------+--------------------------+\n",
            "Evaluation for Product ID: P380664\n",
            "Precision@5: 1.0000\n",
            "Relevant Products: ['P476416', 'P503832', 'P380571', 'P446344', 'P465304', 'P380557', 'P501140', 'P438631', 'P444988', 'P481952', 'P474022', 'P483650', 'P481959', 'P479736', 'P479697', 'P463424', 'P501144', 'P479731', 'P501139', 'P501066', 'P463425', 'P504811', 'P459003', 'P152203', 'P458757', 'P472452', 'P481386', 'P501577', 'P249815', 'P383438', 'P20375', 'P168609', 'P447142', 'P473115', 'P95070', 'P415749', 'P407417', 'P247517', 'P399675', 'P456195', 'P469450', 'P505118', 'P122654', 'P122749', 'P482257', 'P481075', 'P500862', 'P501762', 'P438934', 'P423548', 'P408407', 'P380621', 'P380620', 'P444194', 'P431440', 'P400061', 'P481078', 'P400059', 'P455022', 'P455584', 'P306859', 'P380541', 'P503730', 'P380539', 'P448716', 'P481414', 'P481413', 'P504423', 'P466877', 'P462860', 'P457687', 'P457685', 'P476671', 'P457686', 'P472160', 'P482669', 'P500601', 'P500617', 'P473306', 'P444417', 'P454971', 'P461158', 'P473307', 'P450942', 'P04546871', 'P469816', 'P472162', 'P477763', 'P476516', 'P474038', 'P504237', 'P476430', 'P444989', 'P479320', 'P472811', 'P474829', 'P504890', 'P7844', 'P12857', 'P213013', 'P7827', 'P500400', 'P500398', 'P500406', 'P454817', 'P388687', 'P193706', 'P193705', 'P469211', 'P458966', 'P502295', 'P502388', 'P503899', 'P504902', 'P400211', 'P400202', 'P442002', 'P473313', 'P380627', 'P428686', 'P446602', 'P504162', 'P504903', 'P379573', 'P12572', 'P96811', 'P431732', 'P477174', 'P500444', 'P455233', 'P501493', 'P503902', 'P417197', 'P417212', 'P417211', 'P417198', 'P417199', 'P417215', 'P417213', 'P417200', 'P463463', 'P417201', 'P417210', 'P417214', 'P425814', 'P468152', 'P468154', 'P427381', 'P468153', 'P417216', 'P468157', 'P468155', 'P468156', 'P287700', 'P468161', 'P480175', 'P444042', 'P454539', 'P500479', 'P484051', 'P484052', 'P500486', 'P500498', 'P503553', 'P500468', 'P503917', 'P481355', 'P421999', 'P422269', 'P422640', 'P480321', 'P418625', 'P502630', 'P502854', 'P502837', 'P461178', 'P474069', 'P307907', 'P107319', 'P162554', 'P66703', 'P238001', 'P39678', 'P39950', 'P392873', 'P39675', 'P392869', 'P449167', 'P442735', 'P428817', 'P451282', 'P39890', 'P417116', 'P454083', 'P398675', 'P380667', 'P464785', 'P473847', 'P431164', 'P431167', 'P473845', 'P447753', 'P431166', 'P431158', 'P467032', 'P467256', 'P468690', 'P481123', 'P481118', 'P481117', 'P481122', 'P481119', 'P481120', 'P481126', 'P481121', 'P390708', 'P412115', 'P435939', 'P481721', 'P477823', 'P412108', 'P412114', 'P438602', 'P429254', 'P477717', 'P502746', 'P477718', 'P481722', 'P502662', 'P47517', 'P459727', 'P459138', 'P474847', 'P459728', 'P480463', 'P460570', 'P474076', 'P504029', 'P503875', 'P504054', 'P504074', 'P460869', 'P381775', 'P419419', 'P501007', 'P500033', 'P500047', 'P502976', 'P504035', 'P500638', 'P500641', 'P375831', 'P452730', 'P449774', 'P479853', 'P479852', 'P449773', 'P466426', 'P466427', 'P466428', 'P505016', 'P505045', 'P443626', 'P454050', 'P461223', 'P480627', 'P481731', 'P500127', 'P503665', 'P456216', 'P474854', 'P456215', 'P456217', 'P483684', 'P504310', 'P502183', 'P500494', 'P431845', 'P436089', 'P451503', 'P504159', 'P471089', 'P471088', 'P479711', 'P455219', 'P471090', 'P471084', 'P464804', 'P504431', 'P500787', 'P455220', 'P504437', 'P504459', 'P504514', 'P442844', 'P442845', 'P442842', 'P442847', 'P450599', 'P442846', 'P442848', 'P442851', 'P406080', 'P442821', 'P411862', 'P482316', 'P470125', 'P503931', 'P459306', 'P482317', 'P472187', 'P448211', 'P406081', 'P501775', 'P476427', 'P501809', 'P457275', 'P504143', 'P504513', 'P504510', 'P504519', 'P504785', 'P474124', 'P474123', 'P469189', 'P471283', 'P454392', 'P432664', 'P432665', 'P470547', 'P392001', 'P500781', 'P502469', 'P502491', 'P502455', 'P468852', 'P468851', 'P468855', 'P450195', 'P479355', 'P481500', 'P474378', 'P474379', 'P480529', 'P480530', 'P476749', 'P476750', 'P306816']\n",
            "Recommended Products: ['P380667', 'P419419', 'P238001', 'P468153', 'P392869']\n",
            "Recommendations for: High-Spreadability Fluid Primer\n",
            "\n",
            "+-----------+----------------------------------------------------+--------------+--------------------+---------------------+\n",
            "|   ranking | product_name                                       | brand_name   | primary_category   | tertiary_category   |\n",
            "|-----------+----------------------------------------------------+--------------+--------------------+---------------------|\n",
            "|         1 | La Base Pro Perfecting and Smoothing Makeup Primer | Lancôme      | Makeup             | Face Primer         |\n",
            "|         2 | Vanish Airbrush Primer                             | Hourglass    | Makeup             | Face Primer         |\n",
            "|         3 | High-Adherence Silicone Primer                     | The Ordinary | Makeup             | Face Primer         |\n",
            "|         4 | Synchro Skin Soft Blurring Primer                  | Shiseido     | Makeup             | Face Primer         |\n",
            "|         5 | Instant Smooth Perfecting Touch Primer             | Clarins      | Makeup             | Face Primer         |\n",
            "+-----------+----------------------------------------------------+--------------+--------------------+---------------------+\n",
            "Evaluation for Product ID: P447598\n",
            "Precision@5: 1.0000\n",
            "Relevant Products: ['P398965', 'P503741', 'P503754', 'P503762', 'P503732', 'P503763', 'P503767', 'P503759', 'P504779', 'P503731', 'P384060', 'P404832', 'P404831', 'P409118', 'P58930227', 'P386335', 'P404830', 'P406576', 'P69304', 'P69300', 'P468341', 'P423925', 'P454751', 'P410504', 'P187202', 'P441838', 'P480576', 'P420162', 'P386783', 'P442999', 'P449124', 'P69305', 'P462328', 'P443753', 'P463420', 'P427916', 'P474813', 'P475045', 'P224610', 'P474812', 'P450720', 'P406577', 'P395205', 'P463783', 'P449149', 'P468343', 'P420204', 'P500629', 'P468344', 'P446027', 'P471735', 'P478230', 'P173317', 'P449151', 'P477809', 'P455981', 'P503556', 'P456591', 'P423923', 'P468342', 'P500604', 'P483069', 'P410502', 'P500402', 'P473262', 'P470504', 'P504629', 'P393401', 'P393411', 'P393434', 'P416785', 'P456158', 'P441817', 'P458270', 'P472016', 'P449793', 'P393671', 'P469846', 'P393672', 'P481814', 'P393669', 'P482507', 'P503765', 'P429271', 'P456967', 'P456966', 'P451642', 'P484029', 'P473181', 'P482509', 'P479301', 'P472308', 'P448851', 'P472307', 'P502588', 'P393356', 'P61004', 'P410543', 'P61005', 'P469839', 'P455324', 'P427652', 'P469847', 'P470512', 'P473848', 'P461132', 'P473841', 'P501215', 'P473842', 'P501217', 'P481951', 'P504122', 'P158509', 'P504153', 'P228913', 'P433987', 'P379449', 'P228914', 'P477136', 'P455325', 'P429235', 'P468345', 'P475051', 'P484031', 'P500981', 'P471744', 'P470004', 'P290636', 'P264900', 'P289307', 'P409239', 'P408219', 'P392516', 'P1272', 'P408218', 'P440700', 'P427517', 'P409242', 'P447375', 'P38347', 'P500253', 'P1273', 'P461925', 'P450856', 'P448162', 'P417320', 'P440952', 'P440951', 'P425933', 'P466656', 'P408312', 'P474932', 'P482664', 'P469203', 'P503681', 'P500840', 'P475910', 'P469438', 'P501450', 'P457461', 'P453917', 'P447358', 'P447122', 'P447371', 'P453269', 'P447121', 'P484032', 'P479827', 'P447368', 'P504131', 'P502816', 'P504136', 'P377750', 'P46017', 'P385531', 'P501265', 'P471004', 'P378145', 'P270539', 'P270555', 'P401602', 'P427430', 'P270549', 'P422224', 'P400625', 'P439913', 'P270545', 'P270548', 'P404241', 'P454116', 'P270551', 'P270540', 'P480282', 'P385586', 'P434383', 'P382581', 'P480281', 'P501412', 'P420900', 'P503555', 'P445416', 'P465745', 'P455195', 'P388664', 'P432842', 'P383334', 'P504216', 'P403974', 'P502815', 'P500606', 'P503887', 'P474024', 'P504080', 'P174213', 'P305132', 'P420163', 'P228204', 'P374159', 'P471224', 'P473265', 'P501569', 'P480580', 'P479308', 'P480579', 'P479309', 'P504293', 'P479835', 'P500246', 'P503176', 'P503922', 'P434104', 'P433526', 'P444154', 'P433516', 'P434002', 'P433530', 'P448869', 'P461147', 'P433523', 'P434101', 'P480286', 'P459144', 'P433527', 'P446609', 'P433531', 'P468347', 'P434100', 'P454509', 'P449571', 'P500285', 'P433528', 'P500407', 'P455321', 'P456368', 'P504020', 'P475919', 'P503729', 'P434526', 'P462841', 'P454046', 'P433864', 'P454508', 'P454506', 'P446610', 'P455323', 'P461433', 'P470203', 'P434004', 'P462843', 'P454505', 'P433525', 'P502270', 'P462845', 'P434008', 'P455322', 'P434012', 'P433863', 'P454351', 'P434527', 'P433532', 'P471749', 'P459260', 'P472458', 'P462847', 'P470208', 'P462844', 'P433529', 'P470204', 'P462846', 'P460744', 'P470206', 'P472460', 'P502275', 'P502248', 'P472459', 'P503932', 'P462849', 'P462848', 'P462850', 'P400560', 'P390961', 'P394935', 'P481964', 'P455420', 'P130909', 'P94902', 'P122751', 'P384996', 'P393325', 'P279113', 'P122735', 'P234967', 'P384505', 'P122912', 'P206900', 'P122748', 'P310726', 'P279510', 'P378639', 'P305114', 'P393633', 'P122736', 'P501008', 'P387634', 'P428662', 'P122866', 'P406924', 'P122765', 'P122740', 'P393634', 'P422881', 'P122914', 'P468639', 'P381918', 'P461436', 'P122668', 'P122694', 'P377219', 'P421227', 'P293010', 'P283304', 'P411552', 'P411531', 'P433652', 'P457692', 'P122807', 'P382504', 'P122834', 'P122739', 'P122763', 'P374580', 'P277401', 'P400708', 'P381916', 'P446874', 'P426374', 'P122675', 'P407483', 'P481065', 'P481064', 'P501526', 'P483653', 'P481066', 'P433827', 'P468353', 'P484039', 'P479311', 'P481694', 'P469461', 'P501512', 'P482522', 'P504051', 'P469455', 'P473701', 'P481696', 'P469460', 'P502023', 'P469459', 'P469456', 'P469457', 'P504669', 'P481695', 'P443361', 'P453814', 'P186805', 'P432500', 'P454762', 'P432504', 'P467760', 'P482262', 'P439941', 'P456596', 'P439940', 'P500997', 'P396240', 'P481969', 'P483654', 'P377821', 'P463032', 'P475090', 'P238433', 'P444597', 'P99901', 'P450457', 'P297404', 'P442793', 'P416366', 'P435806', 'P429720', 'P471544', 'P480599', 'P99902', 'P386816', 'P435807', 'P475091', 'P441312', 'P500313', 'P504675', 'P470214', 'P463033', 'P500247', 'P500408', 'P504694', 'P467761', 'P429430', 'P504692', 'P469465', 'P500623', 'P139005', 'P417002', 'P457523', 'P459126', 'P476849', 'P475930', 'P378284', 'P454063', 'P379951', 'P475536', 'P441306', 'P384114', 'P422280', 'P379945', 'P460732', 'P379947', 'P482263', 'P418861', 'P476493', 'P476444', 'P476556', 'P476550', 'P476494', 'P503002', 'P476456', 'P502223', 'P503003', 'P67988453', 'P87985432', 'P39787544', 'P18975403', 'P64879845', 'P470025', 'P85225585', 'P19700127', 'P88779809', 'P73124556', 'P473708', 'P55978864', 'P465757', 'P45433019', 'P88779810', 'P448702', 'P39784685', 'P04897543', 'P67339785', 'P31870457', 'P472161', 'P444149', 'P466829', 'P500061', 'P34908923', 'P442531', 'P455193', 'P17876556', 'P448703', 'P448878', 'P502222', 'P501462', 'P45432919', 'P480303', 'P97832786', 'P37544587', 'P447718', 'P447551', 'P504872', 'P444926', 'P461934', 'P471236', 'P458193', 'P455188', 'P479634', 'P501312', 'P456148', 'P503158', 'P501436', 'P501262', 'P428901', 'P293008', 'P434551', 'P468653', 'P469819', 'P502850', 'P504127', 'P474831', 'P481819', 'P481088', 'P504894', 'P274001', 'P390722', 'P377755', 'P457245', 'P405231', 'P474948', 'P472700', 'P448881', 'P469469', 'P416205', 'P481706', 'P183916', 'P471764', 'P505129', 'P410767', 'P446334', 'P463625', 'P501179', 'P474949', 'P446827', 'P504939', 'P419605', 'P500416', 'P500394', 'P505234', 'P504525', 'P504521', 'P504823', 'P504526', 'P504782', 'P504829', 'P504802', 'P504831', 'P504834', 'P504775', 'P504814', 'P504803', 'P504527', 'P504807', 'P504789', 'P504800', 'P504788', 'P407471', 'P455557', 'P420491', 'P471548', 'P420492', 'P441882', 'P453273', 'P452737', 'P459503', 'P452736', 'P471239', 'P502188', 'P469858', 'P456588', 'P467622', 'P457649', 'P483448', 'P469821', 'P500476', 'P467623', 'P457650', 'P501313', 'P480306', 'P483447', 'P501242', 'P266308', 'P197413', 'P284710', 'P405071', 'P430124', 'P483450', 'P471240', 'P190247', 'P456356', 'P501172', 'P459464', 'P459466', 'P501230', 'P505377', 'P481997', 'P481999', 'P502289', 'P504152', 'P482000', 'P503357', 'P481998', 'P482001', 'P502461', 'P481995', 'P500491', 'P502436', 'P503639', 'P505462', 'P502185', 'P500283', 'P500314', 'P500284', 'P500336', 'P500298', 'P501271', 'P500301', 'P504025', 'P502321', 'P500295', 'P410532', 'P377723', 'P384963', 'P210575', 'P454042', 'P395697', 'P483662', 'P433811', 'P430240', 'P301802', 'P501154', 'P433809', 'P444425', 'P404706', 'P376457', 'P427527', 'P460829', 'P309504', 'P480609', 'P379096', 'P388106', 'P427516', 'P504297', 'P457643', 'P420410', 'P473833', 'P471550', 'P483663', 'P450905', 'P430238', 'P471767', 'P447359', 'P457644', 'P502339', 'P461167', 'P454758', 'P415643', 'P427605', 'P469476', 'P454745', 'P504339', 'P504871', 'P483686', 'P502508', 'P502324', 'P433402', 'P43818047', 'P450887', 'P441880', 'P440102', 'P450511', 'P471243', 'P500309', 'P432059', 'P465324', 'P479843', 'P463061', 'P444605', 'P54654321', 'P489310288', 'P467625', 'P463062', 'P471244', 'P477474', 'P501327', 'P472816', 'P98466189', 'P472815', 'P482003', 'P444142', 'P469477', 'P459256', 'P444607', 'P477988', 'P477989', 'P502306', 'P420239', 'P465326', 'P504610', 'P474836', 'P502092', 'P504885', 'P500730', 'P9214873437', 'P477168', 'P476690', 'P500854', 'P500769', 'P504900', 'P461217', 'P461220', 'P478279', 'P473171', 'P461219', 'P502623', 'P502611', 'P463452', 'P484045', 'P471035', 'P481711', 'P477991', 'P461218', 'P505240', 'P482679', 'P504574', 'P455418', 'P431750', 'P411848', 'P429548', 'P472978', 'P444439', 'P464772', 'P441873', 'P461456', 'P448845', 'P444438', 'P436270', 'P458753', 'P417170', 'P475110', 'P467765', 'P444919', 'P480308', 'P441874', 'P407640', 'P448847', 'P471245', 'P448846', 'P458754', 'P439202', 'P422517', 'P428120', 'P441815', 'P429434', 'P455637', 'P428119', 'P449099', 'P431104', 'P440660', 'P432231', 'P437987', 'P411884', 'P482010', 'P425876', 'P411889', 'P411886', 'P461600', 'P411396', 'P411392', 'P443586', 'P448147', 'P479964', 'P466663', 'P456940', 'P450994', 'P456942', 'P461457', 'P504805', 'P500466', 'P463462', 'P407445', 'P434559', 'P223416', 'P436742', 'P434021', 'P434015', 'P434022', 'P454984', 'P443567', 'P475118', 'P447156', 'P463464', 'P481715', 'P451644', 'P472817', 'P480311', 'P480310', 'P436148', 'P439943', 'P436152', 'P443514', 'P471556', 'P481098', 'P449090', 'P436155', 'P468163', 'P436156', 'P504365', 'P482684', 'P436154', 'P463306', 'P476697', 'P436151', 'P468164', 'P501443', 'P462371', 'P431509', 'P456151', 'P468685', 'P481396', 'P451920', 'P441884', 'P471049', 'P443764', 'P447744', 'P471048', 'P503996', 'P474961', 'P441886', 'P503896', 'P457455', 'P471047', 'P462872', 'P502288', 'P501578', 'P501568', 'P501589', 'P504604', 'P245205', 'P311138', 'P418804', 'P430718', 'P469488', 'P385908', 'P409988', 'P418800', 'P392437', 'P483466', 'P501592', 'P468169', 'P441024', 'P454732', 'P464781', 'P481106', 'P454032', 'P475569', 'P504366', 'P442770', 'P418801', 'P454733', 'P460562', 'P447557', 'P472980', 'P462706', 'P504596', 'P504620', 'P448182', 'P459501', 'P308201', 'P128706', 'P467208', 'P473717', 'P419848', 'P54477', 'P431511', 'P399503', 'P54450', 'P457812', 'P244911', 'P428823', 'P54419', 'P244006', 'P500706', 'P54443', 'P468688', 'P65300', 'P437230', 'P429440', 'P219008', 'P54433', 'P262303', 'P54444', 'P54417', 'P293302', 'P481824', 'P433569', 'P102813', 'P481112', 'P500503', 'P403701', 'P502196', 'P505457', 'P505455', 'P481823', 'P457508', 'P109908', 'P293605', 'P109936', 'P140906', 'P379031', 'P433131', 'P109911', 'P429050', 'P500622', 'P440268', 'P109931', 'P109906', 'P473319', 'P109927', 'P414034', 'P427041', 'P381714', 'P482286', 'P467957', 'P443744', 'P454942', 'P480180', 'P285323', 'P433852', 'P433850', 'P501817', 'P454941', 'P453906', 'P501504', 'P500437', 'P454943', 'P255110', 'P109941', 'P443743', 'P454946', 'P479972', 'P504012', 'P109943', 'P502987', 'P467956', 'P504190', 'P500414', 'P483668', 'P483669', 'P468175', 'P480326', 'P504609', 'P450514', 'P460814', 'P439204', 'P454981', 'P482699', 'P475128', 'P468455', 'P435713', 'P449098', 'P502170', 'P475127', 'P472317', 'P502178', 'P464265', 'P505251', 'P450886', 'P421444', 'P472318', 'P421441', 'P427722', 'P421448', 'P421445', 'P434534', 'P454770', 'P476419', 'P451888', 'P471255', 'P465812', 'P479331', 'P501299', 'P504914', 'P502057', 'P502413', 'P501302', 'P479332', 'P501247', 'P468384', 'P468380', 'P500123', 'P480618', 'P468383', 'P468382', 'P468385', 'P503938', 'P477199', 'P468381', 'P503895', 'P476884', 'P430969', 'P427647', 'P479712', 'P398775', 'P183919', 'P421281', 'P439652', 'P415958', 'P454035', 'P434023', 'P462883', 'P437364', 'P460730', 'P417171', 'P379925', 'P460729', 'P417172', 'P500323', 'P504432', 'P171101', 'P460731', 'P404776', 'P169812', 'P476574', 'P428677', 'P440956', 'P468185', 'P500992', 'P483474', 'P468186', 'P417174', 'P468182', 'P476549', 'P428676', 'P454728', 'P468184', 'P502974', 'P386652', 'P454727', 'P468183', 'P483473', 'P472989', 'P501505', 'P472988', 'P472990', 'P504860', 'P481114', 'P472327', 'P503679', 'P98364786', 'P477838', 'P472324', 'P500452', 'P477837', 'P501527', 'P472325', 'P472326', 'P39853698', 'P33257988', 'P500403', 'P481720', 'P472328', 'P04456664', 'P13211222', 'P64197382', 'P02318798', 'P465781', 'P475575', 'P01018539', 'P475576', 'P477805', 'P87788965', 'P444444', 'P468389', 'P444548', 'P444545', 'P472478', 'P462718', 'P481127', 'P457824', 'P444446', 'P444547', 'P459150', 'P501445', 'P456964', 'P471559', 'P455560', 'P444546', 'P455561', 'P483477', 'P476886', 'P483478', 'P474348', 'P477201', 'P473121', 'P462885', 'P478296', 'P502025', 'P504916', 'P504920', 'P504891', 'P468691', 'P468693', 'P468694', 'P481403', 'P501766', 'P468696', 'P468692', 'P468695', 'P441813', 'P437097', 'P404797', 'P429903', 'P463071', 'P410176', 'P411508', 'P433125', 'P404798', 'P500448', 'P448151', 'P483675', 'P446824', 'P476713', 'P503903', 'P475966', 'P483674', 'P428235', 'P476712', 'P468863', 'P481128', 'P433124', 'P468864', 'P443308', 'P501572', 'P443307', 'P479643', 'P481129', 'P461472', 'P471786', 'P504886', 'P377873', 'P2855', 'P78834', 'P416200', 'P387906', 'P427301', 'P479338', 'P247355', 'P421485', 'P302923', 'P419506', 'P13046537', 'P448502', 'P12790', 'P462720', 'P2866', 'P261211', 'P377757', 'P441810', 'P471270', 'P479337', 'P501583', 'P104006', 'P474358', 'P468392', 'P377756', 'P468700', 'P457302', 'P482702', 'P422073', 'P457304', 'P473173', 'P504202', 'P2856', 'P448503', 'P434385', 'P422079', 'P480462', 'P415965', 'P504836', 'P504832', 'P475138', 'P475139', 'P504081', 'P505364', 'P461188', 'P411826', 'P440313', 'P459829', 'P475969', 'P436273', 'P453218', 'P478018', 'P413523', 'P450057', 'P502079', 'P444024', 'P482292', 'P471790', 'P441872', 'P501473', 'P464791', 'P444921', 'P500263', 'P434566', 'P472992', 'P481728', 'P502073', 'P482051', 'P444034', 'P503993', 'P482052', 'P502442', 'P502303', 'P502353', 'P475142', 'P475141', 'P474359', 'P502350', 'P419107', 'P388953', 'P428673', 'P444609', 'P405290', 'P431758', 'P417912', 'P457828', 'P416774', 'P408286', 'P444920', 'P448152', 'P501811', 'P400017', 'P500480', 'P501183', 'P463098', 'P501155', 'P463096', 'P501177', 'P501780', 'P463099', 'P502770', 'P482054', 'P472178', 'P388950', 'P482055', 'P501789', 'P504874', 'P504873', 'P472179', 'P476892', 'P504306', 'P407080', 'P442012', 'P469953', 'P466144', 'P478536', 'P476719', 'P473741', 'P461665', 'P468394', 'P461664', 'P482710', 'P461666', 'P504363', 'P461923', 'P504605', 'P500481', 'P500501', 'P472993', 'P472995', 'P501749', 'P500733', 'P472994', 'P455004', 'P421813', 'P431852', 'P447519', 'P86825294', 'P472489', 'P456106', 'P433500', 'P439070', 'P456107', 'P423646', 'P476899', 'P458276', 'P440967', 'P423647', 'P423644', 'P475598', 'P432863', 'P461956', 'P433003', 'P458774', 'P484065', 'P462783', 'P449790', 'P468398', 'P429405', 'P500887', 'P460745', 'P447770', 'P468706', 'P463924', 'P458775', 'P472486', 'P475597', 'P447764', 'P468849', 'P500311', 'P504181', 'P504164', 'P504187', 'P503717', 'P504908', 'P504179', 'P504909', 'P504077', 'P504063', 'P458747', 'P471059', 'P473145', 'P502039', 'P443623', 'P451937', 'P481729', 'P483484', 'P456592', 'P451938', 'P474848', 'P473146', 'P458748', 'P458749', 'P461222', 'P461224', 'P451939', 'P501193', 'P501156', 'P476724', 'P503702', 'P446101', 'P97989778', 'P38855877', 'P479343', 'P49848448', 'P64546856', 'P467451', 'P503711', 'P87987897', 'P500636', 'P503714', 'P11487778', 'P500637', 'P467449', 'P475599', 'P55849781', 'P479345', 'P471074', 'P77484859', 'P467450', 'P82858582', 'P47478987', 'P05048798', 'P475604', 'P471077', 'P79797874', 'P471076', 'P39693963', 'P505369', 'P473120', 'P483125', 'P500449', 'P483124', 'P475156', 'P475158', 'P483123', 'P475157', 'P473174', 'P473118', 'P500162', 'P505347', 'P423666', 'P408972', 'P408973', 'P500051', 'P457458', 'P479707', 'P450899', 'P454033', 'P475606', 'P501548', 'P472053', 'P476005', 'P480345', 'P476011', 'P482730', 'P476008', 'P500294', 'P500425', 'P481160', 'P502071', 'P476007', 'P476006', 'P502066', 'P476012', 'P482731', 'P500325', 'P500333', 'P500426', 'P469825', 'P468210', 'P468206', 'P472997', 'P468207', 'P483685', 'P480188', 'P501451', 'P468204', 'P468208', 'P504907', 'P281411', 'P430932', 'P424915', 'P230234', 'P377784', 'P284507', 'P415438', 'P401715', 'P266811', 'P395532', 'P286513', 'P417985', 'P398009', 'P403322', 'P379509', 'P433005', 'P467140', 'P457430', 'P398001', 'P381155', 'P408606', 'P276319', 'P310719', 'P467139', 'P443336', 'P432080', 'P420440', 'P439401', 'P448496', 'P474388', 'P500453', 'P443317', 'P420607', 'P479854', 'P474100', 'P443321', 'P303302', 'P446621', 'P421234', 'P377785', 'P467142', 'P427017', 'P474101', 'P467144', 'P461515', 'P479855', 'P427367', 'P439601', 'P474372', 'P406569', 'P457433', 'P408602', 'P479856', 'P460716', 'P460719', 'P480190', 'P379324', 'P471081', 'P503921', 'P471080', 'P457429', 'P466443', 'P443328', 'P467141', 'P454320', 'P432077', 'P454322', 'P471079', 'P484071', 'P471278', 'P474102', 'P445724', 'P439036', 'P503929', 'P501346', 'P479649', 'P501496', 'P501571', 'P501365', 'P432079', 'P479857', 'P461514', 'P457432', 'P502459', 'P443322', 'P454321', 'P432076', 'P470542', 'P502417', 'P432078', 'P503900', 'P471082', 'P484068', 'P502504', 'P502473', 'P480347', 'P503907', 'P502386', 'P474103', 'P502453', 'P503904', 'P482304', 'P449106', 'P398736', 'P449107', 'P435415', 'P468401', 'P435416', 'P435412', 'P480353', 'P443795', 'P468402', 'P454978', 'P503349', 'P503333', 'P503350', 'P503342', 'P503304', 'P503300', 'P409317', 'P9889', 'P19267373', 'P387426', 'P292403', 'P477826', 'P447363', 'P460019', 'P380998', 'P427042', 'P375100', 'P454512', 'P440044', 'P467974', 'P439936', 'P477825', 'P284701', 'P429021', 'P260311', 'P479985', 'P454358', 'P453267', 'P417882', 'P456374', 'P439937', 'P479982', 'P429910', 'P479983', 'P398372', 'P501284', 'P479984', 'P482744', 'P502061', 'P482743', 'P503218', 'P504170', 'P504508', 'P63087293', 'P253818', 'P427385', 'P261621', 'P269019', 'P406281', 'P429008', 'P397901', 'P466152', 'P504316', 'P474119', 'P501777', 'P442701', 'P278610', 'P403812', 'P482750', 'P391759', 'P405601', 'P423935', 'P467977', 'P433206', 'P377542', 'P111902', 'P427600', 'P429612', 'P290629', 'P67617', 'P262113', 'P408432', 'P387228', 'P392636', 'P415984', 'P310018', 'P456371', 'P442792', 'P473000', 'P286101', 'P408285', 'P450535', 'P387175', 'P504200', 'P179924', 'P99809', 'P456586', 'P420231', 'P397383', 'P456601', 'P407637', 'P481746', 'P481744', 'P152703', 'P453271', 'P413182', 'P500780', 'P500620', 'P473001', 'P440260', 'P500182', 'P469864', 'P242810', 'P472190', 'P470550', 'P473840', 'P441841', 'P385760', 'P453920', 'P450537', 'P450536', 'P473821', 'P439932', 'P468224', 'P468223', 'P450534', 'P415990', 'P432866', 'P505244', 'P469865', 'P505127', 'P444433', 'P454990', 'P452909', 'P453918', 'P504215', 'P479994', 'P469800', 'P420232', 'P474862', 'P446871', 'P443762', 'P454989', 'P479998', 'P463968', 'P504220', 'P504573', 'P502885', 'P505256', 'P428661', 'P456446', 'P469546', 'P500423', 'P427408', 'P504702', 'P500018', 'P504898', 'P422568', 'P416057', 'P416222', 'P449372', 'P459506', 'P422453', 'P422574', 'P464313', 'P429018', 'P422571', 'P443930', 'P481356', 'P422552', 'P476743', 'P476744', 'P443932', 'P481174', 'P428908', 'P445433', 'P503100', 'P422546', 'P483499', 'P481173', 'P481747', 'P411725', 'P505166', 'P505165', 'P458271', 'P505387', 'P501516', 'P505393', 'P381000', 'P432298', 'P397517', 'P407636', 'P229406', 'P378111', 'P407907', 'P387589', 'P420166', 'P426850', 'P202625', 'P407908', 'P455201', 'P429602', 'P74520', 'P467795', 'P504072', 'P467794', 'P442803', 'P460018', 'P48406', 'P458586', 'P444600', 'P439069', 'P447123', 'P467151', 'P441854', 'P484079', 'P502382', 'P456594', 'P480363', 'P476747', 'P483500', 'P475179', 'P476746', 'P501036', 'P484078', 'P467981', 'P475178', 'P501013', 'P501033', 'P502499', 'P501027', 'P504178', 'P473825', 'P473851', 'P473854', 'P504037', 'P505390', 'P505386', 'P449342', 'P477829', 'P502484', 'P458281', 'P504183', 'P448855', 'P501332', 'P504041', 'P503943', 'P475198', 'P475191', 'P263504', 'P409523', 'P133707', 'P309813', 'P384099', 'P284716', 'P74312', 'P378821', 'P420913', 'P219001', 'P277222', 'P410548', 'P387956', 'P381306', 'P447143', 'P440905', 'P440907', 'P468712', 'P474380', 'P467658', 'P447553', 'P501181', 'P431455', 'P401771', 'P432630', 'P387594', 'P482758', 'P454337', 'P395733', 'P503994', 'P415988', 'P461544', 'P453943', 'P461545', 'P437925', 'P446816', 'P454606', 'P454338', 'P463116', 'P456357', 'P445423', 'P445424', 'P455265', 'P463117', 'P503573', 'P456361', 'P503579', 'P482077', 'P446821', 'P479501', 'P479473', 'P479508', 'P479471', 'P479462', 'P479510', 'P479487', 'P479463', 'P479479', 'P479500', 'P479480', 'P479472', 'P473009', 'P473010', 'P429277', 'P429278', 'P477378', 'P468423', 'P477379', 'P460561', 'P477377', 'P449085', 'P471585', 'P481177', 'P501532', 'P425705', 'P428123', 'P460733', 'P454982', 'P468858', 'P428669', 'P455558', 'P437367', 'P411529', 'P414160', 'P481391', 'P417143', 'P407107', 'P476920', 'P481370', 'P468431', 'P468433', 'P468429', 'P469873', 'P501795', 'P468430', 'P500303', 'P468432', 'P504318', 'P468436', 'P468435', 'P468434', 'P479361', 'P482557', 'P468437', 'P503578', 'P377710', 'P218431', 'P410743', 'P421456', 'P436506', 'P397615', 'P474600', 'P457250', 'P474872', 'P440971', 'P480000', 'P463666', 'P479863', 'P393427', 'P422335', 'P501588', 'P432284', 'P500493', 'P474601', 'P455412', 'P474602', 'P474604', 'P483501', 'P467660', 'P467659', 'P505461']\n",
            "Recommended Products: ['P219008', 'P480609', 'P427408', 'P468402', 'P130909']\n",
            "Recommendations for: Rosso Valentino High Pigment Refillable Lipstick\n",
            "\n",
            "+-----------+-------------------------------------------+--------------------+--------------------+---------------------+\n",
            "|   ranking | product_name                              | brand_name         | primary_category   | tertiary_category   |\n",
            "|-----------+-------------------------------------------+--------------------+--------------------+---------------------|\n",
            "|         1 | The Slim Velvet Radical Matte Lipstick    | Yves Saint Laurent | Makeup             | Lipstick            |\n",
            "|         2 | Dior Addict Shine Lipstick Refill         | Dior               | Makeup             | Lipstick            |\n",
            "|         3 | Rouge Pur Couture The Slim Matte Lipstick | Yves Saint Laurent | Makeup             | Lipstick            |\n",
            "|         4 | The Slim Glow Matte Lipstick              | Yves Saint Laurent | Makeup             | Lipstick            |\n",
            "|         5 | L'Absolu Rouge Drama Matte Lipstick       | Lancôme            | Makeup             | Lipstick            |\n",
            "+-----------+-------------------------------------------+--------------------+--------------------+---------------------+\n",
            "Evaluation for Product ID: P479501\n",
            "Precision@5: 1.0000\n",
            "Relevant Products: ['P398965', 'P503741', 'P503754', 'P503762', 'P503732', 'P503763', 'P503767', 'P503759', 'P504779', 'P503731', 'P384060', 'P404832', 'P404831', 'P409118', 'P58930227', 'P386335', 'P404830', 'P406576', 'P69304', 'P69300', 'P468341', 'P423925', 'P454751', 'P410504', 'P187202', 'P441838', 'P480576', 'P420162', 'P386783', 'P442999', 'P449124', 'P69305', 'P462328', 'P443753', 'P463420', 'P427916', 'P474813', 'P475045', 'P224610', 'P474812', 'P450720', 'P406577', 'P395205', 'P463783', 'P449149', 'P468343', 'P420204', 'P500629', 'P468344', 'P446027', 'P471735', 'P478230', 'P173317', 'P449151', 'P477809', 'P455981', 'P503556', 'P456591', 'P423923', 'P468342', 'P500604', 'P483069', 'P410502', 'P500402', 'P473262', 'P470504', 'P504629', 'P393401', 'P393411', 'P393434', 'P416785', 'P456158', 'P441817', 'P458270', 'P472016', 'P449793', 'P393671', 'P469846', 'P393672', 'P481814', 'P393669', 'P482507', 'P503765', 'P429271', 'P456967', 'P456966', 'P451642', 'P484029', 'P473181', 'P482509', 'P479301', 'P472308', 'P448851', 'P472307', 'P502588', 'P393356', 'P61004', 'P410543', 'P61005', 'P469839', 'P455324', 'P427652', 'P469847', 'P470512', 'P473848', 'P461132', 'P473841', 'P501215', 'P473842', 'P501217', 'P481951', 'P504122', 'P158509', 'P504153', 'P228913', 'P433987', 'P379449', 'P228914', 'P477136', 'P455325', 'P429235', 'P468345', 'P475051', 'P484031', 'P500981', 'P471744', 'P470004', 'P290636', 'P264900', 'P289307', 'P409239', 'P408219', 'P392516', 'P1272', 'P408218', 'P440700', 'P427517', 'P409242', 'P447375', 'P38347', 'P500253', 'P1273', 'P461925', 'P450856', 'P448162', 'P417320', 'P440952', 'P440951', 'P425933', 'P466656', 'P408312', 'P474932', 'P482664', 'P469203', 'P503681', 'P500840', 'P475910', 'P469438', 'P501450', 'P457461', 'P453917', 'P447358', 'P447122', 'P447371', 'P453269', 'P447121', 'P484032', 'P479827', 'P447368', 'P504131', 'P502816', 'P504136', 'P377750', 'P46017', 'P385531', 'P501265', 'P471004', 'P378145', 'P270539', 'P270555', 'P401602', 'P427430', 'P270549', 'P422224', 'P400625', 'P439913', 'P270545', 'P270548', 'P404241', 'P454116', 'P270551', 'P270540', 'P480282', 'P385586', 'P434383', 'P382581', 'P480281', 'P501412', 'P420900', 'P503555', 'P445416', 'P465745', 'P455195', 'P388664', 'P432842', 'P383334', 'P504216', 'P403974', 'P502815', 'P500606', 'P503887', 'P474024', 'P504080', 'P174213', 'P305132', 'P420163', 'P228204', 'P374159', 'P471224', 'P473265', 'P501569', 'P480580', 'P479308', 'P480579', 'P479309', 'P504293', 'P479835', 'P500246', 'P503176', 'P503922', 'P434104', 'P433526', 'P444154', 'P433516', 'P434002', 'P433530', 'P448869', 'P461147', 'P433523', 'P434101', 'P480286', 'P459144', 'P433527', 'P446609', 'P433531', 'P468347', 'P434100', 'P454509', 'P449571', 'P500285', 'P433528', 'P500407', 'P455321', 'P456368', 'P504020', 'P475919', 'P503729', 'P434526', 'P462841', 'P454046', 'P433864', 'P454508', 'P454506', 'P446610', 'P455323', 'P461433', 'P470203', 'P434004', 'P462843', 'P454505', 'P433525', 'P502270', 'P462845', 'P434008', 'P455322', 'P434012', 'P433863', 'P454351', 'P434527', 'P433532', 'P471749', 'P459260', 'P472458', 'P462847', 'P470208', 'P462844', 'P433529', 'P470204', 'P462846', 'P460744', 'P470206', 'P472460', 'P502275', 'P502248', 'P472459', 'P503932', 'P462849', 'P462848', 'P462850', 'P400560', 'P390961', 'P394935', 'P481964', 'P455420', 'P130909', 'P94902', 'P122751', 'P384996', 'P393325', 'P279113', 'P122735', 'P234967', 'P384505', 'P122912', 'P206900', 'P122748', 'P310726', 'P279510', 'P378639', 'P305114', 'P393633', 'P122736', 'P501008', 'P387634', 'P428662', 'P122866', 'P406924', 'P122765', 'P122740', 'P393634', 'P422881', 'P122914', 'P468639', 'P381918', 'P461436', 'P122668', 'P122694', 'P377219', 'P421227', 'P293010', 'P283304', 'P411552', 'P411531', 'P433652', 'P457692', 'P122807', 'P382504', 'P122834', 'P122739', 'P122763', 'P374580', 'P277401', 'P400708', 'P381916', 'P446874', 'P426374', 'P122675', 'P407483', 'P481065', 'P481064', 'P501526', 'P483653', 'P481066', 'P433827', 'P468353', 'P484039', 'P479311', 'P481694', 'P469461', 'P501512', 'P482522', 'P504051', 'P469455', 'P473701', 'P481696', 'P469460', 'P502023', 'P469459', 'P469456', 'P469457', 'P504669', 'P481695', 'P443361', 'P453814', 'P186805', 'P432500', 'P454762', 'P432504', 'P467760', 'P482262', 'P439941', 'P456596', 'P439940', 'P500997', 'P396240', 'P481969', 'P483654', 'P377821', 'P463032', 'P475090', 'P238433', 'P444597', 'P99901', 'P450457', 'P297404', 'P442793', 'P416366', 'P435806', 'P429720', 'P471544', 'P480599', 'P99902', 'P386816', 'P435807', 'P475091', 'P441312', 'P500313', 'P504675', 'P470214', 'P463033', 'P500247', 'P500408', 'P504694', 'P467761', 'P429430', 'P504692', 'P469465', 'P500623', 'P139005', 'P417002', 'P457523', 'P459126', 'P476849', 'P475930', 'P378284', 'P454063', 'P379951', 'P475536', 'P441306', 'P384114', 'P422280', 'P379945', 'P460732', 'P379947', 'P482263', 'P418861', 'P476493', 'P476444', 'P476556', 'P476550', 'P476494', 'P503002', 'P476456', 'P502223', 'P503003', 'P67988453', 'P87985432', 'P39787544', 'P18975403', 'P64879845', 'P470025', 'P85225585', 'P19700127', 'P88779809', 'P73124556', 'P473708', 'P55978864', 'P465757', 'P45433019', 'P88779810', 'P448702', 'P39784685', 'P04897543', 'P67339785', 'P31870457', 'P472161', 'P444149', 'P466829', 'P500061', 'P34908923', 'P442531', 'P455193', 'P17876556', 'P448703', 'P448878', 'P502222', 'P501462', 'P45432919', 'P480303', 'P97832786', 'P37544587', 'P447718', 'P447551', 'P504872', 'P444926', 'P461934', 'P471236', 'P458193', 'P455188', 'P479634', 'P501312', 'P456148', 'P503158', 'P501436', 'P501262', 'P428901', 'P293008', 'P434551', 'P468653', 'P469819', 'P502850', 'P504127', 'P474831', 'P481819', 'P481088', 'P504894', 'P274001', 'P390722', 'P377755', 'P457245', 'P405231', 'P474948', 'P472700', 'P448881', 'P469469', 'P416205', 'P481706', 'P183916', 'P471764', 'P505129', 'P410767', 'P446334', 'P463625', 'P501179', 'P474949', 'P446827', 'P504939', 'P419605', 'P500416', 'P500394', 'P505234', 'P504525', 'P504521', 'P504823', 'P504526', 'P504782', 'P504829', 'P504802', 'P504831', 'P504834', 'P504775', 'P504814', 'P504803', 'P504527', 'P504807', 'P504789', 'P504800', 'P504788', 'P407471', 'P455557', 'P420491', 'P471548', 'P420492', 'P441882', 'P453273', 'P452737', 'P459503', 'P452736', 'P471239', 'P502188', 'P469858', 'P456588', 'P467622', 'P457649', 'P483448', 'P469821', 'P500476', 'P467623', 'P457650', 'P501313', 'P480306', 'P483447', 'P501242', 'P266308', 'P197413', 'P284710', 'P405071', 'P430124', 'P483450', 'P471240', 'P190247', 'P456356', 'P501172', 'P459464', 'P459466', 'P501230', 'P505377', 'P481997', 'P481999', 'P502289', 'P504152', 'P482000', 'P503357', 'P481998', 'P482001', 'P502461', 'P481995', 'P500491', 'P502436', 'P503639', 'P505462', 'P502185', 'P500283', 'P500314', 'P500284', 'P500336', 'P500298', 'P501271', 'P500301', 'P504025', 'P502321', 'P500295', 'P410532', 'P377723', 'P384963', 'P210575', 'P454042', 'P395697', 'P483662', 'P433811', 'P430240', 'P301802', 'P501154', 'P433809', 'P444425', 'P404706', 'P376457', 'P427527', 'P460829', 'P309504', 'P480609', 'P379096', 'P388106', 'P427516', 'P504297', 'P457643', 'P420410', 'P473833', 'P471550', 'P483663', 'P450905', 'P430238', 'P471767', 'P447359', 'P457644', 'P502339', 'P461167', 'P454758', 'P415643', 'P427605', 'P469476', 'P454745', 'P504339', 'P504871', 'P483686', 'P502508', 'P502324', 'P433402', 'P43818047', 'P450887', 'P441880', 'P440102', 'P450511', 'P471243', 'P500309', 'P432059', 'P465324', 'P479843', 'P463061', 'P444605', 'P54654321', 'P489310288', 'P467625', 'P463062', 'P471244', 'P477474', 'P501327', 'P472816', 'P98466189', 'P472815', 'P482003', 'P444142', 'P469477', 'P459256', 'P444607', 'P477988', 'P477989', 'P502306', 'P420239', 'P465326', 'P504610', 'P474836', 'P502092', 'P504885', 'P500730', 'P9214873437', 'P477168', 'P476690', 'P500854', 'P500769', 'P504900', 'P461217', 'P461220', 'P478279', 'P473171', 'P461219', 'P502623', 'P502611', 'P463452', 'P484045', 'P471035', 'P481711', 'P477991', 'P461218', 'P505240', 'P482679', 'P504574', 'P455418', 'P431750', 'P411848', 'P429548', 'P472978', 'P444439', 'P464772', 'P441873', 'P461456', 'P448845', 'P444438', 'P436270', 'P458753', 'P417170', 'P475110', 'P467765', 'P444919', 'P480308', 'P441874', 'P407640', 'P448847', 'P471245', 'P448846', 'P458754', 'P439202', 'P422517', 'P428120', 'P441815', 'P429434', 'P455637', 'P428119', 'P449099', 'P431104', 'P440660', 'P432231', 'P437987', 'P411884', 'P482010', 'P425876', 'P411889', 'P411886', 'P461600', 'P411396', 'P411392', 'P443586', 'P448147', 'P479964', 'P466663', 'P456940', 'P450994', 'P456942', 'P461457', 'P504805', 'P500466', 'P463462', 'P407445', 'P434559', 'P223416', 'P436742', 'P434021', 'P434015', 'P434022', 'P454984', 'P443567', 'P475118', 'P447156', 'P463464', 'P481715', 'P451644', 'P472817', 'P480311', 'P480310', 'P436148', 'P439943', 'P436152', 'P443514', 'P471556', 'P481098', 'P449090', 'P436155', 'P468163', 'P436156', 'P504365', 'P482684', 'P436154', 'P463306', 'P476697', 'P436151', 'P468164', 'P501443', 'P462371', 'P431509', 'P456151', 'P468685', 'P481396', 'P451920', 'P441884', 'P471049', 'P443764', 'P447744', 'P471048', 'P503996', 'P474961', 'P441886', 'P503896', 'P457455', 'P471047', 'P462872', 'P502288', 'P501578', 'P501568', 'P501589', 'P504604', 'P245205', 'P311138', 'P418804', 'P430718', 'P469488', 'P385908', 'P409988', 'P418800', 'P392437', 'P483466', 'P501592', 'P468169', 'P441024', 'P454732', 'P464781', 'P481106', 'P454032', 'P475569', 'P504366', 'P442770', 'P418801', 'P454733', 'P460562', 'P447557', 'P472980', 'P462706', 'P504596', 'P504620', 'P448182', 'P459501', 'P308201', 'P128706', 'P467208', 'P473717', 'P419848', 'P54477', 'P431511', 'P399503', 'P54450', 'P457812', 'P244911', 'P428823', 'P54419', 'P244006', 'P500706', 'P54443', 'P468688', 'P65300', 'P437230', 'P429440', 'P219008', 'P54433', 'P262303', 'P54444', 'P54417', 'P293302', 'P481824', 'P433569', 'P102813', 'P481112', 'P500503', 'P403701', 'P502196', 'P505457', 'P505455', 'P481823', 'P457508', 'P109908', 'P293605', 'P109936', 'P140906', 'P379031', 'P433131', 'P109911', 'P429050', 'P500622', 'P440268', 'P109931', 'P109906', 'P473319', 'P109927', 'P414034', 'P427041', 'P381714', 'P482286', 'P467957', 'P443744', 'P454942', 'P480180', 'P285323', 'P433852', 'P433850', 'P501817', 'P454941', 'P453906', 'P501504', 'P500437', 'P454943', 'P255110', 'P109941', 'P443743', 'P454946', 'P479972', 'P504012', 'P109943', 'P502987', 'P467956', 'P504190', 'P500414', 'P483668', 'P483669', 'P468175', 'P480326', 'P504609', 'P450514', 'P460814', 'P439204', 'P454981', 'P482699', 'P475128', 'P468455', 'P435713', 'P449098', 'P502170', 'P475127', 'P472317', 'P502178', 'P464265', 'P505251', 'P450886', 'P421444', 'P472318', 'P421441', 'P427722', 'P421448', 'P421445', 'P434534', 'P454770', 'P476419', 'P451888', 'P471255', 'P465812', 'P479331', 'P501299', 'P504914', 'P502057', 'P502413', 'P501302', 'P479332', 'P501247', 'P468384', 'P468380', 'P500123', 'P480618', 'P468383', 'P468382', 'P468385', 'P503938', 'P477199', 'P468381', 'P503895', 'P476884', 'P430969', 'P427647', 'P479712', 'P398775', 'P183919', 'P421281', 'P439652', 'P415958', 'P454035', 'P434023', 'P462883', 'P437364', 'P460730', 'P417171', 'P379925', 'P460729', 'P417172', 'P500323', 'P504432', 'P171101', 'P460731', 'P404776', 'P169812', 'P476574', 'P428677', 'P440956', 'P468185', 'P500992', 'P483474', 'P468186', 'P417174', 'P468182', 'P476549', 'P428676', 'P454728', 'P468184', 'P502974', 'P386652', 'P454727', 'P468183', 'P483473', 'P472989', 'P501505', 'P472988', 'P472990', 'P504860', 'P481114', 'P472327', 'P503679', 'P98364786', 'P477838', 'P472324', 'P500452', 'P477837', 'P501527', 'P472325', 'P472326', 'P39853698', 'P33257988', 'P500403', 'P481720', 'P472328', 'P04456664', 'P13211222', 'P64197382', 'P02318798', 'P465781', 'P475575', 'P01018539', 'P475576', 'P477805', 'P87788965', 'P444444', 'P468389', 'P444548', 'P444545', 'P472478', 'P462718', 'P481127', 'P457824', 'P444446', 'P444547', 'P459150', 'P501445', 'P456964', 'P471559', 'P455560', 'P444546', 'P455561', 'P483477', 'P476886', 'P483478', 'P474348', 'P477201', 'P473121', 'P462885', 'P478296', 'P502025', 'P504916', 'P504920', 'P504891', 'P468691', 'P468693', 'P468694', 'P481403', 'P501766', 'P468696', 'P468692', 'P468695', 'P441813', 'P437097', 'P404797', 'P429903', 'P463071', 'P410176', 'P411508', 'P433125', 'P404798', 'P500448', 'P448151', 'P483675', 'P446824', 'P476713', 'P503903', 'P475966', 'P483674', 'P428235', 'P476712', 'P468863', 'P481128', 'P433124', 'P468864', 'P443308', 'P501572', 'P443307', 'P479643', 'P481129', 'P461472', 'P471786', 'P504886', 'P377873', 'P2855', 'P78834', 'P416200', 'P387906', 'P427301', 'P479338', 'P247355', 'P421485', 'P302923', 'P419506', 'P13046537', 'P448502', 'P12790', 'P462720', 'P2866', 'P261211', 'P377757', 'P441810', 'P471270', 'P479337', 'P501583', 'P104006', 'P474358', 'P468392', 'P377756', 'P468700', 'P457302', 'P482702', 'P422073', 'P457304', 'P473173', 'P504202', 'P2856', 'P448503', 'P434385', 'P422079', 'P480462', 'P415965', 'P504836', 'P504832', 'P475138', 'P475139', 'P504081', 'P505364', 'P461188', 'P411826', 'P440313', 'P459829', 'P475969', 'P436273', 'P453218', 'P478018', 'P413523', 'P450057', 'P502079', 'P444024', 'P482292', 'P471790', 'P441872', 'P501473', 'P464791', 'P444921', 'P500263', 'P434566', 'P472992', 'P481728', 'P502073', 'P482051', 'P444034', 'P503993', 'P482052', 'P502442', 'P502303', 'P502353', 'P475142', 'P475141', 'P474359', 'P502350', 'P419107', 'P388953', 'P428673', 'P444609', 'P405290', 'P431758', 'P417912', 'P457828', 'P416774', 'P408286', 'P444920', 'P448152', 'P501811', 'P400017', 'P500480', 'P501183', 'P463098', 'P501155', 'P463096', 'P501177', 'P501780', 'P463099', 'P502770', 'P482054', 'P472178', 'P388950', 'P482055', 'P501789', 'P504874', 'P504873', 'P472179', 'P476892', 'P504306', 'P407080', 'P442012', 'P469953', 'P466144', 'P478536', 'P476719', 'P473741', 'P461665', 'P468394', 'P461664', 'P482710', 'P461666', 'P504363', 'P461923', 'P504605', 'P500481', 'P500501', 'P472993', 'P472995', 'P501749', 'P500733', 'P472994', 'P455004', 'P421813', 'P431852', 'P447519', 'P86825294', 'P472489', 'P456106', 'P433500', 'P439070', 'P456107', 'P423646', 'P476899', 'P458276', 'P440967', 'P423647', 'P423644', 'P475598', 'P432863', 'P461956', 'P433003', 'P458774', 'P484065', 'P462783', 'P449790', 'P468398', 'P429405', 'P500887', 'P460745', 'P447770', 'P468706', 'P463924', 'P458775', 'P472486', 'P475597', 'P447764', 'P468849', 'P500311', 'P504181', 'P504164', 'P504187', 'P503717', 'P504908', 'P504179', 'P504909', 'P504077', 'P504063', 'P458747', 'P471059', 'P473145', 'P502039', 'P443623', 'P451937', 'P481729', 'P483484', 'P456592', 'P451938', 'P474848', 'P473146', 'P458748', 'P458749', 'P461222', 'P461224', 'P451939', 'P501193', 'P501156', 'P476724', 'P503702', 'P446101', 'P97989778', 'P38855877', 'P479343', 'P49848448', 'P64546856', 'P467451', 'P503711', 'P87987897', 'P500636', 'P503714', 'P11487778', 'P500637', 'P467449', 'P475599', 'P55849781', 'P479345', 'P471074', 'P77484859', 'P467450', 'P82858582', 'P47478987', 'P05048798', 'P475604', 'P471077', 'P79797874', 'P471076', 'P39693963', 'P505369', 'P473120', 'P483125', 'P500449', 'P483124', 'P475156', 'P475158', 'P483123', 'P475157', 'P473174', 'P473118', 'P500162', 'P505347', 'P423666', 'P408972', 'P408973', 'P500051', 'P457458', 'P479707', 'P450899', 'P454033', 'P475606', 'P501548', 'P472053', 'P476005', 'P480345', 'P476011', 'P482730', 'P476008', 'P500294', 'P500425', 'P481160', 'P502071', 'P476007', 'P476006', 'P502066', 'P476012', 'P482731', 'P500325', 'P500333', 'P500426', 'P469825', 'P468210', 'P468206', 'P472997', 'P468207', 'P483685', 'P480188', 'P501451', 'P468204', 'P468208', 'P504907', 'P281411', 'P430932', 'P424915', 'P230234', 'P377784', 'P284507', 'P415438', 'P401715', 'P266811', 'P395532', 'P286513', 'P417985', 'P398009', 'P403322', 'P379509', 'P433005', 'P467140', 'P457430', 'P398001', 'P381155', 'P408606', 'P276319', 'P310719', 'P467139', 'P443336', 'P432080', 'P420440', 'P439401', 'P448496', 'P474388', 'P500453', 'P443317', 'P420607', 'P479854', 'P474100', 'P443321', 'P303302', 'P446621', 'P421234', 'P377785', 'P467142', 'P427017', 'P474101', 'P467144', 'P461515', 'P479855', 'P427367', 'P439601', 'P474372', 'P406569', 'P457433', 'P408602', 'P479856', 'P460716', 'P460719', 'P480190', 'P379324', 'P471081', 'P503921', 'P471080', 'P457429', 'P466443', 'P443328', 'P467141', 'P454320', 'P432077', 'P454322', 'P471079', 'P484071', 'P471278', 'P474102', 'P445724', 'P439036', 'P503929', 'P501346', 'P479649', 'P501496', 'P501571', 'P501365', 'P432079', 'P479857', 'P461514', 'P457432', 'P502459', 'P443322', 'P454321', 'P432076', 'P470542', 'P502417', 'P432078', 'P503900', 'P471082', 'P484068', 'P502504', 'P502473', 'P480347', 'P503907', 'P502386', 'P474103', 'P502453', 'P503904', 'P482304', 'P449106', 'P398736', 'P449107', 'P435415', 'P468401', 'P435416', 'P435412', 'P480353', 'P443795', 'P468402', 'P454978', 'P503349', 'P503333', 'P503350', 'P503342', 'P503304', 'P503300', 'P409317', 'P9889', 'P19267373', 'P387426', 'P292403', 'P477826', 'P447363', 'P460019', 'P380998', 'P427042', 'P375100', 'P454512', 'P440044', 'P467974', 'P439936', 'P477825', 'P284701', 'P429021', 'P260311', 'P479985', 'P454358', 'P453267', 'P417882', 'P456374', 'P439937', 'P479982', 'P429910', 'P479983', 'P398372', 'P501284', 'P479984', 'P482744', 'P502061', 'P482743', 'P503218', 'P504170', 'P504508', 'P63087293', 'P253818', 'P427385', 'P261621', 'P269019', 'P406281', 'P429008', 'P397901', 'P466152', 'P504316', 'P474119', 'P501777', 'P442701', 'P278610', 'P403812', 'P482750', 'P391759', 'P405601', 'P423935', 'P467977', 'P433206', 'P377542', 'P111902', 'P427600', 'P429612', 'P290629', 'P67617', 'P262113', 'P408432', 'P387228', 'P392636', 'P415984', 'P310018', 'P456371', 'P442792', 'P473000', 'P286101', 'P408285', 'P450535', 'P387175', 'P504200', 'P179924', 'P99809', 'P456586', 'P420231', 'P397383', 'P456601', 'P407637', 'P481746', 'P481744', 'P152703', 'P453271', 'P413182', 'P500780', 'P500620', 'P473001', 'P440260', 'P500182', 'P469864', 'P242810', 'P472190', 'P470550', 'P473840', 'P441841', 'P385760', 'P453920', 'P450537', 'P450536', 'P473821', 'P439932', 'P468224', 'P468223', 'P450534', 'P415990', 'P432866', 'P505244', 'P469865', 'P505127', 'P444433', 'P454990', 'P452909', 'P453918', 'P504215', 'P479994', 'P469800', 'P420232', 'P474862', 'P446871', 'P443762', 'P454989', 'P479998', 'P463968', 'P504220', 'P504573', 'P502885', 'P505256', 'P428661', 'P456446', 'P469546', 'P500423', 'P427408', 'P447598', 'P504702', 'P500018', 'P504898', 'P422568', 'P416057', 'P416222', 'P449372', 'P459506', 'P422453', 'P422574', 'P464313', 'P429018', 'P422571', 'P443930', 'P481356', 'P422552', 'P476743', 'P476744', 'P443932', 'P481174', 'P428908', 'P445433', 'P503100', 'P422546', 'P483499', 'P481173', 'P481747', 'P411725', 'P505166', 'P505165', 'P458271', 'P505387', 'P501516', 'P505393', 'P381000', 'P432298', 'P397517', 'P407636', 'P229406', 'P378111', 'P407907', 'P387589', 'P420166', 'P426850', 'P202625', 'P407908', 'P455201', 'P429602', 'P74520', 'P467795', 'P504072', 'P467794', 'P442803', 'P460018', 'P48406', 'P458586', 'P444600', 'P439069', 'P447123', 'P467151', 'P441854', 'P484079', 'P502382', 'P456594', 'P480363', 'P476747', 'P483500', 'P475179', 'P476746', 'P501036', 'P484078', 'P467981', 'P475178', 'P501013', 'P501033', 'P502499', 'P501027', 'P504178', 'P473825', 'P473851', 'P473854', 'P504037', 'P505390', 'P505386', 'P449342', 'P477829', 'P502484', 'P458281', 'P504183', 'P448855', 'P501332', 'P504041', 'P503943', 'P475198', 'P475191', 'P263504', 'P409523', 'P133707', 'P309813', 'P384099', 'P284716', 'P74312', 'P378821', 'P420913', 'P219001', 'P277222', 'P410548', 'P387956', 'P381306', 'P447143', 'P440905', 'P440907', 'P468712', 'P474380', 'P467658', 'P447553', 'P501181', 'P431455', 'P401771', 'P432630', 'P387594', 'P482758', 'P454337', 'P395733', 'P503994', 'P415988', 'P461544', 'P453943', 'P461545', 'P437925', 'P446816', 'P454606', 'P454338', 'P463116', 'P456357', 'P445423', 'P445424', 'P455265', 'P463117', 'P503573', 'P456361', 'P503579', 'P482077', 'P446821', 'P479473', 'P479508', 'P479471', 'P479462', 'P479510', 'P479487', 'P479463', 'P479479', 'P479500', 'P479480', 'P479472', 'P473009', 'P473010', 'P429277', 'P429278', 'P477378', 'P468423', 'P477379', 'P460561', 'P477377', 'P449085', 'P471585', 'P481177', 'P501532', 'P425705', 'P428123', 'P460733', 'P454982', 'P468858', 'P428669', 'P455558', 'P437367', 'P411529', 'P414160', 'P481391', 'P417143', 'P407107', 'P476920', 'P481370', 'P468431', 'P468433', 'P468429', 'P469873', 'P501795', 'P468430', 'P500303', 'P468432', 'P504318', 'P468436', 'P468435', 'P468434', 'P479361', 'P482557', 'P468437', 'P503578', 'P377710', 'P218431', 'P410743', 'P421456', 'P436506', 'P397615', 'P474600', 'P457250', 'P474872', 'P440971', 'P480000', 'P463666', 'P479863', 'P393427', 'P422335', 'P501588', 'P432284', 'P500493', 'P474601', 'P455412', 'P474602', 'P474604', 'P483501', 'P467660', 'P467659', 'P505461']\n",
            "Recommended Products: ['P474872', 'P500408', 'P436506', 'P463666', 'P437230']\n",
            "Recommendations for: Long & Strong Lash Serum\n",
            "\n",
            "+-----------+----------------------------------------------+-----------------------------------+--------------------+---------------------+\n",
            "|   ranking | product_name                                 | brand_name                        | primary_category   | tertiary_category   |\n",
            "|-----------+----------------------------------------------+-----------------------------------+--------------------+---------------------|\n",
            "|         1 | Level Up Lash Conditioning Serum             | Lilly Lashes                      | Makeup             | Mascara             |\n",
            "|         2 | Platinum Long Lash Serum                     | Dr. Lara Devgan Scientific Beauty | Makeup             | Mascara             |\n",
            "|         3 | Multi-Peptide Lash and Brow Serum            | The Ordinary                      | Makeup             | Mascara             |\n",
            "|         4 | GrowPotion Fluffy Brow + Lash Boosting Serum | Kosas                             | Makeup             | Mascara             |\n",
            "|         5 | High Impact Lash Amplifying Serum            | CLINIQUE                          | Makeup             | Mascara             |\n",
            "+-----------+----------------------------------------------+-----------------------------------+--------------------+---------------------+\n",
            "Evaluation for Product ID: P481177\n",
            "Precision@5: 1.0000\n",
            "Relevant Products: ['P398965', 'P503741', 'P503754', 'P503762', 'P503732', 'P503763', 'P503767', 'P503759', 'P504779', 'P503731', 'P384060', 'P404832', 'P404831', 'P409118', 'P58930227', 'P386335', 'P404830', 'P406576', 'P69304', 'P69300', 'P468341', 'P423925', 'P454751', 'P410504', 'P187202', 'P441838', 'P480576', 'P420162', 'P386783', 'P442999', 'P449124', 'P69305', 'P462328', 'P443753', 'P463420', 'P427916', 'P474813', 'P475045', 'P224610', 'P474812', 'P450720', 'P406577', 'P395205', 'P463783', 'P449149', 'P468343', 'P420204', 'P500629', 'P468344', 'P446027', 'P471735', 'P478230', 'P173317', 'P449151', 'P477809', 'P455981', 'P503556', 'P456591', 'P423923', 'P468342', 'P500604', 'P483069', 'P410502', 'P500402', 'P473262', 'P470504', 'P504629', 'P393401', 'P393411', 'P393434', 'P416785', 'P456158', 'P441817', 'P458270', 'P472016', 'P449793', 'P393671', 'P469846', 'P393672', 'P481814', 'P393669', 'P482507', 'P503765', 'P429271', 'P456967', 'P456966', 'P451642', 'P484029', 'P473181', 'P482509', 'P479301', 'P472308', 'P448851', 'P472307', 'P502588', 'P393356', 'P61004', 'P410543', 'P61005', 'P469839', 'P455324', 'P427652', 'P469847', 'P470512', 'P473848', 'P461132', 'P473841', 'P501215', 'P473842', 'P501217', 'P481951', 'P504122', 'P158509', 'P504153', 'P228913', 'P433987', 'P379449', 'P228914', 'P477136', 'P455325', 'P429235', 'P468345', 'P475051', 'P484031', 'P500981', 'P471744', 'P470004', 'P290636', 'P264900', 'P289307', 'P409239', 'P408219', 'P392516', 'P1272', 'P408218', 'P440700', 'P427517', 'P409242', 'P447375', 'P38347', 'P500253', 'P1273', 'P461925', 'P450856', 'P448162', 'P417320', 'P440952', 'P440951', 'P425933', 'P466656', 'P408312', 'P474932', 'P482664', 'P469203', 'P503681', 'P500840', 'P475910', 'P469438', 'P501450', 'P457461', 'P453917', 'P447358', 'P447122', 'P447371', 'P453269', 'P447121', 'P484032', 'P479827', 'P447368', 'P504131', 'P502816', 'P504136', 'P377750', 'P46017', 'P385531', 'P501265', 'P471004', 'P378145', 'P270539', 'P270555', 'P401602', 'P427430', 'P270549', 'P422224', 'P400625', 'P439913', 'P270545', 'P270548', 'P404241', 'P454116', 'P270551', 'P270540', 'P480282', 'P385586', 'P434383', 'P382581', 'P480281', 'P501412', 'P420900', 'P503555', 'P445416', 'P465745', 'P455195', 'P388664', 'P432842', 'P383334', 'P504216', 'P403974', 'P502815', 'P500606', 'P503887', 'P474024', 'P504080', 'P174213', 'P305132', 'P420163', 'P228204', 'P374159', 'P471224', 'P473265', 'P501569', 'P480580', 'P479308', 'P480579', 'P479309', 'P504293', 'P479835', 'P500246', 'P503176', 'P503922', 'P434104', 'P433526', 'P444154', 'P433516', 'P434002', 'P433530', 'P448869', 'P461147', 'P433523', 'P434101', 'P480286', 'P459144', 'P433527', 'P446609', 'P433531', 'P468347', 'P434100', 'P454509', 'P449571', 'P500285', 'P433528', 'P500407', 'P455321', 'P456368', 'P504020', 'P475919', 'P503729', 'P434526', 'P462841', 'P454046', 'P433864', 'P454508', 'P454506', 'P446610', 'P455323', 'P461433', 'P470203', 'P434004', 'P462843', 'P454505', 'P433525', 'P502270', 'P462845', 'P434008', 'P455322', 'P434012', 'P433863', 'P454351', 'P434527', 'P433532', 'P471749', 'P459260', 'P472458', 'P462847', 'P470208', 'P462844', 'P433529', 'P470204', 'P462846', 'P460744', 'P470206', 'P472460', 'P502275', 'P502248', 'P472459', 'P503932', 'P462849', 'P462848', 'P462850', 'P400560', 'P390961', 'P394935', 'P481964', 'P455420', 'P130909', 'P94902', 'P122751', 'P384996', 'P393325', 'P279113', 'P122735', 'P234967', 'P384505', 'P122912', 'P206900', 'P122748', 'P310726', 'P279510', 'P378639', 'P305114', 'P393633', 'P122736', 'P501008', 'P387634', 'P428662', 'P122866', 'P406924', 'P122765', 'P122740', 'P393634', 'P422881', 'P122914', 'P468639', 'P381918', 'P461436', 'P122668', 'P122694', 'P377219', 'P421227', 'P293010', 'P283304', 'P411552', 'P411531', 'P433652', 'P457692', 'P122807', 'P382504', 'P122834', 'P122739', 'P122763', 'P374580', 'P277401', 'P400708', 'P381916', 'P446874', 'P426374', 'P122675', 'P407483', 'P481065', 'P481064', 'P501526', 'P483653', 'P481066', 'P433827', 'P468353', 'P484039', 'P479311', 'P481694', 'P469461', 'P501512', 'P482522', 'P504051', 'P469455', 'P473701', 'P481696', 'P469460', 'P502023', 'P469459', 'P469456', 'P469457', 'P504669', 'P481695', 'P443361', 'P453814', 'P186805', 'P432500', 'P454762', 'P432504', 'P467760', 'P482262', 'P439941', 'P456596', 'P439940', 'P500997', 'P396240', 'P481969', 'P483654', 'P377821', 'P463032', 'P475090', 'P238433', 'P444597', 'P99901', 'P450457', 'P297404', 'P442793', 'P416366', 'P435806', 'P429720', 'P471544', 'P480599', 'P99902', 'P386816', 'P435807', 'P475091', 'P441312', 'P500313', 'P504675', 'P470214', 'P463033', 'P500247', 'P500408', 'P504694', 'P467761', 'P429430', 'P504692', 'P469465', 'P500623', 'P139005', 'P417002', 'P457523', 'P459126', 'P476849', 'P475930', 'P378284', 'P454063', 'P379951', 'P475536', 'P441306', 'P384114', 'P422280', 'P379945', 'P460732', 'P379947', 'P482263', 'P418861', 'P476493', 'P476444', 'P476556', 'P476550', 'P476494', 'P503002', 'P476456', 'P502223', 'P503003', 'P67988453', 'P87985432', 'P39787544', 'P18975403', 'P64879845', 'P470025', 'P85225585', 'P19700127', 'P88779809', 'P73124556', 'P473708', 'P55978864', 'P465757', 'P45433019', 'P88779810', 'P448702', 'P39784685', 'P04897543', 'P67339785', 'P31870457', 'P472161', 'P444149', 'P466829', 'P500061', 'P34908923', 'P442531', 'P455193', 'P17876556', 'P448703', 'P448878', 'P502222', 'P501462', 'P45432919', 'P480303', 'P97832786', 'P37544587', 'P447718', 'P447551', 'P504872', 'P444926', 'P461934', 'P471236', 'P458193', 'P455188', 'P479634', 'P501312', 'P456148', 'P503158', 'P501436', 'P501262', 'P428901', 'P293008', 'P434551', 'P468653', 'P469819', 'P502850', 'P504127', 'P474831', 'P481819', 'P481088', 'P504894', 'P274001', 'P390722', 'P377755', 'P457245', 'P405231', 'P474948', 'P472700', 'P448881', 'P469469', 'P416205', 'P481706', 'P183916', 'P471764', 'P505129', 'P410767', 'P446334', 'P463625', 'P501179', 'P474949', 'P446827', 'P504939', 'P419605', 'P500416', 'P500394', 'P505234', 'P504525', 'P504521', 'P504823', 'P504526', 'P504782', 'P504829', 'P504802', 'P504831', 'P504834', 'P504775', 'P504814', 'P504803', 'P504527', 'P504807', 'P504789', 'P504800', 'P504788', 'P407471', 'P455557', 'P420491', 'P471548', 'P420492', 'P441882', 'P453273', 'P452737', 'P459503', 'P452736', 'P471239', 'P502188', 'P469858', 'P456588', 'P467622', 'P457649', 'P483448', 'P469821', 'P500476', 'P467623', 'P457650', 'P501313', 'P480306', 'P483447', 'P501242', 'P266308', 'P197413', 'P284710', 'P405071', 'P430124', 'P483450', 'P471240', 'P190247', 'P456356', 'P501172', 'P459464', 'P459466', 'P501230', 'P505377', 'P481997', 'P481999', 'P502289', 'P504152', 'P482000', 'P503357', 'P481998', 'P482001', 'P502461', 'P481995', 'P500491', 'P502436', 'P503639', 'P505462', 'P502185', 'P500283', 'P500314', 'P500284', 'P500336', 'P500298', 'P501271', 'P500301', 'P504025', 'P502321', 'P500295', 'P410532', 'P377723', 'P384963', 'P210575', 'P454042', 'P395697', 'P483662', 'P433811', 'P430240', 'P301802', 'P501154', 'P433809', 'P444425', 'P404706', 'P376457', 'P427527', 'P460829', 'P309504', 'P480609', 'P379096', 'P388106', 'P427516', 'P504297', 'P457643', 'P420410', 'P473833', 'P471550', 'P483663', 'P450905', 'P430238', 'P471767', 'P447359', 'P457644', 'P502339', 'P461167', 'P454758', 'P415643', 'P427605', 'P469476', 'P454745', 'P504339', 'P504871', 'P483686', 'P502508', 'P502324', 'P433402', 'P43818047', 'P450887', 'P441880', 'P440102', 'P450511', 'P471243', 'P500309', 'P432059', 'P465324', 'P479843', 'P463061', 'P444605', 'P54654321', 'P489310288', 'P467625', 'P463062', 'P471244', 'P477474', 'P501327', 'P472816', 'P98466189', 'P472815', 'P482003', 'P444142', 'P469477', 'P459256', 'P444607', 'P477988', 'P477989', 'P502306', 'P420239', 'P465326', 'P504610', 'P474836', 'P502092', 'P504885', 'P500730', 'P9214873437', 'P477168', 'P476690', 'P500854', 'P500769', 'P504900', 'P461217', 'P461220', 'P478279', 'P473171', 'P461219', 'P502623', 'P502611', 'P463452', 'P484045', 'P471035', 'P481711', 'P477991', 'P461218', 'P505240', 'P482679', 'P504574', 'P455418', 'P431750', 'P411848', 'P429548', 'P472978', 'P444439', 'P464772', 'P441873', 'P461456', 'P448845', 'P444438', 'P436270', 'P458753', 'P417170', 'P475110', 'P467765', 'P444919', 'P480308', 'P441874', 'P407640', 'P448847', 'P471245', 'P448846', 'P458754', 'P439202', 'P422517', 'P428120', 'P441815', 'P429434', 'P455637', 'P428119', 'P449099', 'P431104', 'P440660', 'P432231', 'P437987', 'P411884', 'P482010', 'P425876', 'P411889', 'P411886', 'P461600', 'P411396', 'P411392', 'P443586', 'P448147', 'P479964', 'P466663', 'P456940', 'P450994', 'P456942', 'P461457', 'P504805', 'P500466', 'P463462', 'P407445', 'P434559', 'P223416', 'P436742', 'P434021', 'P434015', 'P434022', 'P454984', 'P443567', 'P475118', 'P447156', 'P463464', 'P481715', 'P451644', 'P472817', 'P480311', 'P480310', 'P436148', 'P439943', 'P436152', 'P443514', 'P471556', 'P481098', 'P449090', 'P436155', 'P468163', 'P436156', 'P504365', 'P482684', 'P436154', 'P463306', 'P476697', 'P436151', 'P468164', 'P501443', 'P462371', 'P431509', 'P456151', 'P468685', 'P481396', 'P451920', 'P441884', 'P471049', 'P443764', 'P447744', 'P471048', 'P503996', 'P474961', 'P441886', 'P503896', 'P457455', 'P471047', 'P462872', 'P502288', 'P501578', 'P501568', 'P501589', 'P504604', 'P245205', 'P311138', 'P418804', 'P430718', 'P469488', 'P385908', 'P409988', 'P418800', 'P392437', 'P483466', 'P501592', 'P468169', 'P441024', 'P454732', 'P464781', 'P481106', 'P454032', 'P475569', 'P504366', 'P442770', 'P418801', 'P454733', 'P460562', 'P447557', 'P472980', 'P462706', 'P504596', 'P504620', 'P448182', 'P459501', 'P308201', 'P128706', 'P467208', 'P473717', 'P419848', 'P54477', 'P431511', 'P399503', 'P54450', 'P457812', 'P244911', 'P428823', 'P54419', 'P244006', 'P500706', 'P54443', 'P468688', 'P65300', 'P437230', 'P429440', 'P219008', 'P54433', 'P262303', 'P54444', 'P54417', 'P293302', 'P481824', 'P433569', 'P102813', 'P481112', 'P500503', 'P403701', 'P502196', 'P505457', 'P505455', 'P481823', 'P457508', 'P109908', 'P293605', 'P109936', 'P140906', 'P379031', 'P433131', 'P109911', 'P429050', 'P500622', 'P440268', 'P109931', 'P109906', 'P473319', 'P109927', 'P414034', 'P427041', 'P381714', 'P482286', 'P467957', 'P443744', 'P454942', 'P480180', 'P285323', 'P433852', 'P433850', 'P501817', 'P454941', 'P453906', 'P501504', 'P500437', 'P454943', 'P255110', 'P109941', 'P443743', 'P454946', 'P479972', 'P504012', 'P109943', 'P502987', 'P467956', 'P504190', 'P500414', 'P483668', 'P483669', 'P468175', 'P480326', 'P504609', 'P450514', 'P460814', 'P439204', 'P454981', 'P482699', 'P475128', 'P468455', 'P435713', 'P449098', 'P502170', 'P475127', 'P472317', 'P502178', 'P464265', 'P505251', 'P450886', 'P421444', 'P472318', 'P421441', 'P427722', 'P421448', 'P421445', 'P434534', 'P454770', 'P476419', 'P451888', 'P471255', 'P465812', 'P479331', 'P501299', 'P504914', 'P502057', 'P502413', 'P501302', 'P479332', 'P501247', 'P468384', 'P468380', 'P500123', 'P480618', 'P468383', 'P468382', 'P468385', 'P503938', 'P477199', 'P468381', 'P503895', 'P476884', 'P430969', 'P427647', 'P479712', 'P398775', 'P183919', 'P421281', 'P439652', 'P415958', 'P454035', 'P434023', 'P462883', 'P437364', 'P460730', 'P417171', 'P379925', 'P460729', 'P417172', 'P500323', 'P504432', 'P171101', 'P460731', 'P404776', 'P169812', 'P476574', 'P428677', 'P440956', 'P468185', 'P500992', 'P483474', 'P468186', 'P417174', 'P468182', 'P476549', 'P428676', 'P454728', 'P468184', 'P502974', 'P386652', 'P454727', 'P468183', 'P483473', 'P472989', 'P501505', 'P472988', 'P472990', 'P504860', 'P481114', 'P472327', 'P503679', 'P98364786', 'P477838', 'P472324', 'P500452', 'P477837', 'P501527', 'P472325', 'P472326', 'P39853698', 'P33257988', 'P500403', 'P481720', 'P472328', 'P04456664', 'P13211222', 'P64197382', 'P02318798', 'P465781', 'P475575', 'P01018539', 'P475576', 'P477805', 'P87788965', 'P444444', 'P468389', 'P444548', 'P444545', 'P472478', 'P462718', 'P481127', 'P457824', 'P444446', 'P444547', 'P459150', 'P501445', 'P456964', 'P471559', 'P455560', 'P444546', 'P455561', 'P483477', 'P476886', 'P483478', 'P474348', 'P477201', 'P473121', 'P462885', 'P478296', 'P502025', 'P504916', 'P504920', 'P504891', 'P468691', 'P468693', 'P468694', 'P481403', 'P501766', 'P468696', 'P468692', 'P468695', 'P441813', 'P437097', 'P404797', 'P429903', 'P463071', 'P410176', 'P411508', 'P433125', 'P404798', 'P500448', 'P448151', 'P483675', 'P446824', 'P476713', 'P503903', 'P475966', 'P483674', 'P428235', 'P476712', 'P468863', 'P481128', 'P433124', 'P468864', 'P443308', 'P501572', 'P443307', 'P479643', 'P481129', 'P461472', 'P471786', 'P504886', 'P377873', 'P2855', 'P78834', 'P416200', 'P387906', 'P427301', 'P479338', 'P247355', 'P421485', 'P302923', 'P419506', 'P13046537', 'P448502', 'P12790', 'P462720', 'P2866', 'P261211', 'P377757', 'P441810', 'P471270', 'P479337', 'P501583', 'P104006', 'P474358', 'P468392', 'P377756', 'P468700', 'P457302', 'P482702', 'P422073', 'P457304', 'P473173', 'P504202', 'P2856', 'P448503', 'P434385', 'P422079', 'P480462', 'P415965', 'P504836', 'P504832', 'P475138', 'P475139', 'P504081', 'P505364', 'P461188', 'P411826', 'P440313', 'P459829', 'P475969', 'P436273', 'P453218', 'P478018', 'P413523', 'P450057', 'P502079', 'P444024', 'P482292', 'P471790', 'P441872', 'P501473', 'P464791', 'P444921', 'P500263', 'P434566', 'P472992', 'P481728', 'P502073', 'P482051', 'P444034', 'P503993', 'P482052', 'P502442', 'P502303', 'P502353', 'P475142', 'P475141', 'P474359', 'P502350', 'P419107', 'P388953', 'P428673', 'P444609', 'P405290', 'P431758', 'P417912', 'P457828', 'P416774', 'P408286', 'P444920', 'P448152', 'P501811', 'P400017', 'P500480', 'P501183', 'P463098', 'P501155', 'P463096', 'P501177', 'P501780', 'P463099', 'P502770', 'P482054', 'P472178', 'P388950', 'P482055', 'P501789', 'P504874', 'P504873', 'P472179', 'P476892', 'P504306', 'P407080', 'P442012', 'P469953', 'P466144', 'P478536', 'P476719', 'P473741', 'P461665', 'P468394', 'P461664', 'P482710', 'P461666', 'P504363', 'P461923', 'P504605', 'P500481', 'P500501', 'P472993', 'P472995', 'P501749', 'P500733', 'P472994', 'P455004', 'P421813', 'P431852', 'P447519', 'P86825294', 'P472489', 'P456106', 'P433500', 'P439070', 'P456107', 'P423646', 'P476899', 'P458276', 'P440967', 'P423647', 'P423644', 'P475598', 'P432863', 'P461956', 'P433003', 'P458774', 'P484065', 'P462783', 'P449790', 'P468398', 'P429405', 'P500887', 'P460745', 'P447770', 'P468706', 'P463924', 'P458775', 'P472486', 'P475597', 'P447764', 'P468849', 'P500311', 'P504181', 'P504164', 'P504187', 'P503717', 'P504908', 'P504179', 'P504909', 'P504077', 'P504063', 'P458747', 'P471059', 'P473145', 'P502039', 'P443623', 'P451937', 'P481729', 'P483484', 'P456592', 'P451938', 'P474848', 'P473146', 'P458748', 'P458749', 'P461222', 'P461224', 'P451939', 'P501193', 'P501156', 'P476724', 'P503702', 'P446101', 'P97989778', 'P38855877', 'P479343', 'P49848448', 'P64546856', 'P467451', 'P503711', 'P87987897', 'P500636', 'P503714', 'P11487778', 'P500637', 'P467449', 'P475599', 'P55849781', 'P479345', 'P471074', 'P77484859', 'P467450', 'P82858582', 'P47478987', 'P05048798', 'P475604', 'P471077', 'P79797874', 'P471076', 'P39693963', 'P505369', 'P473120', 'P483125', 'P500449', 'P483124', 'P475156', 'P475158', 'P483123', 'P475157', 'P473174', 'P473118', 'P500162', 'P505347', 'P423666', 'P408972', 'P408973', 'P500051', 'P457458', 'P479707', 'P450899', 'P454033', 'P475606', 'P501548', 'P472053', 'P476005', 'P480345', 'P476011', 'P482730', 'P476008', 'P500294', 'P500425', 'P481160', 'P502071', 'P476007', 'P476006', 'P502066', 'P476012', 'P482731', 'P500325', 'P500333', 'P500426', 'P469825', 'P468210', 'P468206', 'P472997', 'P468207', 'P483685', 'P480188', 'P501451', 'P468204', 'P468208', 'P504907', 'P281411', 'P430932', 'P424915', 'P230234', 'P377784', 'P284507', 'P415438', 'P401715', 'P266811', 'P395532', 'P286513', 'P417985', 'P398009', 'P403322', 'P379509', 'P433005', 'P467140', 'P457430', 'P398001', 'P381155', 'P408606', 'P276319', 'P310719', 'P467139', 'P443336', 'P432080', 'P420440', 'P439401', 'P448496', 'P474388', 'P500453', 'P443317', 'P420607', 'P479854', 'P474100', 'P443321', 'P303302', 'P446621', 'P421234', 'P377785', 'P467142', 'P427017', 'P474101', 'P467144', 'P461515', 'P479855', 'P427367', 'P439601', 'P474372', 'P406569', 'P457433', 'P408602', 'P479856', 'P460716', 'P460719', 'P480190', 'P379324', 'P471081', 'P503921', 'P471080', 'P457429', 'P466443', 'P443328', 'P467141', 'P454320', 'P432077', 'P454322', 'P471079', 'P484071', 'P471278', 'P474102', 'P445724', 'P439036', 'P503929', 'P501346', 'P479649', 'P501496', 'P501571', 'P501365', 'P432079', 'P479857', 'P461514', 'P457432', 'P502459', 'P443322', 'P454321', 'P432076', 'P470542', 'P502417', 'P432078', 'P503900', 'P471082', 'P484068', 'P502504', 'P502473', 'P480347', 'P503907', 'P502386', 'P474103', 'P502453', 'P503904', 'P482304', 'P449106', 'P398736', 'P449107', 'P435415', 'P468401', 'P435416', 'P435412', 'P480353', 'P443795', 'P468402', 'P454978', 'P503349', 'P503333', 'P503350', 'P503342', 'P503304', 'P503300', 'P409317', 'P9889', 'P19267373', 'P387426', 'P292403', 'P477826', 'P447363', 'P460019', 'P380998', 'P427042', 'P375100', 'P454512', 'P440044', 'P467974', 'P439936', 'P477825', 'P284701', 'P429021', 'P260311', 'P479985', 'P454358', 'P453267', 'P417882', 'P456374', 'P439937', 'P479982', 'P429910', 'P479983', 'P398372', 'P501284', 'P479984', 'P482744', 'P502061', 'P482743', 'P503218', 'P504170', 'P504508', 'P63087293', 'P253818', 'P427385', 'P261621', 'P269019', 'P406281', 'P429008', 'P397901', 'P466152', 'P504316', 'P474119', 'P501777', 'P442701', 'P278610', 'P403812', 'P482750', 'P391759', 'P405601', 'P423935', 'P467977', 'P433206', 'P377542', 'P111902', 'P427600', 'P429612', 'P290629', 'P67617', 'P262113', 'P408432', 'P387228', 'P392636', 'P415984', 'P310018', 'P456371', 'P442792', 'P473000', 'P286101', 'P408285', 'P450535', 'P387175', 'P504200', 'P179924', 'P99809', 'P456586', 'P420231', 'P397383', 'P456601', 'P407637', 'P481746', 'P481744', 'P152703', 'P453271', 'P413182', 'P500780', 'P500620', 'P473001', 'P440260', 'P500182', 'P469864', 'P242810', 'P472190', 'P470550', 'P473840', 'P441841', 'P385760', 'P453920', 'P450537', 'P450536', 'P473821', 'P439932', 'P468224', 'P468223', 'P450534', 'P415990', 'P432866', 'P505244', 'P469865', 'P505127', 'P444433', 'P454990', 'P452909', 'P453918', 'P504215', 'P479994', 'P469800', 'P420232', 'P474862', 'P446871', 'P443762', 'P454989', 'P479998', 'P463968', 'P504220', 'P504573', 'P502885', 'P505256', 'P428661', 'P456446', 'P469546', 'P500423', 'P427408', 'P447598', 'P504702', 'P500018', 'P504898', 'P422568', 'P416057', 'P416222', 'P449372', 'P459506', 'P422453', 'P422574', 'P464313', 'P429018', 'P422571', 'P443930', 'P481356', 'P422552', 'P476743', 'P476744', 'P443932', 'P481174', 'P428908', 'P445433', 'P503100', 'P422546', 'P483499', 'P481173', 'P481747', 'P411725', 'P505166', 'P505165', 'P458271', 'P505387', 'P501516', 'P505393', 'P381000', 'P432298', 'P397517', 'P407636', 'P229406', 'P378111', 'P407907', 'P387589', 'P420166', 'P426850', 'P202625', 'P407908', 'P455201', 'P429602', 'P74520', 'P467795', 'P504072', 'P467794', 'P442803', 'P460018', 'P48406', 'P458586', 'P444600', 'P439069', 'P447123', 'P467151', 'P441854', 'P484079', 'P502382', 'P456594', 'P480363', 'P476747', 'P483500', 'P475179', 'P476746', 'P501036', 'P484078', 'P467981', 'P475178', 'P501013', 'P501033', 'P502499', 'P501027', 'P504178', 'P473825', 'P473851', 'P473854', 'P504037', 'P505390', 'P505386', 'P449342', 'P477829', 'P502484', 'P458281', 'P504183', 'P448855', 'P501332', 'P504041', 'P503943', 'P475198', 'P475191', 'P263504', 'P409523', 'P133707', 'P309813', 'P384099', 'P284716', 'P74312', 'P378821', 'P420913', 'P219001', 'P277222', 'P410548', 'P387956', 'P381306', 'P447143', 'P440905', 'P440907', 'P468712', 'P474380', 'P467658', 'P447553', 'P501181', 'P431455', 'P401771', 'P432630', 'P387594', 'P482758', 'P454337', 'P395733', 'P503994', 'P415988', 'P461544', 'P453943', 'P461545', 'P437925', 'P446816', 'P454606', 'P454338', 'P463116', 'P456357', 'P445423', 'P445424', 'P455265', 'P463117', 'P503573', 'P456361', 'P503579', 'P482077', 'P446821', 'P479501', 'P479473', 'P479508', 'P479471', 'P479462', 'P479510', 'P479487', 'P479463', 'P479479', 'P479500', 'P479480', 'P479472', 'P473009', 'P473010', 'P429277', 'P429278', 'P477378', 'P468423', 'P477379', 'P460561', 'P477377', 'P449085', 'P471585', 'P501532', 'P425705', 'P428123', 'P460733', 'P454982', 'P468858', 'P428669', 'P455558', 'P437367', 'P411529', 'P414160', 'P481391', 'P417143', 'P407107', 'P476920', 'P481370', 'P468431', 'P468433', 'P468429', 'P469873', 'P501795', 'P468430', 'P500303', 'P468432', 'P504318', 'P468436', 'P468435', 'P468434', 'P479361', 'P482557', 'P468437', 'P503578', 'P377710', 'P218431', 'P410743', 'P421456', 'P436506', 'P397615', 'P474600', 'P457250', 'P474872', 'P440971', 'P480000', 'P463666', 'P479863', 'P393427', 'P422335', 'P501588', 'P432284', 'P500493', 'P474601', 'P455412', 'P474602', 'P474604', 'P483501', 'P467660', 'P467659', 'P505461']\n",
            "Recommended Products: ['P501247', 'P459126', 'P500423', 'P501578', 'P481065']\n",
            "Recommendations for: Protect & Prevent Spray\n",
            "\n",
            "+-----------+---------------------------------------------------+--------------------+--------------------+---------------------+\n",
            "|   ranking | product_name                                      | brand_name         | primary_category   | tertiary_category   |\n",
            "|-----------+---------------------------------------------------+--------------------+--------------------+---------------------|\n",
            "|         1 | Bb. Heat Shield Thermal Protection Mist           | Bumble and bumble  | Hair               | Hair Primers        |\n",
            "|         2 | Glossy Shine Heat Protectant Spray                | Verb               | Hair               | Hair Primers        |\n",
            "|         3 | Hair Primer                                       | SEPHORA COLLECTION | Hair               | Hair Primers        |\n",
            "|         4 | Invisible Defense Universal Protection Hair Spray | Oribe              | Hair               | Hair Primers        |\n",
            "|         5 | Mini Prep Rally Prime & Prep Detangler            | Drybar             | Hair               | Hair Primers        |\n",
            "+-----------+---------------------------------------------------+--------------------+--------------------+---------------------+\n",
            "Evaluation for Product ID: P432032\n",
            "Precision@5: 1.0000\n",
            "Relevant Products: ['P457232', 'P474806', 'P457233', 'P474808', 'P457234', 'P474804', 'P481372', 'P457237', 'P457236', 'P474807', 'P457235', 'P474805', 'P378716', 'P269705', 'P269706', 'P309412', 'P405297', 'P419632', 'P269714', 'P428076', 'P309411', 'P384770', 'P391910', 'P435932', 'P405298', 'P441825', 'P435934', 'P410833', 'P435933', 'P374562', 'P405299', 'P269707', 'P416598', 'P441826', 'P405300', 'P448859', 'P435931', 'P416404', 'P428074', 'P441638', 'P428075', 'P416403', 'P479628', 'P463601', 'P484022', 'P476830', 'P463015', 'P476826', 'P472303', 'P484023', 'P484024', 'P476827', 'P476828', 'P476829', 'P463016', 'P404916', 'P393281', 'P484025', 'P474810', 'P500747', 'P404913', 'P468627', 'P468629', 'P471529', 'P431196', 'P501705', 'P409703', 'P431197', 'P431193', 'P501693', 'P504002', 'P501708', 'P420713', 'P500748', 'P431192', 'P478535', 'P481409', 'P500713', 'P420708', 'P502586', 'P471531', 'P501714', 'P420709', 'P458505', 'P473260', 'P501713', 'P501717', 'P501689', 'P480275', 'P501698', 'P501721', 'P501686', 'P480154', 'P480152', 'P480153', 'P463793', 'P475063', 'P475066', 'P500759', 'P475059', 'P475064', 'P475058', 'P475065', 'P500715', 'P500723', 'P500749', 'P500714', 'P475062', 'P475061', 'P475074', 'P475060', 'P501404', 'P475073', 'P475068', 'P475070', 'P504000', 'P475071', 'P475069', 'P475067', 'P475072', 'P504004', 'P504009', 'P460551', 'P467938', 'P477820', 'P477797', 'P460550', 'P473264', 'P469027', 'P460549', 'P483105', 'P503157', 'P388628', 'P418507', 'P396733', 'P479700', 'P418506', 'P457415', 'P411359', 'P458943', 'P427718', 'P388626', 'P427715', 'P418505', 'P503697', 'P469440', 'P402071', 'P467242', 'P447355', 'P388629', 'P500163', 'P408411', 'P461430', 'P388625', 'P431543', 'P402074', 'P388627', 'P396734', 'P402073', 'P500174', 'P431544', 'P402072', 'P469441', 'P446340', 'P446341', 'P474305', 'P461428', 'P503684', 'P435402', 'P471536', 'P461429', 'P503682', 'P471537', 'P505040', 'P467941', 'P386464', 'P375391', 'P381033', 'P280513', 'P397351', 'P384541', 'P280564', 'P280566', 'P280537', 'P449139', 'P386463', 'P386462', 'P422339', 'P391796', 'P297554', 'P394825', 'P456160', 'P407072', 'P280573', 'P410733', 'P280528', 'P280530', 'P391797', 'P421496', 'P462839', 'P280568', 'P415754', 'P280512', 'P421497', 'P456161', 'P286106', 'P378842', 'P280567', 'P280508', 'P461139', 'P422338', 'P475914', 'P280572', 'P443339', 'P280511', 'P280544', 'P462832', 'P280526', 'P280562', 'P419713', 'P378841', 'P436392', 'P280533', 'P462837', 'P399118', 'P454344', 'P280548', 'P479832', 'P462835', 'P449138', 'P479834', 'P479830', 'P479831', 'P462834', 'P436395', 'P477727', 'P474031', 'P462838', 'P399120', 'P377208', 'P417615', 'P413039', 'P436393', 'P399119', 'P280563', 'P462833', 'P474307', 'P280525', 'P476041', 'P280551', 'P451214', 'P479833', 'P449753', 'P475913', 'P481816', 'P462836', 'P454343', 'P500302', 'P474309', 'P474030', 'P417614', 'P474029', 'P474308', 'P500177', 'P477822', 'P504140', 'P504146', 'P500845', 'P500870', 'P500841', 'P500891', 'P500844', 'P500839', 'P503156', 'P500899', 'P500877', 'P500873', 'P500886', 'P503279', 'P500878', 'P503281', 'P419022', 'P434541', 'P502163', 'P469065', 'P469131', 'P469149', 'P474314', 'P469143', 'P469154', 'P469066', 'P469139', 'P469083', 'P469058', 'P469184', 'P469070', 'P469187', 'P469072', 'P469054', 'P469068', 'P469074', 'P469052', 'P469051', 'P469053', 'P502271', 'P469050', 'P502281', 'P502259', 'P502252', 'P502258', 'P480589', 'P480590', 'P480594', 'P480591', 'P500779', 'P480595', 'P504592', 'P502003', 'P502005', 'P501966', 'P501960', 'P501982', 'P501989', 'P502022', 'P501949', 'P501983', 'P501961', 'P501958', 'P502026', 'P501977', 'P501995', 'P502019', 'P501972', 'P501968', 'P502068', 'P502001', 'P502014', 'P501979', 'P502000', 'P501974', 'P503312', 'P502033', 'P501986', 'P502024', 'P503303', 'P501967', 'P501962', 'P502027', 'P501992', 'P502020', 'P503296', 'P501970', 'P501993', 'P501971', 'P502007', 'P501978', 'P501975', 'P501980', 'P502060', 'P501987', 'P501953', 'P501952', 'P462672', 'P482668', 'P457410', 'P474035', 'P457409', 'P469453', 'P457411', 'P500289', 'P501553', 'P501418', 'P467610', 'P467612', 'P467611', 'P500876', 'P504787', 'P457205', 'P457202', 'P457204', 'P457203', 'P500600', 'P500605', 'P500603', 'P378169', 'P388515', 'P411585', 'P434224', 'P462678', 'P399335', 'P479950', 'P378171', 'P422243', 'P395399', 'P448866', 'P440278', 'P399336', 'P378170', 'P454055', 'P479951', 'P454054', 'P429007', 'P422244', 'P384469', 'P443757', 'P440678', 'P457238', 'P501758', 'P461443', 'P476852', 'P475093', 'P475094', 'P472465', 'P475095', 'P501799', 'P501786', 'P476853', 'P504589', 'P476850', 'P476851', 'P504608', 'P465753', 'P456953', 'P456950', 'P475935', 'P456952', 'P477816', 'P456951', 'P504117', 'P484042', 'P501424', 'P474040', 'P474039', 'P385017', 'P504613', 'P462353', 'P462352', 'P462356', 'P473838', 'P462354', 'P481821', 'P474833', 'P462357', 'P462361', 'P501808', 'P462355', 'P462359', 'P462362', 'P462363', 'P462360', 'P437299', 'P437302', 'P458965', 'P477166', 'P481822', 'P415922', 'P386763', 'P386765', 'P429264', 'P410480', 'P410491', 'P433830', 'P430845', 'P445737', 'P410477', 'P460865', 'P422026', 'P426849', 'P439093', 'P468150', 'P455859', 'P419625', 'P410485', 'P410484', 'P447583', 'P471551', 'P429263', 'P441827', 'P433836', 'P479725', 'P433837', 'P447584', 'P444429', 'P444428', 'P471552', 'P475949', 'P455329', 'P477741', 'P471553', 'P459217', 'P500864', 'P476691', 'P477740', 'P500855', 'P500901', 'P78300', 'P78301', 'P395717', 'P476441', 'P479464', 'P476438', 'P501186', 'P476440', 'P503813', 'P500628', 'P500882', 'P476453', 'P476531', 'P476530', 'P476529', 'P500846', 'P476452', 'P476577', 'P476576', 'P479847', 'P479846', 'P501449', 'P501500', 'P434411', 'P446354', 'P446338', 'P434402', 'P434431', 'P434428', 'P434423', 'P441845', 'P434440', 'P461173', 'P479848', 'P434429', 'P434435', 'P441847', 'P441848', 'P447573', 'P434406', 'P434436', 'P434413', 'P441844', 'P434417', 'P434418', 'P454999', 'P441846', 'P434430', 'P434439', 'P449767', 'P466882', 'P468828', 'P468829', 'P454998', 'P434441', 'P472042', 'P474336', 'P457412', 'P454994', 'P448445', 'P434415', 'P472045', 'P434434', 'P480317', 'P480318', 'P434437', 'P466880', 'P468830', 'P480314', 'P434398', 'P454996', 'P457413', 'P466881', 'P434456', 'P434399', 'P472039', 'P472044', 'P454997', 'P477478', 'P434401', 'P434432', 'P466884', 'P434438', 'P434416', 'P434400', 'P434404', 'P472040', 'P448158', 'P434405', 'P454995', 'P468827', 'P434397', 'P453691', 'P472041', 'P480315', 'P472043', 'P434442', 'P434409', 'P474337', 'P434408', 'P466885', 'P434443', 'P448444', 'P448443', 'P434407', 'P434452', 'P504612', 'P434410', 'P480313', 'P449768', 'P466883', 'P466879', 'P447576', 'P434451', 'P474338', 'P434455', 'P434444', 'P504621', 'P480316', 'P504603', 'P434392', 'P504588', 'P440662', 'P500317', 'P504616', 'P504599', 'P500315', 'P500305', 'P500300', 'P462868', 'P479496', 'P422505', 'P422275', 'P422249', 'P422500', 'P422498', 'P399330', 'P384533', 'P383223', 'P415925', 'P270706', 'P437657', 'P384534', 'P296439', 'P244509', 'P296440', 'P254603', 'P501168', 'P244510', 'P270707', 'P419620', 'P440977', 'P392308', 'P378142', 'P454059', 'P467774', 'P467773', 'P457231', 'P468832', 'P439091', 'P467777', 'P411028', 'P501315', 'P467771', 'P454057', 'P467772', 'P467776', 'P454058', 'P480456', 'P467775', 'P503224', 'P422037', 'P504311', 'P480454', 'P504338', 'P480455', 'P504294', 'P477464', 'P477463', 'P477384', 'P477493', 'P500477', 'P455850', 'P468843', 'P455842', 'P468841', 'P455843', 'P455846', 'P455839', 'P467960', 'P455835', 'P455838', 'P468842', 'P455841', 'P474352', 'P455844', 'P455849', 'P467961', 'P455840', 'P474351', 'P474349', 'P474350', 'P504204', 'P503818', 'P504209', 'P503811', 'P504217', 'P504224', 'P505029', 'P505046', 'P468845', 'P444047', 'P454798', 'P412090', 'P412097', 'P412096', 'P412095', 'P462387', 'P412087', 'P412091', 'P412086', 'P425242', 'P412085', 'P427311', 'P412098', 'P425008', 'P447378', 'P447377', 'P412084', 'P463074', 'P412093', 'P412099', 'P427317', 'P412092', 'P458508', 'P412107', 'P425007', 'P427316', 'P427319', 'P452428', 'P427320', 'P427313', 'P427307', 'P425012', 'P412089', 'P427321', 'P458509', 'P412088', 'P427318', 'P427324', 'P427314', 'P427312', 'P427323', 'P477204', 'P463073', 'P427310', 'P427322', 'P467967', 'P504835', 'P504824', 'P503143', 'P502707', 'P502757', 'P504148', 'P504161', 'P504173', 'P504186', 'P504184', 'P504155', 'P504130', 'P504157', 'P504172', 'P504165', 'P428224', 'P447376', 'P433172', 'P441831', 'P433173', 'P461483', 'P469856', 'P443331', 'P443332', 'P482541', 'P476895', 'P500624', 'P504622', 'P469097', 'P469076', 'P469093', 'P469096', 'P469195', 'P469155', 'P469099', 'P479978', 'P469169', 'P481140', 'P469163', 'P469115', 'P469186', 'P469157', 'P481141', 'P481139', 'P469092', 'P469130', 'P469180', 'P469173', 'P469105', 'P469185', 'P469174', 'P469164', 'P500038', 'P469144', 'P469033', 'P469101', 'P469168', 'P469191', 'P469194', 'P469171', 'P469106', 'P469108', 'P469095', 'P469199', 'P469037', 'P469061', 'P469114', 'P469172', 'P469041', 'P469046', 'P469167', 'P469057', 'P469059', 'P469040', 'P469179', 'P469178', 'P469060', 'P469109', 'P500863', 'P469056', 'P469090', 'P469188', 'P469192', 'P469104', 'P469038', 'P469031', 'P474368', 'P469205', 'P469103', 'P469062', 'P504624', 'P469102', 'P504619', 'P471274', 'P469182', 'P504598', 'P501779', 'P500871', 'P457223', 'P428222', 'P406922', 'P434221', 'P406665', 'P466430', 'P419005', 'P483508', 'P472330', 'P420948', 'P455865', 'P457420', 'P479723', 'P406666', 'P455864', 'P458951', 'P411727', 'P427703', 'P430851', 'P449136', 'P466429', 'P503707', 'P407610', 'P455862', 'P455863', 'P455860', 'P455861', 'P483509', 'P471057', 'P469822', 'P458952', 'P501195', 'P469823', 'P466674', 'P474849', 'P474851', 'P475986', 'P474852', 'P475974', 'P475996', 'P501812', 'P475999', 'P475987', 'P475976', 'P475971', 'P477001', 'P500996', 'P475997', 'P475149', 'P475995', 'P475970', 'P474850', 'P480338', 'P475990', 'P475977', 'P475985', 'P475973', 'P481410', 'P475975', 'P475998', 'P475989', 'P476000', 'P475972', 'P475991', 'P504842', 'P504843', 'P475984', 'P461633', 'P461601', 'P461603', 'P461610', 'P461611', 'P461615', 'P461605', 'P461606', 'P461616', 'P461602', 'P461614', 'P461634', 'P461604', 'P461608', 'P461629', 'P474855', 'P461618', 'P461613', 'P461620', 'P461631', 'P461607', 'P461642', 'P474856', 'P461624', 'P461641', 'P461635', 'P461617', 'P461628', 'P461626', 'P461622', 'P461609', 'P461636', 'P461619', 'P461637', 'P461643', 'P461639', 'P474082', 'P474081', 'P448446', 'P407493', 'P481374', 'P503881', 'P503863', 'P501801', 'P409407', 'P453274', 'P409419', 'P409416', 'P409413', 'P409412', 'P409418', 'P453280', 'P428062', 'P453276', 'P428061', 'P428063', 'P409417', 'P483122', 'P483084', 'P453277', 'P502055', 'P409406', 'P483094', 'P502065', 'P502059', 'P502078', 'P473328', 'P473329', 'P461523', 'P500897', 'P500890', 'P482734', 'P456548', 'P460556', 'P500905', 'P471083', 'P500847', 'P454604', 'P454605', 'P403913', 'P453923', 'P434206', 'P430127', 'P475613', 'P414027', 'P414029', 'P434207', 'P403930', 'P403936', 'P442287', 'P414030', 'P434205', 'P475614', 'P461985', 'P461986', 'P469216', 'P469215', 'P403914', 'P403928', 'P461981', 'P449373', 'P461982', 'P461987', 'P449376', 'P461983', 'P403934', 'P481733', 'P403926', 'P461988', 'P481734', 'P403924', 'P461984', 'P461979', 'P469217', 'P502665', 'P449375', 'P469218', 'P454742', 'P481737', 'P449374', 'P481735', 'P481736', 'P467264', 'P477242', 'P505038', 'P500027', 'P479990', 'P467265', 'P505355', 'P505372', 'P505341', 'P505352', 'P472333', 'P472335', 'P472334', 'P472337', 'P472336', 'P472340', 'P472339', 'P472338', 'P483695', 'P500999', 'P500331', 'P459499', 'P471577', 'P471580', 'P471578', 'P471581', 'P480636', 'P480634', 'P480637', 'P501010', 'P480635', 'P480638', 'P480466', 'P480465', 'P442831', 'P481170', 'P481171', 'P481172', 'P473007', 'P473012', 'P473003', 'P473008', 'P500338', 'P473005', 'P473004', 'P473011', 'P500299', 'P500312', 'P481175', 'P500639', 'P504617', 'P473006', 'P504602', 'P504593', 'P421945', 'P421944', 'P468714', 'P406901', 'P399995', 'P399994', 'P423400', 'P399993', 'P484084', 'P421943', 'P457414', 'P442789', 'P399988', 'P399991', 'P410207', 'P431722', 'P480642', 'P472076', 'P431723', 'P447113', 'P399999', 'P452404', 'P410208', 'P447114', 'P468713', 'P473852', 'P452402', 'P502464', 'P452403', 'P417357', 'P447115', 'P500885', 'P481395', 'P399990', 'P484082', 'P399996', 'P484083', 'P500698', 'P500707', 'P448865', 'P480195', 'P448169', 'P448729', 'P448739', 'P460411', 'P480368', 'P480370', 'P455851', 'P448864', 'P480375', 'P448730', 'P480369', 'P480374', 'P480371', 'P500310', 'P460412', 'P448744', 'P468719', 'P455858', 'P476039', 'P502035', 'P468718', 'P455852', 'P468717', 'P480372', 'P455833', 'P455857', 'P504317']\n",
            "Recommended Products: ['P449139', 'P484084', 'P460556', 'P469109', 'P440278']\n",
            "\n",
            "Average Precision@5 for 5 products: 1.0000\n"
          ]
        },
        {
          "data": {
            "text/plain": [
              "1.0"
            ]
          },
          "execution_count": 111,
          "metadata": {},
          "output_type": "execute_result"
        }
      ],
      "source": [
        "def evaluate_product_recommendation(item_id, relevant_product_ids, product_df, cosine_sim_matrix, top_n=5):\n",
        "    \"\"\"\n",
        "    Evaluate product recommendations using Precision@K.\n",
        "\n",
        "    Parameters:\n",
        "    - item_id: The ID of the target product to evaluate.\n",
        "    - relevant_product_ids: A list of relevant product IDs (e.g., products in the same category).\n",
        "    - product_df: DataFrame containing product information.\n",
        "    - cosine_sim_matrix: Cosine similarity matrix between products.\n",
        "    - top_n: Number of recommendations to evaluate.\n",
        "\n",
        "    Returns:\n",
        "    - A dictionary containing precision and additional evaluation details.\n",
        "    \"\"\"\n",
        "    # Get the top-N recommendations for the target product\n",
        "    recs = generate_recommendations(item_id, num_recommendations=top_n)\n",
        "    recommended_df = recs['recommendations']\n",
        "\n",
        "    # Extract product IDs from recommendations\n",
        "    recommended_product_ids = recommended_df.index.to_list()\n",
        "    recommended_product_ids = product_df.loc[recommended_product_ids, 'product_id'].tolist()\n",
        "\n",
        "    # Calculate the intersection of recommended and relevant products\n",
        "    hits = set(recommended_product_ids).intersection(set(relevant_product_ids))\n",
        "\n",
        "    # Calculate Precision@K\n",
        "    precision = len(hits) / top_n if top_n > 0 else 0\n",
        "\n",
        "    print(f\"Evaluation for Product ID: {item_id}\")\n",
        "    print(f\"Precision@{top_n}: {precision:.4f}\")\n",
        "    print(f\"Relevant Products: {relevant_product_ids}\")\n",
        "    print(f\"Recommended Products: {recommended_product_ids}\")\n",
        "\n",
        "    return {\n",
        "        'precision': precision,\n",
        "        'hits': hits,\n",
        "        'recommended_products': recommended_product_ids\n",
        "    }\n",
        "\n",
        "\n",
        "def evaluate_multiple_products(product_ids, product_df, cosine_sim_matrix, top_n=5):\n",
        "    \"\"\"\n",
        "    Evaluate recommendations for multiple products and compute average Precision@K.\n",
        "\n",
        "    Parameters:\n",
        "    - product_ids: List of product IDs to evaluate.\n",
        "    - product_df: DataFrame containing product information.\n",
        "    - cosine_sim_matrix: Cosine similarity matrix between products.\n",
        "    - top_n: Number of recommendations to evaluate for each product.\n",
        "\n",
        "    Returns:\n",
        "    - The average Precision@K for the evaluated products.\n",
        "    \"\"\"\n",
        "    precision_scores = []\n",
        "\n",
        "    for item_id in product_ids:\n",
        "        # Define relevant products based on the primary category\n",
        "        relevant_product_ids = product_df[\n",
        "            product_df['primary_category'] == product_df.loc[product_df['product_id'] == item_id, 'primary_category'].values[0]\n",
        "        ]['product_id'].tolist()\n",
        "        relevant_product_ids = [pid for pid in relevant_product_ids if pid != item_id]  # Exclude the target item itself\n",
        "\n",
        "        # Evaluate the product\n",
        "        if relevant_product_ids:\n",
        "            result = evaluate_product_recommendation(item_id, relevant_product_ids, product_df, cosine_sim_matrix, top_n=top_n)\n",
        "            precision_scores.append(result['precision'])\n",
        "        else:\n",
        "            print(f\"[SKIP] Product {item_id} does not have relevant products.\")\n",
        "\n",
        "    # Calculate the average Precision@K\n",
        "    if precision_scores:\n",
        "        avg_precision = np.mean(precision_scores)\n",
        "        print(f\"\\nAverage Precision@{top_n} for {len(precision_scores)} products: {avg_precision:.4f}\")\n",
        "        return avg_precision\n",
        "    else:\n",
        "        print(\"No valid products for evaluation.\")\n",
        "        return 0\n",
        "\n",
        "\n",
        "# Example Usage\n",
        "sample_product_ids = product_df['product_id'].sample(5).tolist()  # Randomly sample 5 products\n",
        "evaluate_multiple_products(sample_product_ids, product_df, cosine_sim_matrix, top_n=5)"
      ]
    },
    {
      "cell_type": "markdown",
      "metadata": {
        "id": "1Br3RETh329M"
      },
      "source": [
        "### Collaborative Filtering"
      ]
    },
    {
      "cell_type": "code",
      "execution_count": null,
      "metadata": {
        "execution": {
          "iopub.execute_input": "2025-05-29T01:51:39.210631Z",
          "iopub.status.busy": "2025-05-29T01:51:39.210310Z",
          "iopub.status.idle": "2025-05-29T01:51:39.217623Z",
          "shell.execute_reply": "2025-05-29T01:51:39.216627Z",
          "shell.execute_reply.started": "2025-05-29T01:51:39.210558Z"
        },
        "id": "nVys3v0b2uMp",
        "trusted": true
      },
      "outputs": [],
      "source": [
        "def recommendation_by_author(author_id, train_df, item_similarity, top_n=10):\n",
        "    # Pivot train data to create the item-user matrix\n",
        "    item_user_matrix = train_df.pivot_table(index='product_id', columns='author_id', values='rating', fill_value=0)\n",
        "\n",
        "    # Check if the author_id exists in the matrix\n",
        "    if author_id not in item_user_matrix.columns:\n",
        "        print(f\"[SKIP] Author {author_id} is not in the training data.\")\n",
        "        return pd.DataFrame(columns=['product_id', 'score'])\n",
        "\n",
        "    # Get the ratings given by the user\n",
        "    user_ratings = item_user_matrix[author_id]\n",
        "\n",
        "    # Compute scores for all items\n",
        "    scores = item_similarity.dot(user_ratings).reshape(-1)\n",
        "    scores_df = pd.DataFrame({\n",
        "        'product_id': item_user_matrix.index,\n",
        "        'score': scores\n",
        "    })\n",
        "\n",
        "    # Exclude items the user has already rated\n",
        "    rated_items = train_df[train_df['author_id'] == author_id]['product_id'].tolist()\n",
        "    scores_df = scores_df[~scores_df['product_id'].isin(rated_items)]\n",
        "\n",
        "    # Get the top-N recommendations\n",
        "    recommended_df = scores_df.sort_values(by='score', ascending=False).head(top_n)\n",
        "\n",
        "    return recommended_df"
      ]
    },
    {
      "cell_type": "code",
      "execution_count": null,
      "metadata": {
        "execution": {
          "iopub.execute_input": "2025-05-29T01:51:39.219013Z",
          "iopub.status.busy": "2025-05-29T01:51:39.218685Z",
          "iopub.status.idle": "2025-05-29T01:51:39.243007Z",
          "shell.execute_reply": "2025-05-29T01:51:39.241993Z",
          "shell.execute_reply.started": "2025-05-29T01:51:39.218993Z"
        },
        "id": "n_ulWmZ4hK92",
        "trusted": true
      },
      "outputs": [],
      "source": [
        "def evaluate_author_recommendation(author_id, train_df, test_df, item_similarity, k=10):\n",
        "    actual_items = test_df[test_df['author_id'] == author_id]['product_id'].tolist()\n",
        "\n",
        "    if not actual_items:\n",
        "        print(f\"[SKIP] Author {author_id} has no test data.\")\n",
        "        return None\n",
        "\n",
        "    # Generate recommendations\n",
        "    recommended_df = recommendation_by_author(author_id, train_df, item_similarity, top_n=k)\n",
        "\n",
        "    if recommended_df.empty:\n",
        "        print(f\"[SKIP] No recommendations for Author {author_id}.\")\n",
        "        return None\n",
        "\n",
        "    recommended_items = recommended_df['product_id'].tolist()\n",
        "\n",
        "    # Calculate precision@k\n",
        "    precision = len(set(actual_items) & set(recommended_items)) / k\n",
        "\n",
        "    print(f\"Author {author_id} | Precision@{k}: {precision:.4f}\")\n",
        "    print(f\"Actual Items:      {actual_items}\")\n",
        "    print(f\"Recommended Items: {recommended_items}\")\n",
        "    return precision"
      ]
    },
    {
      "cell_type": "code",
      "execution_count": null,
      "metadata": {
        "colab": {
          "base_uri": "https://localhost:8080/"
        },
        "execution": {
          "iopub.execute_input": "2025-05-29T01:51:39.244905Z",
          "iopub.status.busy": "2025-05-29T01:51:39.244627Z",
          "iopub.status.idle": "2025-05-29T01:51:44.465864Z",
          "shell.execute_reply": "2025-05-29T01:51:44.464878Z",
          "shell.execute_reply.started": "2025-05-29T01:51:39.244885Z"
        },
        "id": "EzEnwOmahQLd",
        "outputId": "f3c760f0-2291-4cbe-f897-c95bb4d039e9",
        "trusted": true
      },
      "outputs": [
        {
          "name": "stdout",
          "output_type": "stream",
          "text": [
            "[SKIP] Author 21807893077 is not in the training data.\n",
            "[SKIP] No recommendations for Author 21807893077.\n",
            "[SKIP] Author 5433790284 is not in the training data.\n",
            "[SKIP] No recommendations for Author 5433790284.\n",
            "[SKIP] Author 5609454749 is not in the training data.\n",
            "[SKIP] No recommendations for Author 5609454749.\n",
            "[SKIP] Author 5572535326 is not in the training data.\n",
            "[SKIP] No recommendations for Author 5572535326.\n",
            "[SKIP] Author 20116203974 is not in the training data.\n",
            "[SKIP] No recommendations for Author 20116203974.\n",
            "No valid authors for evaluation.\n"
          ]
        },
        {
          "data": {
            "text/plain": [
              "0"
            ]
          },
          "execution_count": 114,
          "metadata": {},
          "output_type": "execute_result"
        }
      ],
      "source": [
        "def evaluate_multiple_authors(author_ids, train_df, test_df, item_similarity, k=5):\n",
        "    precision_scores = []\n",
        "\n",
        "    for author_id in author_ids:\n",
        "        score = evaluate_author_recommendation(author_id, train_df, test_df, item_similarity, k)\n",
        "        if score is not None:\n",
        "            precision_scores.append(score)\n",
        "\n",
        "    if precision_scores:\n",
        "        avg_precision = np.mean(precision_scores)\n",
        "        print(f\"\\nAverage Precision@{k} for {len(precision_scores)} authors: {avg_precision:.4f}\")\n",
        "        return avg_precision\n",
        "    else:\n",
        "        print(\"No valid authors for evaluation.\")\n",
        "        return 0\n",
        "\n",
        "# Example usage\n",
        "sample_author_ids = test_df['author_id'].unique()[:5]\n",
        "evaluate_multiple_authors(sample_author_ids, train_df, test_df, item_similarity, k=5)"
      ]
    }
  ],
  "metadata": {
    "colab": {
      "provenance": [],
      "toc_visible": true
    },
    "kaggle": {
      "accelerator": "none",
      "dataSources": [
        {
          "databundleVersionId": 6316857,
          "datasetId": 3166852,
          "sourceId": 6237358,
          "sourceType": "datasetVersion"
        }
      ],
      "dockerImageVersionId": 31040,
      "isGpuEnabled": false,
      "isInternetEnabled": false,
      "language": "python",
      "sourceType": "notebook"
    },
    "kernelspec": {
      "display_name": "Python 3",
      "language": "python",
      "name": "python3"
    },
    "language_info": {
      "codemirror_mode": {
        "name": "ipython",
        "version": 3
      },
      "file_extension": ".py",
      "mimetype": "text/x-python",
      "name": "python",
      "nbconvert_exporter": "python",
      "pygments_lexer": "ipython3",
      "version": "3.11.11"
    }
  },
  "nbformat": 4,
  "nbformat_minor": 0
}